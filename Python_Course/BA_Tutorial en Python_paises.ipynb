{
 "cells": [
  {
   "cell_type": "markdown",
   "id": "4502dc30",
   "metadata": {},
   "source": [
    "# Estadística para la Ciencia de Datos"
   ]
  },
  {
   "cell_type": "markdown",
   "id": "9dec369c",
   "metadata": {},
   "source": [
    "###  Sesión 8 Bootcamp Analytics | Tutorial en Pyhton"
   ]
  },
  {
   "cell_type": "markdown",
   "id": "5f3c5603",
   "metadata": {},
   "source": [
    "Antes de entrar a trabajar con los datos, recordemos que el primer paso de todo proyecto de analítica es el *business understanding*. Necesitamos entender el contexto del problema y el objetivo del proyecto. En este caso, se trata de una base de datos que contiene mediciones quinquenales de la expectativa de vida, la población y el PIB per cápita) para todos los países, desde 1952 hasta 2007. Es decir, estamos en un contexto de medición de indicadores sociales para rastrear el progreso social de los países. Por tanto, el objetivo del proyecto de analítica es analizar el progreso social de los países desde 1952 hasta 2007.\n",
    "\n",
    "Primero vamos a cargar algunas librerias relevantes que vamos a utilizar en esta sesión."
   ]
  },
  {
   "cell_type": "code",
   "execution_count": 13,
   "id": "1941a0e8",
   "metadata": {},
   "outputs": [],
   "source": [
    "import pandas as pd   ## Libreria para manipular y analizar datos\n",
    "import matplotlib.pyplot as plt  ## Libreria para visualizar\n",
    "import seaborn as sns   ## Libreria para visualizar\n",
    "import numpy as np  ## Libreria para operaciones numéricas\n",
    "import plotly  ## Libreria para visualizaciones interactivas\n",
    "import matplotlib.ticker as mtick  ## función para formatear en visualizaciones\n",
    "from scipy.stats import skew, kurtosis  ## funciones estadísticas"
   ]
  },
  {
   "cell_type": "markdown",
   "id": "cb46770a",
   "metadata": {},
   "source": [
    "El paso siguiente es cargar la base de datos y entender su estructura."
   ]
  },
  {
   "cell_type": "code",
   "execution_count": 14,
   "id": "6ca66416",
   "metadata": {},
   "outputs": [
    {
     "data": {
      "application/vnd.microsoft.datawrangler.viewer.v0+json": {
       "columns": [
        {
         "name": "index",
         "rawType": "int64",
         "type": "integer"
        },
        {
         "name": "country",
         "rawType": "object",
         "type": "string"
        },
        {
         "name": "continent",
         "rawType": "object",
         "type": "string"
        },
        {
         "name": "year",
         "rawType": "int64",
         "type": "integer"
        },
        {
         "name": "lifeExp",
         "rawType": "float64",
         "type": "float"
        },
        {
         "name": "pop",
         "rawType": "int64",
         "type": "integer"
        },
        {
         "name": "gdpPercap",
         "rawType": "float64",
         "type": "float"
        }
       ],
       "conversionMethod": "pd.DataFrame",
       "ref": "a482333d-f1ac-437c-b0ab-bf39fc200e4b",
       "rows": [
        [
         "0",
         "Afghanistan",
         "Asia",
         "1952",
         "28.801",
         "8425333",
         "779.4453145"
        ],
        [
         "1",
         "Afghanistan",
         "Asia",
         "1957",
         "30.332",
         "9240934",
         "820.8530296"
        ],
        [
         "2",
         "Afghanistan",
         "Asia",
         "1962",
         "31.997",
         "10267083",
         "853.10071"
        ],
        [
         "3",
         "Afghanistan",
         "Asia",
         "1967",
         "34.02",
         "11537966",
         "836.1971382"
        ],
        [
         "4",
         "Afghanistan",
         "Asia",
         "1972",
         "36.088",
         "13079460",
         "739.9811058"
        ],
        [
         "5",
         "Afghanistan",
         "Asia",
         "1977",
         "38.438",
         "14880372",
         "786.11336"
        ],
        [
         "6",
         "Afghanistan",
         "Asia",
         "1982",
         "39.854",
         "12881816",
         "978.0114388"
        ],
        [
         "7",
         "Afghanistan",
         "Asia",
         "1987",
         "40.822",
         "13867957",
         "852.3959448"
        ],
        [
         "8",
         "Afghanistan",
         "Asia",
         "1992",
         "41.674",
         "16317921",
         "649.3413952"
        ],
        [
         "9",
         "Afghanistan",
         "Asia",
         "1997",
         "41.763",
         "22227415",
         "635.341351"
        ],
        [
         "10",
         "Afghanistan",
         "Asia",
         "2002",
         "42.129",
         "25268405",
         "726.7340548"
        ],
        [
         "11",
         "Afghanistan",
         "Asia",
         "2007",
         "43.828",
         "31889923",
         "974.5803384"
        ],
        [
         "12",
         "Albania",
         "Europe",
         "1952",
         "55.23",
         "1282697",
         "1601.056136"
        ],
        [
         "13",
         "Albania",
         "Europe",
         "1957",
         "59.28",
         "1476505",
         "1942.284244"
        ],
        [
         "14",
         "Albania",
         "Europe",
         "1962",
         "64.82",
         "1728137",
         "2312.888958"
        ],
        [
         "15",
         "Albania",
         "Europe",
         "1967",
         "66.22",
         "1984060",
         "2760.196931"
        ],
        [
         "16",
         "Albania",
         "Europe",
         "1972",
         "67.69",
         "2263554",
         "3313.422188"
        ],
        [
         "17",
         "Albania",
         "Europe",
         "1977",
         "68.93",
         "2509048",
         "3533.00391"
        ],
        [
         "18",
         "Albania",
         "Europe",
         "1982",
         "70.42",
         "2780097",
         "3630.880722"
        ],
        [
         "19",
         "Albania",
         "Europe",
         "1987",
         "72.0",
         "3075321",
         "3738.932735"
        ]
       ],
       "shape": {
        "columns": 6,
        "rows": 20
       }
      },
      "text/html": [
       "<div>\n",
       "<style scoped>\n",
       "    .dataframe tbody tr th:only-of-type {\n",
       "        vertical-align: middle;\n",
       "    }\n",
       "\n",
       "    .dataframe tbody tr th {\n",
       "        vertical-align: top;\n",
       "    }\n",
       "\n",
       "    .dataframe thead th {\n",
       "        text-align: right;\n",
       "    }\n",
       "</style>\n",
       "<table border=\"1\" class=\"dataframe\">\n",
       "  <thead>\n",
       "    <tr style=\"text-align: right;\">\n",
       "      <th></th>\n",
       "      <th>country</th>\n",
       "      <th>continent</th>\n",
       "      <th>year</th>\n",
       "      <th>lifeExp</th>\n",
       "      <th>pop</th>\n",
       "      <th>gdpPercap</th>\n",
       "    </tr>\n",
       "  </thead>\n",
       "  <tbody>\n",
       "    <tr>\n",
       "      <th>0</th>\n",
       "      <td>Afghanistan</td>\n",
       "      <td>Asia</td>\n",
       "      <td>1952</td>\n",
       "      <td>28.801</td>\n",
       "      <td>8425333</td>\n",
       "      <td>779.445314</td>\n",
       "    </tr>\n",
       "    <tr>\n",
       "      <th>1</th>\n",
       "      <td>Afghanistan</td>\n",
       "      <td>Asia</td>\n",
       "      <td>1957</td>\n",
       "      <td>30.332</td>\n",
       "      <td>9240934</td>\n",
       "      <td>820.853030</td>\n",
       "    </tr>\n",
       "    <tr>\n",
       "      <th>2</th>\n",
       "      <td>Afghanistan</td>\n",
       "      <td>Asia</td>\n",
       "      <td>1962</td>\n",
       "      <td>31.997</td>\n",
       "      <td>10267083</td>\n",
       "      <td>853.100710</td>\n",
       "    </tr>\n",
       "    <tr>\n",
       "      <th>3</th>\n",
       "      <td>Afghanistan</td>\n",
       "      <td>Asia</td>\n",
       "      <td>1967</td>\n",
       "      <td>34.020</td>\n",
       "      <td>11537966</td>\n",
       "      <td>836.197138</td>\n",
       "    </tr>\n",
       "    <tr>\n",
       "      <th>4</th>\n",
       "      <td>Afghanistan</td>\n",
       "      <td>Asia</td>\n",
       "      <td>1972</td>\n",
       "      <td>36.088</td>\n",
       "      <td>13079460</td>\n",
       "      <td>739.981106</td>\n",
       "    </tr>\n",
       "    <tr>\n",
       "      <th>5</th>\n",
       "      <td>Afghanistan</td>\n",
       "      <td>Asia</td>\n",
       "      <td>1977</td>\n",
       "      <td>38.438</td>\n",
       "      <td>14880372</td>\n",
       "      <td>786.113360</td>\n",
       "    </tr>\n",
       "    <tr>\n",
       "      <th>6</th>\n",
       "      <td>Afghanistan</td>\n",
       "      <td>Asia</td>\n",
       "      <td>1982</td>\n",
       "      <td>39.854</td>\n",
       "      <td>12881816</td>\n",
       "      <td>978.011439</td>\n",
       "    </tr>\n",
       "    <tr>\n",
       "      <th>7</th>\n",
       "      <td>Afghanistan</td>\n",
       "      <td>Asia</td>\n",
       "      <td>1987</td>\n",
       "      <td>40.822</td>\n",
       "      <td>13867957</td>\n",
       "      <td>852.395945</td>\n",
       "    </tr>\n",
       "    <tr>\n",
       "      <th>8</th>\n",
       "      <td>Afghanistan</td>\n",
       "      <td>Asia</td>\n",
       "      <td>1992</td>\n",
       "      <td>41.674</td>\n",
       "      <td>16317921</td>\n",
       "      <td>649.341395</td>\n",
       "    </tr>\n",
       "    <tr>\n",
       "      <th>9</th>\n",
       "      <td>Afghanistan</td>\n",
       "      <td>Asia</td>\n",
       "      <td>1997</td>\n",
       "      <td>41.763</td>\n",
       "      <td>22227415</td>\n",
       "      <td>635.341351</td>\n",
       "    </tr>\n",
       "    <tr>\n",
       "      <th>10</th>\n",
       "      <td>Afghanistan</td>\n",
       "      <td>Asia</td>\n",
       "      <td>2002</td>\n",
       "      <td>42.129</td>\n",
       "      <td>25268405</td>\n",
       "      <td>726.734055</td>\n",
       "    </tr>\n",
       "    <tr>\n",
       "      <th>11</th>\n",
       "      <td>Afghanistan</td>\n",
       "      <td>Asia</td>\n",
       "      <td>2007</td>\n",
       "      <td>43.828</td>\n",
       "      <td>31889923</td>\n",
       "      <td>974.580338</td>\n",
       "    </tr>\n",
       "    <tr>\n",
       "      <th>12</th>\n",
       "      <td>Albania</td>\n",
       "      <td>Europe</td>\n",
       "      <td>1952</td>\n",
       "      <td>55.230</td>\n",
       "      <td>1282697</td>\n",
       "      <td>1601.056136</td>\n",
       "    </tr>\n",
       "    <tr>\n",
       "      <th>13</th>\n",
       "      <td>Albania</td>\n",
       "      <td>Europe</td>\n",
       "      <td>1957</td>\n",
       "      <td>59.280</td>\n",
       "      <td>1476505</td>\n",
       "      <td>1942.284244</td>\n",
       "    </tr>\n",
       "    <tr>\n",
       "      <th>14</th>\n",
       "      <td>Albania</td>\n",
       "      <td>Europe</td>\n",
       "      <td>1962</td>\n",
       "      <td>64.820</td>\n",
       "      <td>1728137</td>\n",
       "      <td>2312.888958</td>\n",
       "    </tr>\n",
       "    <tr>\n",
       "      <th>15</th>\n",
       "      <td>Albania</td>\n",
       "      <td>Europe</td>\n",
       "      <td>1967</td>\n",
       "      <td>66.220</td>\n",
       "      <td>1984060</td>\n",
       "      <td>2760.196931</td>\n",
       "    </tr>\n",
       "    <tr>\n",
       "      <th>16</th>\n",
       "      <td>Albania</td>\n",
       "      <td>Europe</td>\n",
       "      <td>1972</td>\n",
       "      <td>67.690</td>\n",
       "      <td>2263554</td>\n",
       "      <td>3313.422188</td>\n",
       "    </tr>\n",
       "    <tr>\n",
       "      <th>17</th>\n",
       "      <td>Albania</td>\n",
       "      <td>Europe</td>\n",
       "      <td>1977</td>\n",
       "      <td>68.930</td>\n",
       "      <td>2509048</td>\n",
       "      <td>3533.003910</td>\n",
       "    </tr>\n",
       "    <tr>\n",
       "      <th>18</th>\n",
       "      <td>Albania</td>\n",
       "      <td>Europe</td>\n",
       "      <td>1982</td>\n",
       "      <td>70.420</td>\n",
       "      <td>2780097</td>\n",
       "      <td>3630.880722</td>\n",
       "    </tr>\n",
       "    <tr>\n",
       "      <th>19</th>\n",
       "      <td>Albania</td>\n",
       "      <td>Europe</td>\n",
       "      <td>1987</td>\n",
       "      <td>72.000</td>\n",
       "      <td>3075321</td>\n",
       "      <td>3738.932735</td>\n",
       "    </tr>\n",
       "  </tbody>\n",
       "</table>\n",
       "</div>"
      ],
      "text/plain": [
       "        country continent  year  lifeExp       pop    gdpPercap\n",
       "0   Afghanistan      Asia  1952   28.801   8425333   779.445314\n",
       "1   Afghanistan      Asia  1957   30.332   9240934   820.853030\n",
       "2   Afghanistan      Asia  1962   31.997  10267083   853.100710\n",
       "3   Afghanistan      Asia  1967   34.020  11537966   836.197138\n",
       "4   Afghanistan      Asia  1972   36.088  13079460   739.981106\n",
       "5   Afghanistan      Asia  1977   38.438  14880372   786.113360\n",
       "6   Afghanistan      Asia  1982   39.854  12881816   978.011439\n",
       "7   Afghanistan      Asia  1987   40.822  13867957   852.395945\n",
       "8   Afghanistan      Asia  1992   41.674  16317921   649.341395\n",
       "9   Afghanistan      Asia  1997   41.763  22227415   635.341351\n",
       "10  Afghanistan      Asia  2002   42.129  25268405   726.734055\n",
       "11  Afghanistan      Asia  2007   43.828  31889923   974.580338\n",
       "12      Albania    Europe  1952   55.230   1282697  1601.056136\n",
       "13      Albania    Europe  1957   59.280   1476505  1942.284244\n",
       "14      Albania    Europe  1962   64.820   1728137  2312.888958\n",
       "15      Albania    Europe  1967   66.220   1984060  2760.196931\n",
       "16      Albania    Europe  1972   67.690   2263554  3313.422188\n",
       "17      Albania    Europe  1977   68.930   2509048  3533.003910\n",
       "18      Albania    Europe  1982   70.420   2780097  3630.880722\n",
       "19      Albania    Europe  1987   72.000   3075321  3738.932735"
      ]
     },
     "execution_count": 14,
     "metadata": {},
     "output_type": "execute_result"
    }
   ],
   "source": [
    "file_path = r\"C:\\Users\\decas\\OneDrive\\Documentos\\Daniel\\10. Bootcamp Analytics\\Sesión 8\\Gapminder.xlsx\"\n",
    "\n",
    "base=pd.read_excel(file_path)\n",
    "base.head(20)"
   ]
  },
  {
   "cell_type": "markdown",
   "id": "564e5987",
   "metadata": {},
   "source": [
    "Podemos también revisar los tipos de columna."
   ]
  },
  {
   "cell_type": "code",
   "execution_count": 15,
   "id": "765ef38a",
   "metadata": {},
   "outputs": [
    {
     "data": {
      "text/plain": [
       "country       object\n",
       "continent     object\n",
       "year           int64\n",
       "lifeExp      float64\n",
       "pop            int64\n",
       "gdpPercap    float64\n",
       "dtype: object"
      ]
     },
     "execution_count": 15,
     "metadata": {},
     "output_type": "execute_result"
    }
   ],
   "source": [
    "base.dtypes"
   ]
  },
  {
   "cell_type": "markdown",
   "id": "88b1b258",
   "metadata": {},
   "source": [
    "## Preparación de datos\n",
    "Vamos a repasar algunos procedimientos para preparar datos. Vamos a ver 5: eliminación de columnas, filtros, reordenar filas, renombrar columnas y creación de columnas nuevas. \n",
    "\n",
    "Supongamos que deseamos eliminar columnas, por ejemplo si quisieramos solo enfocarnos en PIB per cápita y no en los otros dos indicadores:"
   ]
  },
  {
   "cell_type": "code",
   "execution_count": 16,
   "id": "0848e0f8",
   "metadata": {},
   "outputs": [
    {
     "data": {
      "application/vnd.microsoft.datawrangler.viewer.v0+json": {
       "columns": [
        {
         "name": "index",
         "rawType": "int64",
         "type": "integer"
        },
        {
         "name": "country",
         "rawType": "object",
         "type": "string"
        },
        {
         "name": "continent",
         "rawType": "object",
         "type": "string"
        },
        {
         "name": "year",
         "rawType": "int64",
         "type": "integer"
        },
        {
         "name": "gdpPercap",
         "rawType": "float64",
         "type": "float"
        }
       ],
       "conversionMethod": "pd.DataFrame",
       "ref": "ffa5bb74-217e-4055-bc34-7a32efb29076",
       "rows": [
        [
         "0",
         "Afghanistan",
         "Asia",
         "1952",
         "779.4453145"
        ],
        [
         "1",
         "Afghanistan",
         "Asia",
         "1957",
         "820.8530296"
        ],
        [
         "2",
         "Afghanistan",
         "Asia",
         "1962",
         "853.10071"
        ],
        [
         "3",
         "Afghanistan",
         "Asia",
         "1967",
         "836.1971382"
        ],
        [
         "4",
         "Afghanistan",
         "Asia",
         "1972",
         "739.9811058"
        ],
        [
         "5",
         "Afghanistan",
         "Asia",
         "1977",
         "786.11336"
        ],
        [
         "6",
         "Afghanistan",
         "Asia",
         "1982",
         "978.0114388"
        ],
        [
         "7",
         "Afghanistan",
         "Asia",
         "1987",
         "852.3959448"
        ],
        [
         "8",
         "Afghanistan",
         "Asia",
         "1992",
         "649.3413952"
        ],
        [
         "9",
         "Afghanistan",
         "Asia",
         "1997",
         "635.341351"
        ],
        [
         "10",
         "Afghanistan",
         "Asia",
         "2002",
         "726.7340548"
        ],
        [
         "11",
         "Afghanistan",
         "Asia",
         "2007",
         "974.5803384"
        ],
        [
         "12",
         "Albania",
         "Europe",
         "1952",
         "1601.056136"
        ],
        [
         "13",
         "Albania",
         "Europe",
         "1957",
         "1942.284244"
        ],
        [
         "14",
         "Albania",
         "Europe",
         "1962",
         "2312.888958"
        ],
        [
         "15",
         "Albania",
         "Europe",
         "1967",
         "2760.196931"
        ],
        [
         "16",
         "Albania",
         "Europe",
         "1972",
         "3313.422188"
        ],
        [
         "17",
         "Albania",
         "Europe",
         "1977",
         "3533.00391"
        ],
        [
         "18",
         "Albania",
         "Europe",
         "1982",
         "3630.880722"
        ],
        [
         "19",
         "Albania",
         "Europe",
         "1987",
         "3738.932735"
        ],
        [
         "20",
         "Albania",
         "Europe",
         "1992",
         "2497.437901"
        ],
        [
         "21",
         "Albania",
         "Europe",
         "1997",
         "3193.054604"
        ],
        [
         "22",
         "Albania",
         "Europe",
         "2002",
         "4604.211737"
        ],
        [
         "23",
         "Albania",
         "Europe",
         "2007",
         "5937.029526"
        ],
        [
         "24",
         "Algeria",
         "Africa",
         "1952",
         "2449.008185"
        ],
        [
         "25",
         "Algeria",
         "Africa",
         "1957",
         "3013.976023"
        ],
        [
         "26",
         "Algeria",
         "Africa",
         "1962",
         "2550.81688"
        ],
        [
         "27",
         "Algeria",
         "Africa",
         "1967",
         "3246.991771"
        ],
        [
         "28",
         "Algeria",
         "Africa",
         "1972",
         "4182.663766"
        ],
        [
         "29",
         "Algeria",
         "Africa",
         "1977",
         "4910.416756"
        ],
        [
         "30",
         "Algeria",
         "Africa",
         "1982",
         "5745.160213"
        ],
        [
         "31",
         "Algeria",
         "Africa",
         "1987",
         "5681.358539"
        ],
        [
         "32",
         "Algeria",
         "Africa",
         "1992",
         "5023.216647"
        ],
        [
         "33",
         "Algeria",
         "Africa",
         "1997",
         "4797.295051"
        ],
        [
         "34",
         "Algeria",
         "Africa",
         "2002",
         "5288.040382"
        ],
        [
         "35",
         "Algeria",
         "Africa",
         "2007",
         "6223.367465"
        ],
        [
         "36",
         "Angola",
         "Africa",
         "1952",
         "3520.610273"
        ],
        [
         "37",
         "Angola",
         "Africa",
         "1957",
         "3827.940465"
        ],
        [
         "38",
         "Angola",
         "Africa",
         "1962",
         "4269.276742"
        ],
        [
         "39",
         "Angola",
         "Africa",
         "1967",
         "5522.776375"
        ],
        [
         "40",
         "Angola",
         "Africa",
         "1972",
         "5473.288005"
        ],
        [
         "41",
         "Angola",
         "Africa",
         "1977",
         "3008.647355"
        ],
        [
         "42",
         "Angola",
         "Africa",
         "1982",
         "2756.953672"
        ],
        [
         "43",
         "Angola",
         "Africa",
         "1987",
         "2430.208311"
        ],
        [
         "44",
         "Angola",
         "Africa",
         "1992",
         "2627.845685"
        ],
        [
         "45",
         "Angola",
         "Africa",
         "1997",
         "2277.140884"
        ],
        [
         "46",
         "Angola",
         "Africa",
         "2002",
         "2773.287312"
        ],
        [
         "47",
         "Angola",
         "Africa",
         "2007",
         "4797.231267"
        ],
        [
         "48",
         "Argentina",
         "Americas",
         "1952",
         "5911.315053"
        ],
        [
         "49",
         "Argentina",
         "Americas",
         "1957",
         "6856.856212"
        ]
       ],
       "shape": {
        "columns": 4,
        "rows": 1704
       }
      },
      "text/html": [
       "<div>\n",
       "<style scoped>\n",
       "    .dataframe tbody tr th:only-of-type {\n",
       "        vertical-align: middle;\n",
       "    }\n",
       "\n",
       "    .dataframe tbody tr th {\n",
       "        vertical-align: top;\n",
       "    }\n",
       "\n",
       "    .dataframe thead th {\n",
       "        text-align: right;\n",
       "    }\n",
       "</style>\n",
       "<table border=\"1\" class=\"dataframe\">\n",
       "  <thead>\n",
       "    <tr style=\"text-align: right;\">\n",
       "      <th></th>\n",
       "      <th>country</th>\n",
       "      <th>continent</th>\n",
       "      <th>year</th>\n",
       "      <th>gdpPercap</th>\n",
       "    </tr>\n",
       "  </thead>\n",
       "  <tbody>\n",
       "    <tr>\n",
       "      <th>0</th>\n",
       "      <td>Afghanistan</td>\n",
       "      <td>Asia</td>\n",
       "      <td>1952</td>\n",
       "      <td>779.445314</td>\n",
       "    </tr>\n",
       "    <tr>\n",
       "      <th>1</th>\n",
       "      <td>Afghanistan</td>\n",
       "      <td>Asia</td>\n",
       "      <td>1957</td>\n",
       "      <td>820.853030</td>\n",
       "    </tr>\n",
       "    <tr>\n",
       "      <th>2</th>\n",
       "      <td>Afghanistan</td>\n",
       "      <td>Asia</td>\n",
       "      <td>1962</td>\n",
       "      <td>853.100710</td>\n",
       "    </tr>\n",
       "    <tr>\n",
       "      <th>3</th>\n",
       "      <td>Afghanistan</td>\n",
       "      <td>Asia</td>\n",
       "      <td>1967</td>\n",
       "      <td>836.197138</td>\n",
       "    </tr>\n",
       "    <tr>\n",
       "      <th>4</th>\n",
       "      <td>Afghanistan</td>\n",
       "      <td>Asia</td>\n",
       "      <td>1972</td>\n",
       "      <td>739.981106</td>\n",
       "    </tr>\n",
       "    <tr>\n",
       "      <th>...</th>\n",
       "      <td>...</td>\n",
       "      <td>...</td>\n",
       "      <td>...</td>\n",
       "      <td>...</td>\n",
       "    </tr>\n",
       "    <tr>\n",
       "      <th>1699</th>\n",
       "      <td>Zimbabwe</td>\n",
       "      <td>Africa</td>\n",
       "      <td>1987</td>\n",
       "      <td>706.157306</td>\n",
       "    </tr>\n",
       "    <tr>\n",
       "      <th>1700</th>\n",
       "      <td>Zimbabwe</td>\n",
       "      <td>Africa</td>\n",
       "      <td>1992</td>\n",
       "      <td>693.420786</td>\n",
       "    </tr>\n",
       "    <tr>\n",
       "      <th>1701</th>\n",
       "      <td>Zimbabwe</td>\n",
       "      <td>Africa</td>\n",
       "      <td>1997</td>\n",
       "      <td>792.449960</td>\n",
       "    </tr>\n",
       "    <tr>\n",
       "      <th>1702</th>\n",
       "      <td>Zimbabwe</td>\n",
       "      <td>Africa</td>\n",
       "      <td>2002</td>\n",
       "      <td>672.038623</td>\n",
       "    </tr>\n",
       "    <tr>\n",
       "      <th>1703</th>\n",
       "      <td>Zimbabwe</td>\n",
       "      <td>Africa</td>\n",
       "      <td>2007</td>\n",
       "      <td>469.709298</td>\n",
       "    </tr>\n",
       "  </tbody>\n",
       "</table>\n",
       "<p>1704 rows × 4 columns</p>\n",
       "</div>"
      ],
      "text/plain": [
       "          country continent  year   gdpPercap\n",
       "0     Afghanistan      Asia  1952  779.445314\n",
       "1     Afghanistan      Asia  1957  820.853030\n",
       "2     Afghanistan      Asia  1962  853.100710\n",
       "3     Afghanistan      Asia  1967  836.197138\n",
       "4     Afghanistan      Asia  1972  739.981106\n",
       "...           ...       ...   ...         ...\n",
       "1699     Zimbabwe    Africa  1987  706.157306\n",
       "1700     Zimbabwe    Africa  1992  693.420786\n",
       "1701     Zimbabwe    Africa  1997  792.449960\n",
       "1702     Zimbabwe    Africa  2002  672.038623\n",
       "1703     Zimbabwe    Africa  2007  469.709298\n",
       "\n",
       "[1704 rows x 4 columns]"
      ]
     },
     "execution_count": 16,
     "metadata": {},
     "output_type": "execute_result"
    }
   ],
   "source": [
    "base_pib=base[['country','continent','year','gdpPercap']]\n",
    "base_pib"
   ]
  },
  {
   "cell_type": "markdown",
   "id": "3f5d1de0",
   "metadata": {},
   "source": [
    "La otra opción para cumplir con esta tarea es usar la función *drop*:"
   ]
  },
  {
   "cell_type": "code",
   "execution_count": 17,
   "id": "48362729",
   "metadata": {},
   "outputs": [
    {
     "data": {
      "application/vnd.microsoft.datawrangler.viewer.v0+json": {
       "columns": [
        {
         "name": "index",
         "rawType": "int64",
         "type": "integer"
        },
        {
         "name": "country",
         "rawType": "object",
         "type": "string"
        },
        {
         "name": "continent",
         "rawType": "object",
         "type": "string"
        },
        {
         "name": "year",
         "rawType": "int64",
         "type": "integer"
        },
        {
         "name": "gdpPercap",
         "rawType": "float64",
         "type": "float"
        }
       ],
       "conversionMethod": "pd.DataFrame",
       "ref": "f674e9a8-673b-49a1-8dfa-6461114e0095",
       "rows": [
        [
         "0",
         "Afghanistan",
         "Asia",
         "1952",
         "779.4453145"
        ],
        [
         "1",
         "Afghanistan",
         "Asia",
         "1957",
         "820.8530296"
        ],
        [
         "2",
         "Afghanistan",
         "Asia",
         "1962",
         "853.10071"
        ],
        [
         "3",
         "Afghanistan",
         "Asia",
         "1967",
         "836.1971382"
        ],
        [
         "4",
         "Afghanistan",
         "Asia",
         "1972",
         "739.9811058"
        ],
        [
         "5",
         "Afghanistan",
         "Asia",
         "1977",
         "786.11336"
        ],
        [
         "6",
         "Afghanistan",
         "Asia",
         "1982",
         "978.0114388"
        ],
        [
         "7",
         "Afghanistan",
         "Asia",
         "1987",
         "852.3959448"
        ],
        [
         "8",
         "Afghanistan",
         "Asia",
         "1992",
         "649.3413952"
        ],
        [
         "9",
         "Afghanistan",
         "Asia",
         "1997",
         "635.341351"
        ],
        [
         "10",
         "Afghanistan",
         "Asia",
         "2002",
         "726.7340548"
        ],
        [
         "11",
         "Afghanistan",
         "Asia",
         "2007",
         "974.5803384"
        ],
        [
         "12",
         "Albania",
         "Europe",
         "1952",
         "1601.056136"
        ],
        [
         "13",
         "Albania",
         "Europe",
         "1957",
         "1942.284244"
        ],
        [
         "14",
         "Albania",
         "Europe",
         "1962",
         "2312.888958"
        ],
        [
         "15",
         "Albania",
         "Europe",
         "1967",
         "2760.196931"
        ],
        [
         "16",
         "Albania",
         "Europe",
         "1972",
         "3313.422188"
        ],
        [
         "17",
         "Albania",
         "Europe",
         "1977",
         "3533.00391"
        ],
        [
         "18",
         "Albania",
         "Europe",
         "1982",
         "3630.880722"
        ],
        [
         "19",
         "Albania",
         "Europe",
         "1987",
         "3738.932735"
        ],
        [
         "20",
         "Albania",
         "Europe",
         "1992",
         "2497.437901"
        ],
        [
         "21",
         "Albania",
         "Europe",
         "1997",
         "3193.054604"
        ],
        [
         "22",
         "Albania",
         "Europe",
         "2002",
         "4604.211737"
        ],
        [
         "23",
         "Albania",
         "Europe",
         "2007",
         "5937.029526"
        ],
        [
         "24",
         "Algeria",
         "Africa",
         "1952",
         "2449.008185"
        ],
        [
         "25",
         "Algeria",
         "Africa",
         "1957",
         "3013.976023"
        ],
        [
         "26",
         "Algeria",
         "Africa",
         "1962",
         "2550.81688"
        ],
        [
         "27",
         "Algeria",
         "Africa",
         "1967",
         "3246.991771"
        ],
        [
         "28",
         "Algeria",
         "Africa",
         "1972",
         "4182.663766"
        ],
        [
         "29",
         "Algeria",
         "Africa",
         "1977",
         "4910.416756"
        ],
        [
         "30",
         "Algeria",
         "Africa",
         "1982",
         "5745.160213"
        ],
        [
         "31",
         "Algeria",
         "Africa",
         "1987",
         "5681.358539"
        ],
        [
         "32",
         "Algeria",
         "Africa",
         "1992",
         "5023.216647"
        ],
        [
         "33",
         "Algeria",
         "Africa",
         "1997",
         "4797.295051"
        ],
        [
         "34",
         "Algeria",
         "Africa",
         "2002",
         "5288.040382"
        ],
        [
         "35",
         "Algeria",
         "Africa",
         "2007",
         "6223.367465"
        ],
        [
         "36",
         "Angola",
         "Africa",
         "1952",
         "3520.610273"
        ],
        [
         "37",
         "Angola",
         "Africa",
         "1957",
         "3827.940465"
        ],
        [
         "38",
         "Angola",
         "Africa",
         "1962",
         "4269.276742"
        ],
        [
         "39",
         "Angola",
         "Africa",
         "1967",
         "5522.776375"
        ],
        [
         "40",
         "Angola",
         "Africa",
         "1972",
         "5473.288005"
        ],
        [
         "41",
         "Angola",
         "Africa",
         "1977",
         "3008.647355"
        ],
        [
         "42",
         "Angola",
         "Africa",
         "1982",
         "2756.953672"
        ],
        [
         "43",
         "Angola",
         "Africa",
         "1987",
         "2430.208311"
        ],
        [
         "44",
         "Angola",
         "Africa",
         "1992",
         "2627.845685"
        ],
        [
         "45",
         "Angola",
         "Africa",
         "1997",
         "2277.140884"
        ],
        [
         "46",
         "Angola",
         "Africa",
         "2002",
         "2773.287312"
        ],
        [
         "47",
         "Angola",
         "Africa",
         "2007",
         "4797.231267"
        ],
        [
         "48",
         "Argentina",
         "Americas",
         "1952",
         "5911.315053"
        ],
        [
         "49",
         "Argentina",
         "Americas",
         "1957",
         "6856.856212"
        ]
       ],
       "shape": {
        "columns": 4,
        "rows": 1704
       }
      },
      "text/html": [
       "<div>\n",
       "<style scoped>\n",
       "    .dataframe tbody tr th:only-of-type {\n",
       "        vertical-align: middle;\n",
       "    }\n",
       "\n",
       "    .dataframe tbody tr th {\n",
       "        vertical-align: top;\n",
       "    }\n",
       "\n",
       "    .dataframe thead th {\n",
       "        text-align: right;\n",
       "    }\n",
       "</style>\n",
       "<table border=\"1\" class=\"dataframe\">\n",
       "  <thead>\n",
       "    <tr style=\"text-align: right;\">\n",
       "      <th></th>\n",
       "      <th>country</th>\n",
       "      <th>continent</th>\n",
       "      <th>year</th>\n",
       "      <th>gdpPercap</th>\n",
       "    </tr>\n",
       "  </thead>\n",
       "  <tbody>\n",
       "    <tr>\n",
       "      <th>0</th>\n",
       "      <td>Afghanistan</td>\n",
       "      <td>Asia</td>\n",
       "      <td>1952</td>\n",
       "      <td>779.445314</td>\n",
       "    </tr>\n",
       "    <tr>\n",
       "      <th>1</th>\n",
       "      <td>Afghanistan</td>\n",
       "      <td>Asia</td>\n",
       "      <td>1957</td>\n",
       "      <td>820.853030</td>\n",
       "    </tr>\n",
       "    <tr>\n",
       "      <th>2</th>\n",
       "      <td>Afghanistan</td>\n",
       "      <td>Asia</td>\n",
       "      <td>1962</td>\n",
       "      <td>853.100710</td>\n",
       "    </tr>\n",
       "    <tr>\n",
       "      <th>3</th>\n",
       "      <td>Afghanistan</td>\n",
       "      <td>Asia</td>\n",
       "      <td>1967</td>\n",
       "      <td>836.197138</td>\n",
       "    </tr>\n",
       "    <tr>\n",
       "      <th>4</th>\n",
       "      <td>Afghanistan</td>\n",
       "      <td>Asia</td>\n",
       "      <td>1972</td>\n",
       "      <td>739.981106</td>\n",
       "    </tr>\n",
       "    <tr>\n",
       "      <th>...</th>\n",
       "      <td>...</td>\n",
       "      <td>...</td>\n",
       "      <td>...</td>\n",
       "      <td>...</td>\n",
       "    </tr>\n",
       "    <tr>\n",
       "      <th>1699</th>\n",
       "      <td>Zimbabwe</td>\n",
       "      <td>Africa</td>\n",
       "      <td>1987</td>\n",
       "      <td>706.157306</td>\n",
       "    </tr>\n",
       "    <tr>\n",
       "      <th>1700</th>\n",
       "      <td>Zimbabwe</td>\n",
       "      <td>Africa</td>\n",
       "      <td>1992</td>\n",
       "      <td>693.420786</td>\n",
       "    </tr>\n",
       "    <tr>\n",
       "      <th>1701</th>\n",
       "      <td>Zimbabwe</td>\n",
       "      <td>Africa</td>\n",
       "      <td>1997</td>\n",
       "      <td>792.449960</td>\n",
       "    </tr>\n",
       "    <tr>\n",
       "      <th>1702</th>\n",
       "      <td>Zimbabwe</td>\n",
       "      <td>Africa</td>\n",
       "      <td>2002</td>\n",
       "      <td>672.038623</td>\n",
       "    </tr>\n",
       "    <tr>\n",
       "      <th>1703</th>\n",
       "      <td>Zimbabwe</td>\n",
       "      <td>Africa</td>\n",
       "      <td>2007</td>\n",
       "      <td>469.709298</td>\n",
       "    </tr>\n",
       "  </tbody>\n",
       "</table>\n",
       "<p>1704 rows × 4 columns</p>\n",
       "</div>"
      ],
      "text/plain": [
       "          country continent  year   gdpPercap\n",
       "0     Afghanistan      Asia  1952  779.445314\n",
       "1     Afghanistan      Asia  1957  820.853030\n",
       "2     Afghanistan      Asia  1962  853.100710\n",
       "3     Afghanistan      Asia  1967  836.197138\n",
       "4     Afghanistan      Asia  1972  739.981106\n",
       "...           ...       ...   ...         ...\n",
       "1699     Zimbabwe    Africa  1987  706.157306\n",
       "1700     Zimbabwe    Africa  1992  693.420786\n",
       "1701     Zimbabwe    Africa  1997  792.449960\n",
       "1702     Zimbabwe    Africa  2002  672.038623\n",
       "1703     Zimbabwe    Africa  2007  469.709298\n",
       "\n",
       "[1704 rows x 4 columns]"
      ]
     },
     "execution_count": 17,
     "metadata": {},
     "output_type": "execute_result"
    }
   ],
   "source": [
    "base_pib=base.drop(columns=['lifeExp','pop'])\n",
    "base_pib"
   ]
  },
  {
   "cell_type": "markdown",
   "id": "66215afb",
   "metadata": {},
   "source": [
    "También se podrían utilizar los índices de las columnas:"
   ]
  },
  {
   "cell_type": "code",
   "execution_count": 18,
   "id": "6e4c37c9",
   "metadata": {},
   "outputs": [
    {
     "data": {
      "application/vnd.microsoft.datawrangler.viewer.v0+json": {
       "columns": [
        {
         "name": "index",
         "rawType": "int64",
         "type": "integer"
        },
        {
         "name": "country",
         "rawType": "object",
         "type": "string"
        },
        {
         "name": "continent",
         "rawType": "object",
         "type": "string"
        },
        {
         "name": "year",
         "rawType": "int64",
         "type": "integer"
        },
        {
         "name": "gdpPercap",
         "rawType": "float64",
         "type": "float"
        }
       ],
       "conversionMethod": "pd.DataFrame",
       "ref": "36346708-796e-4d97-90ad-4b0f55af9454",
       "rows": [
        [
         "0",
         "Afghanistan",
         "Asia",
         "1952",
         "779.4453145"
        ],
        [
         "1",
         "Afghanistan",
         "Asia",
         "1957",
         "820.8530296"
        ],
        [
         "2",
         "Afghanistan",
         "Asia",
         "1962",
         "853.10071"
        ],
        [
         "3",
         "Afghanistan",
         "Asia",
         "1967",
         "836.1971382"
        ],
        [
         "4",
         "Afghanistan",
         "Asia",
         "1972",
         "739.9811058"
        ],
        [
         "5",
         "Afghanistan",
         "Asia",
         "1977",
         "786.11336"
        ],
        [
         "6",
         "Afghanistan",
         "Asia",
         "1982",
         "978.0114388"
        ],
        [
         "7",
         "Afghanistan",
         "Asia",
         "1987",
         "852.3959448"
        ],
        [
         "8",
         "Afghanistan",
         "Asia",
         "1992",
         "649.3413952"
        ],
        [
         "9",
         "Afghanistan",
         "Asia",
         "1997",
         "635.341351"
        ],
        [
         "10",
         "Afghanistan",
         "Asia",
         "2002",
         "726.7340548"
        ],
        [
         "11",
         "Afghanistan",
         "Asia",
         "2007",
         "974.5803384"
        ],
        [
         "12",
         "Albania",
         "Europe",
         "1952",
         "1601.056136"
        ],
        [
         "13",
         "Albania",
         "Europe",
         "1957",
         "1942.284244"
        ],
        [
         "14",
         "Albania",
         "Europe",
         "1962",
         "2312.888958"
        ],
        [
         "15",
         "Albania",
         "Europe",
         "1967",
         "2760.196931"
        ],
        [
         "16",
         "Albania",
         "Europe",
         "1972",
         "3313.422188"
        ],
        [
         "17",
         "Albania",
         "Europe",
         "1977",
         "3533.00391"
        ],
        [
         "18",
         "Albania",
         "Europe",
         "1982",
         "3630.880722"
        ],
        [
         "19",
         "Albania",
         "Europe",
         "1987",
         "3738.932735"
        ],
        [
         "20",
         "Albania",
         "Europe",
         "1992",
         "2497.437901"
        ],
        [
         "21",
         "Albania",
         "Europe",
         "1997",
         "3193.054604"
        ],
        [
         "22",
         "Albania",
         "Europe",
         "2002",
         "4604.211737"
        ],
        [
         "23",
         "Albania",
         "Europe",
         "2007",
         "5937.029526"
        ],
        [
         "24",
         "Algeria",
         "Africa",
         "1952",
         "2449.008185"
        ],
        [
         "25",
         "Algeria",
         "Africa",
         "1957",
         "3013.976023"
        ],
        [
         "26",
         "Algeria",
         "Africa",
         "1962",
         "2550.81688"
        ],
        [
         "27",
         "Algeria",
         "Africa",
         "1967",
         "3246.991771"
        ],
        [
         "28",
         "Algeria",
         "Africa",
         "1972",
         "4182.663766"
        ],
        [
         "29",
         "Algeria",
         "Africa",
         "1977",
         "4910.416756"
        ],
        [
         "30",
         "Algeria",
         "Africa",
         "1982",
         "5745.160213"
        ],
        [
         "31",
         "Algeria",
         "Africa",
         "1987",
         "5681.358539"
        ],
        [
         "32",
         "Algeria",
         "Africa",
         "1992",
         "5023.216647"
        ],
        [
         "33",
         "Algeria",
         "Africa",
         "1997",
         "4797.295051"
        ],
        [
         "34",
         "Algeria",
         "Africa",
         "2002",
         "5288.040382"
        ],
        [
         "35",
         "Algeria",
         "Africa",
         "2007",
         "6223.367465"
        ],
        [
         "36",
         "Angola",
         "Africa",
         "1952",
         "3520.610273"
        ],
        [
         "37",
         "Angola",
         "Africa",
         "1957",
         "3827.940465"
        ],
        [
         "38",
         "Angola",
         "Africa",
         "1962",
         "4269.276742"
        ],
        [
         "39",
         "Angola",
         "Africa",
         "1967",
         "5522.776375"
        ],
        [
         "40",
         "Angola",
         "Africa",
         "1972",
         "5473.288005"
        ],
        [
         "41",
         "Angola",
         "Africa",
         "1977",
         "3008.647355"
        ],
        [
         "42",
         "Angola",
         "Africa",
         "1982",
         "2756.953672"
        ],
        [
         "43",
         "Angola",
         "Africa",
         "1987",
         "2430.208311"
        ],
        [
         "44",
         "Angola",
         "Africa",
         "1992",
         "2627.845685"
        ],
        [
         "45",
         "Angola",
         "Africa",
         "1997",
         "2277.140884"
        ],
        [
         "46",
         "Angola",
         "Africa",
         "2002",
         "2773.287312"
        ],
        [
         "47",
         "Angola",
         "Africa",
         "2007",
         "4797.231267"
        ],
        [
         "48",
         "Argentina",
         "Americas",
         "1952",
         "5911.315053"
        ],
        [
         "49",
         "Argentina",
         "Americas",
         "1957",
         "6856.856212"
        ]
       ],
       "shape": {
        "columns": 4,
        "rows": 1704
       }
      },
      "text/html": [
       "<div>\n",
       "<style scoped>\n",
       "    .dataframe tbody tr th:only-of-type {\n",
       "        vertical-align: middle;\n",
       "    }\n",
       "\n",
       "    .dataframe tbody tr th {\n",
       "        vertical-align: top;\n",
       "    }\n",
       "\n",
       "    .dataframe thead th {\n",
       "        text-align: right;\n",
       "    }\n",
       "</style>\n",
       "<table border=\"1\" class=\"dataframe\">\n",
       "  <thead>\n",
       "    <tr style=\"text-align: right;\">\n",
       "      <th></th>\n",
       "      <th>country</th>\n",
       "      <th>continent</th>\n",
       "      <th>year</th>\n",
       "      <th>gdpPercap</th>\n",
       "    </tr>\n",
       "  </thead>\n",
       "  <tbody>\n",
       "    <tr>\n",
       "      <th>0</th>\n",
       "      <td>Afghanistan</td>\n",
       "      <td>Asia</td>\n",
       "      <td>1952</td>\n",
       "      <td>779.445314</td>\n",
       "    </tr>\n",
       "    <tr>\n",
       "      <th>1</th>\n",
       "      <td>Afghanistan</td>\n",
       "      <td>Asia</td>\n",
       "      <td>1957</td>\n",
       "      <td>820.853030</td>\n",
       "    </tr>\n",
       "    <tr>\n",
       "      <th>2</th>\n",
       "      <td>Afghanistan</td>\n",
       "      <td>Asia</td>\n",
       "      <td>1962</td>\n",
       "      <td>853.100710</td>\n",
       "    </tr>\n",
       "    <tr>\n",
       "      <th>3</th>\n",
       "      <td>Afghanistan</td>\n",
       "      <td>Asia</td>\n",
       "      <td>1967</td>\n",
       "      <td>836.197138</td>\n",
       "    </tr>\n",
       "    <tr>\n",
       "      <th>4</th>\n",
       "      <td>Afghanistan</td>\n",
       "      <td>Asia</td>\n",
       "      <td>1972</td>\n",
       "      <td>739.981106</td>\n",
       "    </tr>\n",
       "    <tr>\n",
       "      <th>...</th>\n",
       "      <td>...</td>\n",
       "      <td>...</td>\n",
       "      <td>...</td>\n",
       "      <td>...</td>\n",
       "    </tr>\n",
       "    <tr>\n",
       "      <th>1699</th>\n",
       "      <td>Zimbabwe</td>\n",
       "      <td>Africa</td>\n",
       "      <td>1987</td>\n",
       "      <td>706.157306</td>\n",
       "    </tr>\n",
       "    <tr>\n",
       "      <th>1700</th>\n",
       "      <td>Zimbabwe</td>\n",
       "      <td>Africa</td>\n",
       "      <td>1992</td>\n",
       "      <td>693.420786</td>\n",
       "    </tr>\n",
       "    <tr>\n",
       "      <th>1701</th>\n",
       "      <td>Zimbabwe</td>\n",
       "      <td>Africa</td>\n",
       "      <td>1997</td>\n",
       "      <td>792.449960</td>\n",
       "    </tr>\n",
       "    <tr>\n",
       "      <th>1702</th>\n",
       "      <td>Zimbabwe</td>\n",
       "      <td>Africa</td>\n",
       "      <td>2002</td>\n",
       "      <td>672.038623</td>\n",
       "    </tr>\n",
       "    <tr>\n",
       "      <th>1703</th>\n",
       "      <td>Zimbabwe</td>\n",
       "      <td>Africa</td>\n",
       "      <td>2007</td>\n",
       "      <td>469.709298</td>\n",
       "    </tr>\n",
       "  </tbody>\n",
       "</table>\n",
       "<p>1704 rows × 4 columns</p>\n",
       "</div>"
      ],
      "text/plain": [
       "          country continent  year   gdpPercap\n",
       "0     Afghanistan      Asia  1952  779.445314\n",
       "1     Afghanistan      Asia  1957  820.853030\n",
       "2     Afghanistan      Asia  1962  853.100710\n",
       "3     Afghanistan      Asia  1967  836.197138\n",
       "4     Afghanistan      Asia  1972  739.981106\n",
       "...           ...       ...   ...         ...\n",
       "1699     Zimbabwe    Africa  1987  706.157306\n",
       "1700     Zimbabwe    Africa  1992  693.420786\n",
       "1701     Zimbabwe    Africa  1997  792.449960\n",
       "1702     Zimbabwe    Africa  2002  672.038623\n",
       "1703     Zimbabwe    Africa  2007  469.709298\n",
       "\n",
       "[1704 rows x 4 columns]"
      ]
     },
     "execution_count": 18,
     "metadata": {},
     "output_type": "execute_result"
    }
   ],
   "source": [
    "base_pib=base.iloc[:,[0,1,2,5]]\n",
    "base_pib"
   ]
  },
  {
   "cell_type": "markdown",
   "id": "b9bcf058",
   "metadata": {},
   "source": [
    "Supongamos ahora que deseamos filtrar la base de datos por alguna condición, por ejemplo si quisieramos solo enfocarnos en los países asiáticos:"
   ]
  },
  {
   "cell_type": "code",
   "execution_count": 19,
   "id": "ac6a3d27",
   "metadata": {},
   "outputs": [
    {
     "data": {
      "application/vnd.microsoft.datawrangler.viewer.v0+json": {
       "columns": [
        {
         "name": "index",
         "rawType": "int64",
         "type": "integer"
        },
        {
         "name": "country",
         "rawType": "object",
         "type": "string"
        },
        {
         "name": "continent",
         "rawType": "object",
         "type": "string"
        },
        {
         "name": "year",
         "rawType": "int64",
         "type": "integer"
        },
        {
         "name": "lifeExp",
         "rawType": "float64",
         "type": "float"
        },
        {
         "name": "pop",
         "rawType": "int64",
         "type": "integer"
        },
        {
         "name": "gdpPercap",
         "rawType": "float64",
         "type": "float"
        }
       ],
       "conversionMethod": "pd.DataFrame",
       "ref": "c1c51c7f-5227-43c5-b42d-e464d6fe0e35",
       "rows": [
        [
         "0",
         "Afghanistan",
         "Asia",
         "1952",
         "28.801",
         "8425333",
         "779.4453145"
        ],
        [
         "1",
         "Afghanistan",
         "Asia",
         "1957",
         "30.332",
         "9240934",
         "820.8530296"
        ],
        [
         "2",
         "Afghanistan",
         "Asia",
         "1962",
         "31.997",
         "10267083",
         "853.10071"
        ],
        [
         "3",
         "Afghanistan",
         "Asia",
         "1967",
         "34.02",
         "11537966",
         "836.1971382"
        ],
        [
         "4",
         "Afghanistan",
         "Asia",
         "1972",
         "36.088",
         "13079460",
         "739.9811058"
        ],
        [
         "5",
         "Afghanistan",
         "Asia",
         "1977",
         "38.438",
         "14880372",
         "786.11336"
        ],
        [
         "6",
         "Afghanistan",
         "Asia",
         "1982",
         "39.854",
         "12881816",
         "978.0114388"
        ],
        [
         "7",
         "Afghanistan",
         "Asia",
         "1987",
         "40.822",
         "13867957",
         "852.3959448"
        ],
        [
         "8",
         "Afghanistan",
         "Asia",
         "1992",
         "41.674",
         "16317921",
         "649.3413952"
        ],
        [
         "9",
         "Afghanistan",
         "Asia",
         "1997",
         "41.763",
         "22227415",
         "635.341351"
        ],
        [
         "10",
         "Afghanistan",
         "Asia",
         "2002",
         "42.129",
         "25268405",
         "726.7340548"
        ],
        [
         "11",
         "Afghanistan",
         "Asia",
         "2007",
         "43.828",
         "31889923",
         "974.5803384"
        ],
        [
         "84",
         "Bahrain",
         "Asia",
         "1952",
         "50.939",
         "120447",
         "9867.084765"
        ],
        [
         "85",
         "Bahrain",
         "Asia",
         "1957",
         "53.832",
         "138655",
         "11635.79945"
        ],
        [
         "86",
         "Bahrain",
         "Asia",
         "1962",
         "56.923",
         "171863",
         "12753.27514"
        ],
        [
         "87",
         "Bahrain",
         "Asia",
         "1967",
         "59.923",
         "202182",
         "14804.6727"
        ],
        [
         "88",
         "Bahrain",
         "Asia",
         "1972",
         "63.3",
         "230800",
         "18268.65839"
        ],
        [
         "89",
         "Bahrain",
         "Asia",
         "1977",
         "65.593",
         "297410",
         "19340.10196"
        ],
        [
         "90",
         "Bahrain",
         "Asia",
         "1982",
         "69.052",
         "377967",
         "19211.14731"
        ],
        [
         "91",
         "Bahrain",
         "Asia",
         "1987",
         "70.75",
         "454612",
         "18524.02406"
        ],
        [
         "92",
         "Bahrain",
         "Asia",
         "1992",
         "72.601",
         "529491",
         "19035.57917"
        ],
        [
         "93",
         "Bahrain",
         "Asia",
         "1997",
         "73.925",
         "598561",
         "20292.01679"
        ],
        [
         "94",
         "Bahrain",
         "Asia",
         "2002",
         "74.795",
         "656397",
         "23403.55927"
        ],
        [
         "95",
         "Bahrain",
         "Asia",
         "2007",
         "75.635",
         "708573",
         "29796.04834"
        ],
        [
         "96",
         "Bangladesh",
         "Asia",
         "1952",
         "37.484",
         "46886859",
         "684.2441716"
        ],
        [
         "97",
         "Bangladesh",
         "Asia",
         "1957",
         "39.348",
         "51365468",
         "661.6374577"
        ],
        [
         "98",
         "Bangladesh",
         "Asia",
         "1962",
         "41.216",
         "56839289",
         "686.3415538"
        ],
        [
         "99",
         "Bangladesh",
         "Asia",
         "1967",
         "43.453",
         "62821884",
         "721.1860862"
        ],
        [
         "100",
         "Bangladesh",
         "Asia",
         "1972",
         "45.252",
         "70759295",
         "630.2336265"
        ],
        [
         "101",
         "Bangladesh",
         "Asia",
         "1977",
         "46.923",
         "80428306",
         "659.8772322"
        ],
        [
         "102",
         "Bangladesh",
         "Asia",
         "1982",
         "50.009",
         "93074406",
         "676.9818656"
        ],
        [
         "103",
         "Bangladesh",
         "Asia",
         "1987",
         "52.819",
         "103764241",
         "751.9794035"
        ],
        [
         "104",
         "Bangladesh",
         "Asia",
         "1992",
         "56.018",
         "113704579",
         "837.8101643"
        ],
        [
         "105",
         "Bangladesh",
         "Asia",
         "1997",
         "59.412",
         "123315288",
         "972.7700352"
        ],
        [
         "106",
         "Bangladesh",
         "Asia",
         "2002",
         "62.013",
         "135656790",
         "1136.39043"
        ],
        [
         "107",
         "Bangladesh",
         "Asia",
         "2007",
         "64.062",
         "150448339",
         "1391.253792"
        ],
        [
         "216",
         "Cambodia",
         "Asia",
         "1952",
         "39.417",
         "4693836",
         "368.4692856"
        ],
        [
         "217",
         "Cambodia",
         "Asia",
         "1957",
         "41.366",
         "5322536",
         "434.0383364"
        ],
        [
         "218",
         "Cambodia",
         "Asia",
         "1962",
         "43.415",
         "6083619",
         "496.9136476"
        ],
        [
         "219",
         "Cambodia",
         "Asia",
         "1967",
         "45.415",
         "6960067",
         "523.4323142"
        ],
        [
         "220",
         "Cambodia",
         "Asia",
         "1972",
         "40.317",
         "7450606",
         "421.6240257"
        ],
        [
         "221",
         "Cambodia",
         "Asia",
         "1977",
         "31.22",
         "6978607",
         "524.9721832"
        ],
        [
         "222",
         "Cambodia",
         "Asia",
         "1982",
         "50.957",
         "7272485",
         "624.4754784"
        ],
        [
         "223",
         "Cambodia",
         "Asia",
         "1987",
         "53.914",
         "8371791",
         "683.8955732"
        ],
        [
         "224",
         "Cambodia",
         "Asia",
         "1992",
         "55.803",
         "10150094",
         "682.3031755"
        ],
        [
         "225",
         "Cambodia",
         "Asia",
         "1997",
         "56.534",
         "11782962",
         "734.28517"
        ],
        [
         "226",
         "Cambodia",
         "Asia",
         "2002",
         "56.752",
         "12926707",
         "896.2260153"
        ],
        [
         "227",
         "Cambodia",
         "Asia",
         "2007",
         "59.723",
         "14131858",
         "1713.778686"
        ],
        [
         "288",
         "China",
         "Asia",
         "1952",
         "44.0",
         "556263527",
         "400.448611"
        ],
        [
         "289",
         "China",
         "Asia",
         "1957",
         "50.54896",
         "637408000",
         "575.9870009"
        ]
       ],
       "shape": {
        "columns": 6,
        "rows": 396
       }
      },
      "text/html": [
       "<div>\n",
       "<style scoped>\n",
       "    .dataframe tbody tr th:only-of-type {\n",
       "        vertical-align: middle;\n",
       "    }\n",
       "\n",
       "    .dataframe tbody tr th {\n",
       "        vertical-align: top;\n",
       "    }\n",
       "\n",
       "    .dataframe thead th {\n",
       "        text-align: right;\n",
       "    }\n",
       "</style>\n",
       "<table border=\"1\" class=\"dataframe\">\n",
       "  <thead>\n",
       "    <tr style=\"text-align: right;\">\n",
       "      <th></th>\n",
       "      <th>country</th>\n",
       "      <th>continent</th>\n",
       "      <th>year</th>\n",
       "      <th>lifeExp</th>\n",
       "      <th>pop</th>\n",
       "      <th>gdpPercap</th>\n",
       "    </tr>\n",
       "  </thead>\n",
       "  <tbody>\n",
       "    <tr>\n",
       "      <th>0</th>\n",
       "      <td>Afghanistan</td>\n",
       "      <td>Asia</td>\n",
       "      <td>1952</td>\n",
       "      <td>28.801</td>\n",
       "      <td>8425333</td>\n",
       "      <td>779.445314</td>\n",
       "    </tr>\n",
       "    <tr>\n",
       "      <th>1</th>\n",
       "      <td>Afghanistan</td>\n",
       "      <td>Asia</td>\n",
       "      <td>1957</td>\n",
       "      <td>30.332</td>\n",
       "      <td>9240934</td>\n",
       "      <td>820.853030</td>\n",
       "    </tr>\n",
       "    <tr>\n",
       "      <th>2</th>\n",
       "      <td>Afghanistan</td>\n",
       "      <td>Asia</td>\n",
       "      <td>1962</td>\n",
       "      <td>31.997</td>\n",
       "      <td>10267083</td>\n",
       "      <td>853.100710</td>\n",
       "    </tr>\n",
       "    <tr>\n",
       "      <th>3</th>\n",
       "      <td>Afghanistan</td>\n",
       "      <td>Asia</td>\n",
       "      <td>1967</td>\n",
       "      <td>34.020</td>\n",
       "      <td>11537966</td>\n",
       "      <td>836.197138</td>\n",
       "    </tr>\n",
       "    <tr>\n",
       "      <th>4</th>\n",
       "      <td>Afghanistan</td>\n",
       "      <td>Asia</td>\n",
       "      <td>1972</td>\n",
       "      <td>36.088</td>\n",
       "      <td>13079460</td>\n",
       "      <td>739.981106</td>\n",
       "    </tr>\n",
       "    <tr>\n",
       "      <th>...</th>\n",
       "      <td>...</td>\n",
       "      <td>...</td>\n",
       "      <td>...</td>\n",
       "      <td>...</td>\n",
       "      <td>...</td>\n",
       "      <td>...</td>\n",
       "    </tr>\n",
       "    <tr>\n",
       "      <th>1675</th>\n",
       "      <td>Yemen, Rep.</td>\n",
       "      <td>Asia</td>\n",
       "      <td>1987</td>\n",
       "      <td>52.922</td>\n",
       "      <td>11219340</td>\n",
       "      <td>1971.741538</td>\n",
       "    </tr>\n",
       "    <tr>\n",
       "      <th>1676</th>\n",
       "      <td>Yemen, Rep.</td>\n",
       "      <td>Asia</td>\n",
       "      <td>1992</td>\n",
       "      <td>55.599</td>\n",
       "      <td>13367997</td>\n",
       "      <td>1879.496673</td>\n",
       "    </tr>\n",
       "    <tr>\n",
       "      <th>1677</th>\n",
       "      <td>Yemen, Rep.</td>\n",
       "      <td>Asia</td>\n",
       "      <td>1997</td>\n",
       "      <td>58.020</td>\n",
       "      <td>15826497</td>\n",
       "      <td>2117.484526</td>\n",
       "    </tr>\n",
       "    <tr>\n",
       "      <th>1678</th>\n",
       "      <td>Yemen, Rep.</td>\n",
       "      <td>Asia</td>\n",
       "      <td>2002</td>\n",
       "      <td>60.308</td>\n",
       "      <td>18701257</td>\n",
       "      <td>2234.820827</td>\n",
       "    </tr>\n",
       "    <tr>\n",
       "      <th>1679</th>\n",
       "      <td>Yemen, Rep.</td>\n",
       "      <td>Asia</td>\n",
       "      <td>2007</td>\n",
       "      <td>62.698</td>\n",
       "      <td>22211743</td>\n",
       "      <td>2280.769906</td>\n",
       "    </tr>\n",
       "  </tbody>\n",
       "</table>\n",
       "<p>396 rows × 6 columns</p>\n",
       "</div>"
      ],
      "text/plain": [
       "          country continent  year  lifeExp       pop    gdpPercap\n",
       "0     Afghanistan      Asia  1952   28.801   8425333   779.445314\n",
       "1     Afghanistan      Asia  1957   30.332   9240934   820.853030\n",
       "2     Afghanistan      Asia  1962   31.997  10267083   853.100710\n",
       "3     Afghanistan      Asia  1967   34.020  11537966   836.197138\n",
       "4     Afghanistan      Asia  1972   36.088  13079460   739.981106\n",
       "...           ...       ...   ...      ...       ...          ...\n",
       "1675  Yemen, Rep.      Asia  1987   52.922  11219340  1971.741538\n",
       "1676  Yemen, Rep.      Asia  1992   55.599  13367997  1879.496673\n",
       "1677  Yemen, Rep.      Asia  1997   58.020  15826497  2117.484526\n",
       "1678  Yemen, Rep.      Asia  2002   60.308  18701257  2234.820827\n",
       "1679  Yemen, Rep.      Asia  2007   62.698  22211743  2280.769906\n",
       "\n",
       "[396 rows x 6 columns]"
      ]
     },
     "execution_count": 19,
     "metadata": {},
     "output_type": "execute_result"
    }
   ],
   "source": [
    "base_asia=base[base['continent']=='Asia']\n",
    "base_asia"
   ]
  },
  {
   "cell_type": "markdown",
   "id": "058f7fe2",
   "metadata": {},
   "source": [
    "Noten que los índices de las filas siguen siendo los de la base sin filtros, por lo que es útil siempre que se usen filtros reiniciar los índices:"
   ]
  },
  {
   "cell_type": "code",
   "execution_count": 20,
   "id": "3f83b235",
   "metadata": {},
   "outputs": [
    {
     "data": {
      "application/vnd.microsoft.datawrangler.viewer.v0+json": {
       "columns": [
        {
         "name": "index",
         "rawType": "int64",
         "type": "integer"
        },
        {
         "name": "country",
         "rawType": "object",
         "type": "string"
        },
        {
         "name": "continent",
         "rawType": "object",
         "type": "string"
        },
        {
         "name": "year",
         "rawType": "int64",
         "type": "integer"
        },
        {
         "name": "lifeExp",
         "rawType": "float64",
         "type": "float"
        },
        {
         "name": "pop",
         "rawType": "int64",
         "type": "integer"
        },
        {
         "name": "gdpPercap",
         "rawType": "float64",
         "type": "float"
        }
       ],
       "conversionMethod": "pd.DataFrame",
       "ref": "d5b63628-0556-40dd-bdac-0038de95e002",
       "rows": [
        [
         "0",
         "Afghanistan",
         "Asia",
         "1952",
         "28.801",
         "8425333",
         "779.4453145"
        ],
        [
         "1",
         "Afghanistan",
         "Asia",
         "1957",
         "30.332",
         "9240934",
         "820.8530296"
        ],
        [
         "2",
         "Afghanistan",
         "Asia",
         "1962",
         "31.997",
         "10267083",
         "853.10071"
        ],
        [
         "3",
         "Afghanistan",
         "Asia",
         "1967",
         "34.02",
         "11537966",
         "836.1971382"
        ],
        [
         "4",
         "Afghanistan",
         "Asia",
         "1972",
         "36.088",
         "13079460",
         "739.9811058"
        ],
        [
         "5",
         "Afghanistan",
         "Asia",
         "1977",
         "38.438",
         "14880372",
         "786.11336"
        ],
        [
         "6",
         "Afghanistan",
         "Asia",
         "1982",
         "39.854",
         "12881816",
         "978.0114388"
        ],
        [
         "7",
         "Afghanistan",
         "Asia",
         "1987",
         "40.822",
         "13867957",
         "852.3959448"
        ],
        [
         "8",
         "Afghanistan",
         "Asia",
         "1992",
         "41.674",
         "16317921",
         "649.3413952"
        ],
        [
         "9",
         "Afghanistan",
         "Asia",
         "1997",
         "41.763",
         "22227415",
         "635.341351"
        ],
        [
         "10",
         "Afghanistan",
         "Asia",
         "2002",
         "42.129",
         "25268405",
         "726.7340548"
        ],
        [
         "11",
         "Afghanistan",
         "Asia",
         "2007",
         "43.828",
         "31889923",
         "974.5803384"
        ],
        [
         "12",
         "Bahrain",
         "Asia",
         "1952",
         "50.939",
         "120447",
         "9867.084765"
        ],
        [
         "13",
         "Bahrain",
         "Asia",
         "1957",
         "53.832",
         "138655",
         "11635.79945"
        ],
        [
         "14",
         "Bahrain",
         "Asia",
         "1962",
         "56.923",
         "171863",
         "12753.27514"
        ],
        [
         "15",
         "Bahrain",
         "Asia",
         "1967",
         "59.923",
         "202182",
         "14804.6727"
        ],
        [
         "16",
         "Bahrain",
         "Asia",
         "1972",
         "63.3",
         "230800",
         "18268.65839"
        ],
        [
         "17",
         "Bahrain",
         "Asia",
         "1977",
         "65.593",
         "297410",
         "19340.10196"
        ],
        [
         "18",
         "Bahrain",
         "Asia",
         "1982",
         "69.052",
         "377967",
         "19211.14731"
        ],
        [
         "19",
         "Bahrain",
         "Asia",
         "1987",
         "70.75",
         "454612",
         "18524.02406"
        ],
        [
         "20",
         "Bahrain",
         "Asia",
         "1992",
         "72.601",
         "529491",
         "19035.57917"
        ],
        [
         "21",
         "Bahrain",
         "Asia",
         "1997",
         "73.925",
         "598561",
         "20292.01679"
        ],
        [
         "22",
         "Bahrain",
         "Asia",
         "2002",
         "74.795",
         "656397",
         "23403.55927"
        ],
        [
         "23",
         "Bahrain",
         "Asia",
         "2007",
         "75.635",
         "708573",
         "29796.04834"
        ],
        [
         "24",
         "Bangladesh",
         "Asia",
         "1952",
         "37.484",
         "46886859",
         "684.2441716"
        ],
        [
         "25",
         "Bangladesh",
         "Asia",
         "1957",
         "39.348",
         "51365468",
         "661.6374577"
        ],
        [
         "26",
         "Bangladesh",
         "Asia",
         "1962",
         "41.216",
         "56839289",
         "686.3415538"
        ],
        [
         "27",
         "Bangladesh",
         "Asia",
         "1967",
         "43.453",
         "62821884",
         "721.1860862"
        ],
        [
         "28",
         "Bangladesh",
         "Asia",
         "1972",
         "45.252",
         "70759295",
         "630.2336265"
        ],
        [
         "29",
         "Bangladesh",
         "Asia",
         "1977",
         "46.923",
         "80428306",
         "659.8772322"
        ],
        [
         "30",
         "Bangladesh",
         "Asia",
         "1982",
         "50.009",
         "93074406",
         "676.9818656"
        ],
        [
         "31",
         "Bangladesh",
         "Asia",
         "1987",
         "52.819",
         "103764241",
         "751.9794035"
        ],
        [
         "32",
         "Bangladesh",
         "Asia",
         "1992",
         "56.018",
         "113704579",
         "837.8101643"
        ],
        [
         "33",
         "Bangladesh",
         "Asia",
         "1997",
         "59.412",
         "123315288",
         "972.7700352"
        ],
        [
         "34",
         "Bangladesh",
         "Asia",
         "2002",
         "62.013",
         "135656790",
         "1136.39043"
        ],
        [
         "35",
         "Bangladesh",
         "Asia",
         "2007",
         "64.062",
         "150448339",
         "1391.253792"
        ],
        [
         "36",
         "Cambodia",
         "Asia",
         "1952",
         "39.417",
         "4693836",
         "368.4692856"
        ],
        [
         "37",
         "Cambodia",
         "Asia",
         "1957",
         "41.366",
         "5322536",
         "434.0383364"
        ],
        [
         "38",
         "Cambodia",
         "Asia",
         "1962",
         "43.415",
         "6083619",
         "496.9136476"
        ],
        [
         "39",
         "Cambodia",
         "Asia",
         "1967",
         "45.415",
         "6960067",
         "523.4323142"
        ],
        [
         "40",
         "Cambodia",
         "Asia",
         "1972",
         "40.317",
         "7450606",
         "421.6240257"
        ],
        [
         "41",
         "Cambodia",
         "Asia",
         "1977",
         "31.22",
         "6978607",
         "524.9721832"
        ],
        [
         "42",
         "Cambodia",
         "Asia",
         "1982",
         "50.957",
         "7272485",
         "624.4754784"
        ],
        [
         "43",
         "Cambodia",
         "Asia",
         "1987",
         "53.914",
         "8371791",
         "683.8955732"
        ],
        [
         "44",
         "Cambodia",
         "Asia",
         "1992",
         "55.803",
         "10150094",
         "682.3031755"
        ],
        [
         "45",
         "Cambodia",
         "Asia",
         "1997",
         "56.534",
         "11782962",
         "734.28517"
        ],
        [
         "46",
         "Cambodia",
         "Asia",
         "2002",
         "56.752",
         "12926707",
         "896.2260153"
        ],
        [
         "47",
         "Cambodia",
         "Asia",
         "2007",
         "59.723",
         "14131858",
         "1713.778686"
        ],
        [
         "48",
         "China",
         "Asia",
         "1952",
         "44.0",
         "556263527",
         "400.448611"
        ],
        [
         "49",
         "China",
         "Asia",
         "1957",
         "50.54896",
         "637408000",
         "575.9870009"
        ]
       ],
       "shape": {
        "columns": 6,
        "rows": 396
       }
      },
      "text/html": [
       "<div>\n",
       "<style scoped>\n",
       "    .dataframe tbody tr th:only-of-type {\n",
       "        vertical-align: middle;\n",
       "    }\n",
       "\n",
       "    .dataframe tbody tr th {\n",
       "        vertical-align: top;\n",
       "    }\n",
       "\n",
       "    .dataframe thead th {\n",
       "        text-align: right;\n",
       "    }\n",
       "</style>\n",
       "<table border=\"1\" class=\"dataframe\">\n",
       "  <thead>\n",
       "    <tr style=\"text-align: right;\">\n",
       "      <th></th>\n",
       "      <th>country</th>\n",
       "      <th>continent</th>\n",
       "      <th>year</th>\n",
       "      <th>lifeExp</th>\n",
       "      <th>pop</th>\n",
       "      <th>gdpPercap</th>\n",
       "    </tr>\n",
       "  </thead>\n",
       "  <tbody>\n",
       "    <tr>\n",
       "      <th>0</th>\n",
       "      <td>Afghanistan</td>\n",
       "      <td>Asia</td>\n",
       "      <td>1952</td>\n",
       "      <td>28.801</td>\n",
       "      <td>8425333</td>\n",
       "      <td>779.445314</td>\n",
       "    </tr>\n",
       "    <tr>\n",
       "      <th>1</th>\n",
       "      <td>Afghanistan</td>\n",
       "      <td>Asia</td>\n",
       "      <td>1957</td>\n",
       "      <td>30.332</td>\n",
       "      <td>9240934</td>\n",
       "      <td>820.853030</td>\n",
       "    </tr>\n",
       "    <tr>\n",
       "      <th>2</th>\n",
       "      <td>Afghanistan</td>\n",
       "      <td>Asia</td>\n",
       "      <td>1962</td>\n",
       "      <td>31.997</td>\n",
       "      <td>10267083</td>\n",
       "      <td>853.100710</td>\n",
       "    </tr>\n",
       "    <tr>\n",
       "      <th>3</th>\n",
       "      <td>Afghanistan</td>\n",
       "      <td>Asia</td>\n",
       "      <td>1967</td>\n",
       "      <td>34.020</td>\n",
       "      <td>11537966</td>\n",
       "      <td>836.197138</td>\n",
       "    </tr>\n",
       "    <tr>\n",
       "      <th>4</th>\n",
       "      <td>Afghanistan</td>\n",
       "      <td>Asia</td>\n",
       "      <td>1972</td>\n",
       "      <td>36.088</td>\n",
       "      <td>13079460</td>\n",
       "      <td>739.981106</td>\n",
       "    </tr>\n",
       "    <tr>\n",
       "      <th>...</th>\n",
       "      <td>...</td>\n",
       "      <td>...</td>\n",
       "      <td>...</td>\n",
       "      <td>...</td>\n",
       "      <td>...</td>\n",
       "      <td>...</td>\n",
       "    </tr>\n",
       "    <tr>\n",
       "      <th>391</th>\n",
       "      <td>Yemen, Rep.</td>\n",
       "      <td>Asia</td>\n",
       "      <td>1987</td>\n",
       "      <td>52.922</td>\n",
       "      <td>11219340</td>\n",
       "      <td>1971.741538</td>\n",
       "    </tr>\n",
       "    <tr>\n",
       "      <th>392</th>\n",
       "      <td>Yemen, Rep.</td>\n",
       "      <td>Asia</td>\n",
       "      <td>1992</td>\n",
       "      <td>55.599</td>\n",
       "      <td>13367997</td>\n",
       "      <td>1879.496673</td>\n",
       "    </tr>\n",
       "    <tr>\n",
       "      <th>393</th>\n",
       "      <td>Yemen, Rep.</td>\n",
       "      <td>Asia</td>\n",
       "      <td>1997</td>\n",
       "      <td>58.020</td>\n",
       "      <td>15826497</td>\n",
       "      <td>2117.484526</td>\n",
       "    </tr>\n",
       "    <tr>\n",
       "      <th>394</th>\n",
       "      <td>Yemen, Rep.</td>\n",
       "      <td>Asia</td>\n",
       "      <td>2002</td>\n",
       "      <td>60.308</td>\n",
       "      <td>18701257</td>\n",
       "      <td>2234.820827</td>\n",
       "    </tr>\n",
       "    <tr>\n",
       "      <th>395</th>\n",
       "      <td>Yemen, Rep.</td>\n",
       "      <td>Asia</td>\n",
       "      <td>2007</td>\n",
       "      <td>62.698</td>\n",
       "      <td>22211743</td>\n",
       "      <td>2280.769906</td>\n",
       "    </tr>\n",
       "  </tbody>\n",
       "</table>\n",
       "<p>396 rows × 6 columns</p>\n",
       "</div>"
      ],
      "text/plain": [
       "         country continent  year  lifeExp       pop    gdpPercap\n",
       "0    Afghanistan      Asia  1952   28.801   8425333   779.445314\n",
       "1    Afghanistan      Asia  1957   30.332   9240934   820.853030\n",
       "2    Afghanistan      Asia  1962   31.997  10267083   853.100710\n",
       "3    Afghanistan      Asia  1967   34.020  11537966   836.197138\n",
       "4    Afghanistan      Asia  1972   36.088  13079460   739.981106\n",
       "..           ...       ...   ...      ...       ...          ...\n",
       "391  Yemen, Rep.      Asia  1987   52.922  11219340  1971.741538\n",
       "392  Yemen, Rep.      Asia  1992   55.599  13367997  1879.496673\n",
       "393  Yemen, Rep.      Asia  1997   58.020  15826497  2117.484526\n",
       "394  Yemen, Rep.      Asia  2002   60.308  18701257  2234.820827\n",
       "395  Yemen, Rep.      Asia  2007   62.698  22211743  2280.769906\n",
       "\n",
       "[396 rows x 6 columns]"
      ]
     },
     "execution_count": 20,
     "metadata": {},
     "output_type": "execute_result"
    }
   ],
   "source": [
    "base_asia=base[base['continent']=='Asia'].reset_index(drop=True)\n",
    "base_asia"
   ]
  },
  {
   "cell_type": "markdown",
   "id": "20d8fbe0",
   "metadata": {},
   "source": [
    "También, podemos filtrar por una condición que incluya una desigualdad, por ejemplo, registros con poblaciones mayores a 5 millones:"
   ]
  },
  {
   "cell_type": "code",
   "execution_count": 21,
   "id": "4a290aa5",
   "metadata": {},
   "outputs": [
    {
     "data": {
      "application/vnd.microsoft.datawrangler.viewer.v0+json": {
       "columns": [
        {
         "name": "index",
         "rawType": "int64",
         "type": "integer"
        },
        {
         "name": "country",
         "rawType": "object",
         "type": "string"
        },
        {
         "name": "continent",
         "rawType": "object",
         "type": "string"
        },
        {
         "name": "year",
         "rawType": "int64",
         "type": "integer"
        },
        {
         "name": "lifeExp",
         "rawType": "float64",
         "type": "float"
        },
        {
         "name": "pop",
         "rawType": "int64",
         "type": "integer"
        },
        {
         "name": "gdpPercap",
         "rawType": "float64",
         "type": "float"
        }
       ],
       "conversionMethod": "pd.DataFrame",
       "ref": "2902fa8b-e997-44ca-95c5-b72410446830",
       "rows": [
        [
         "0",
         "Afghanistan",
         "Asia",
         "1952",
         "28.801",
         "8425333",
         "779.4453145"
        ],
        [
         "1",
         "Afghanistan",
         "Asia",
         "1957",
         "30.332",
         "9240934",
         "820.8530296"
        ],
        [
         "2",
         "Afghanistan",
         "Asia",
         "1962",
         "31.997",
         "10267083",
         "853.10071"
        ],
        [
         "3",
         "Afghanistan",
         "Asia",
         "1967",
         "34.02",
         "11537966",
         "836.1971382"
        ],
        [
         "4",
         "Afghanistan",
         "Asia",
         "1972",
         "36.088",
         "13079460",
         "739.9811058"
        ],
        [
         "5",
         "Afghanistan",
         "Asia",
         "1977",
         "38.438",
         "14880372",
         "786.11336"
        ],
        [
         "6",
         "Afghanistan",
         "Asia",
         "1982",
         "39.854",
         "12881816",
         "978.0114388"
        ],
        [
         "7",
         "Afghanistan",
         "Asia",
         "1987",
         "40.822",
         "13867957",
         "852.3959448"
        ],
        [
         "8",
         "Afghanistan",
         "Asia",
         "1992",
         "41.674",
         "16317921",
         "649.3413952"
        ],
        [
         "9",
         "Afghanistan",
         "Asia",
         "1997",
         "41.763",
         "22227415",
         "635.341351"
        ],
        [
         "10",
         "Afghanistan",
         "Asia",
         "2002",
         "42.129",
         "25268405",
         "726.7340548"
        ],
        [
         "11",
         "Afghanistan",
         "Asia",
         "2007",
         "43.828",
         "31889923",
         "974.5803384"
        ],
        [
         "12",
         "Algeria",
         "Africa",
         "1952",
         "43.077",
         "9279525",
         "2449.008185"
        ],
        [
         "13",
         "Algeria",
         "Africa",
         "1957",
         "45.685",
         "10270856",
         "3013.976023"
        ],
        [
         "14",
         "Algeria",
         "Africa",
         "1962",
         "48.303",
         "11000948",
         "2550.81688"
        ],
        [
         "15",
         "Algeria",
         "Africa",
         "1967",
         "51.407",
         "12760499",
         "3246.991771"
        ],
        [
         "16",
         "Algeria",
         "Africa",
         "1972",
         "54.518",
         "14760787",
         "4182.663766"
        ],
        [
         "17",
         "Algeria",
         "Africa",
         "1977",
         "58.014",
         "17152804",
         "4910.416756"
        ],
        [
         "18",
         "Algeria",
         "Africa",
         "1982",
         "61.368",
         "20033753",
         "5745.160213"
        ],
        [
         "19",
         "Algeria",
         "Africa",
         "1987",
         "65.799",
         "23254956",
         "5681.358539"
        ],
        [
         "20",
         "Algeria",
         "Africa",
         "1992",
         "67.744",
         "26298373",
         "5023.216647"
        ],
        [
         "21",
         "Algeria",
         "Africa",
         "1997",
         "69.152",
         "29072015",
         "4797.295051"
        ],
        [
         "22",
         "Algeria",
         "Africa",
         "2002",
         "70.994",
         "31287142",
         "5288.040382"
        ],
        [
         "23",
         "Algeria",
         "Africa",
         "2007",
         "72.301",
         "33333216",
         "6223.367465"
        ],
        [
         "24",
         "Angola",
         "Africa",
         "1967",
         "35.985",
         "5247469",
         "5522.776375"
        ],
        [
         "25",
         "Angola",
         "Africa",
         "1972",
         "37.928",
         "5894858",
         "5473.288005"
        ],
        [
         "26",
         "Angola",
         "Africa",
         "1977",
         "39.483",
         "6162675",
         "3008.647355"
        ],
        [
         "27",
         "Angola",
         "Africa",
         "1982",
         "39.942",
         "7016384",
         "2756.953672"
        ],
        [
         "28",
         "Angola",
         "Africa",
         "1987",
         "39.906",
         "7874230",
         "2430.208311"
        ],
        [
         "29",
         "Angola",
         "Africa",
         "1992",
         "40.647",
         "8735988",
         "2627.845685"
        ],
        [
         "30",
         "Angola",
         "Africa",
         "1997",
         "40.963",
         "9875024",
         "2277.140884"
        ],
        [
         "31",
         "Angola",
         "Africa",
         "2002",
         "41.003",
         "10866106",
         "2773.287312"
        ],
        [
         "32",
         "Angola",
         "Africa",
         "2007",
         "42.731",
         "12420476",
         "4797.231267"
        ],
        [
         "33",
         "Argentina",
         "Americas",
         "1952",
         "62.485",
         "17876956",
         "5911.315053"
        ],
        [
         "34",
         "Argentina",
         "Americas",
         "1957",
         "64.399",
         "19610538",
         "6856.856212"
        ],
        [
         "35",
         "Argentina",
         "Americas",
         "1962",
         "65.142",
         "21283783",
         "7133.166023"
        ],
        [
         "36",
         "Argentina",
         "Americas",
         "1967",
         "65.634",
         "22934225",
         "8052.953021"
        ],
        [
         "37",
         "Argentina",
         "Americas",
         "1972",
         "67.065",
         "24779799",
         "9443.038526"
        ],
        [
         "38",
         "Argentina",
         "Americas",
         "1977",
         "68.481",
         "26983828",
         "10079.02674"
        ],
        [
         "39",
         "Argentina",
         "Americas",
         "1982",
         "69.942",
         "29341374",
         "8997.897412"
        ],
        [
         "40",
         "Argentina",
         "Americas",
         "1987",
         "70.774",
         "31620918",
         "9139.671389"
        ],
        [
         "41",
         "Argentina",
         "Americas",
         "1992",
         "71.868",
         "33958947",
         "9308.41871"
        ],
        [
         "42",
         "Argentina",
         "Americas",
         "1997",
         "73.275",
         "36203463",
         "10967.28195"
        ],
        [
         "43",
         "Argentina",
         "Americas",
         "2002",
         "74.34",
         "38331121",
         "8797.640716"
        ],
        [
         "44",
         "Argentina",
         "Americas",
         "2007",
         "75.32",
         "40301927",
         "12779.37964"
        ],
        [
         "45",
         "Australia",
         "Oceania",
         "1952",
         "69.12",
         "8691212",
         "10039.59564"
        ],
        [
         "46",
         "Australia",
         "Oceania",
         "1957",
         "70.33",
         "9712569",
         "10949.64959"
        ],
        [
         "47",
         "Australia",
         "Oceania",
         "1962",
         "70.93",
         "10794968",
         "12217.22686"
        ],
        [
         "48",
         "Australia",
         "Oceania",
         "1967",
         "71.1",
         "11872264",
         "14526.12465"
        ],
        [
         "49",
         "Australia",
         "Oceania",
         "1972",
         "71.93",
         "13177000",
         "16788.62948"
        ]
       ],
       "shape": {
        "columns": 6,
        "rows": 999
       }
      },
      "text/html": [
       "<div>\n",
       "<style scoped>\n",
       "    .dataframe tbody tr th:only-of-type {\n",
       "        vertical-align: middle;\n",
       "    }\n",
       "\n",
       "    .dataframe tbody tr th {\n",
       "        vertical-align: top;\n",
       "    }\n",
       "\n",
       "    .dataframe thead th {\n",
       "        text-align: right;\n",
       "    }\n",
       "</style>\n",
       "<table border=\"1\" class=\"dataframe\">\n",
       "  <thead>\n",
       "    <tr style=\"text-align: right;\">\n",
       "      <th></th>\n",
       "      <th>country</th>\n",
       "      <th>continent</th>\n",
       "      <th>year</th>\n",
       "      <th>lifeExp</th>\n",
       "      <th>pop</th>\n",
       "      <th>gdpPercap</th>\n",
       "    </tr>\n",
       "  </thead>\n",
       "  <tbody>\n",
       "    <tr>\n",
       "      <th>0</th>\n",
       "      <td>Afghanistan</td>\n",
       "      <td>Asia</td>\n",
       "      <td>1952</td>\n",
       "      <td>28.801</td>\n",
       "      <td>8425333</td>\n",
       "      <td>779.445314</td>\n",
       "    </tr>\n",
       "    <tr>\n",
       "      <th>1</th>\n",
       "      <td>Afghanistan</td>\n",
       "      <td>Asia</td>\n",
       "      <td>1957</td>\n",
       "      <td>30.332</td>\n",
       "      <td>9240934</td>\n",
       "      <td>820.853030</td>\n",
       "    </tr>\n",
       "    <tr>\n",
       "      <th>2</th>\n",
       "      <td>Afghanistan</td>\n",
       "      <td>Asia</td>\n",
       "      <td>1962</td>\n",
       "      <td>31.997</td>\n",
       "      <td>10267083</td>\n",
       "      <td>853.100710</td>\n",
       "    </tr>\n",
       "    <tr>\n",
       "      <th>3</th>\n",
       "      <td>Afghanistan</td>\n",
       "      <td>Asia</td>\n",
       "      <td>1967</td>\n",
       "      <td>34.020</td>\n",
       "      <td>11537966</td>\n",
       "      <td>836.197138</td>\n",
       "    </tr>\n",
       "    <tr>\n",
       "      <th>4</th>\n",
       "      <td>Afghanistan</td>\n",
       "      <td>Asia</td>\n",
       "      <td>1972</td>\n",
       "      <td>36.088</td>\n",
       "      <td>13079460</td>\n",
       "      <td>739.981106</td>\n",
       "    </tr>\n",
       "    <tr>\n",
       "      <th>...</th>\n",
       "      <td>...</td>\n",
       "      <td>...</td>\n",
       "      <td>...</td>\n",
       "      <td>...</td>\n",
       "      <td>...</td>\n",
       "      <td>...</td>\n",
       "    </tr>\n",
       "    <tr>\n",
       "      <th>994</th>\n",
       "      <td>Zimbabwe</td>\n",
       "      <td>Africa</td>\n",
       "      <td>1987</td>\n",
       "      <td>62.351</td>\n",
       "      <td>9216418</td>\n",
       "      <td>706.157306</td>\n",
       "    </tr>\n",
       "    <tr>\n",
       "      <th>995</th>\n",
       "      <td>Zimbabwe</td>\n",
       "      <td>Africa</td>\n",
       "      <td>1992</td>\n",
       "      <td>60.377</td>\n",
       "      <td>10704340</td>\n",
       "      <td>693.420786</td>\n",
       "    </tr>\n",
       "    <tr>\n",
       "      <th>996</th>\n",
       "      <td>Zimbabwe</td>\n",
       "      <td>Africa</td>\n",
       "      <td>1997</td>\n",
       "      <td>46.809</td>\n",
       "      <td>11404948</td>\n",
       "      <td>792.449960</td>\n",
       "    </tr>\n",
       "    <tr>\n",
       "      <th>997</th>\n",
       "      <td>Zimbabwe</td>\n",
       "      <td>Africa</td>\n",
       "      <td>2002</td>\n",
       "      <td>39.989</td>\n",
       "      <td>11926563</td>\n",
       "      <td>672.038623</td>\n",
       "    </tr>\n",
       "    <tr>\n",
       "      <th>998</th>\n",
       "      <td>Zimbabwe</td>\n",
       "      <td>Africa</td>\n",
       "      <td>2007</td>\n",
       "      <td>43.487</td>\n",
       "      <td>12311143</td>\n",
       "      <td>469.709298</td>\n",
       "    </tr>\n",
       "  </tbody>\n",
       "</table>\n",
       "<p>999 rows × 6 columns</p>\n",
       "</div>"
      ],
      "text/plain": [
       "         country continent  year  lifeExp       pop   gdpPercap\n",
       "0    Afghanistan      Asia  1952   28.801   8425333  779.445314\n",
       "1    Afghanistan      Asia  1957   30.332   9240934  820.853030\n",
       "2    Afghanistan      Asia  1962   31.997  10267083  853.100710\n",
       "3    Afghanistan      Asia  1967   34.020  11537966  836.197138\n",
       "4    Afghanistan      Asia  1972   36.088  13079460  739.981106\n",
       "..           ...       ...   ...      ...       ...         ...\n",
       "994     Zimbabwe    Africa  1987   62.351   9216418  706.157306\n",
       "995     Zimbabwe    Africa  1992   60.377  10704340  693.420786\n",
       "996     Zimbabwe    Africa  1997   46.809  11404948  792.449960\n",
       "997     Zimbabwe    Africa  2002   39.989  11926563  672.038623\n",
       "998     Zimbabwe    Africa  2007   43.487  12311143  469.709298\n",
       "\n",
       "[999 rows x 6 columns]"
      ]
     },
     "execution_count": 21,
     "metadata": {},
     "output_type": "execute_result"
    }
   ],
   "source": [
    "base_pob5=base[base['pop']>5000000].reset_index(drop=True)\n",
    "base_pob5"
   ]
  },
  {
   "cell_type": "markdown",
   "id": "44c163ea",
   "metadata": {},
   "source": [
    "Igualmente, también se podría filtrar usando más de una condición. Por ejemplo, registros de países asiáticos con población mayor a 5 millones:"
   ]
  },
  {
   "cell_type": "code",
   "execution_count": 22,
   "id": "7504fa55",
   "metadata": {},
   "outputs": [
    {
     "data": {
      "application/vnd.microsoft.datawrangler.viewer.v0+json": {
       "columns": [
        {
         "name": "index",
         "rawType": "int64",
         "type": "integer"
        },
        {
         "name": "country",
         "rawType": "object",
         "type": "string"
        },
        {
         "name": "continent",
         "rawType": "object",
         "type": "string"
        },
        {
         "name": "year",
         "rawType": "int64",
         "type": "integer"
        },
        {
         "name": "lifeExp",
         "rawType": "float64",
         "type": "float"
        },
        {
         "name": "pop",
         "rawType": "int64",
         "type": "integer"
        },
        {
         "name": "gdpPercap",
         "rawType": "float64",
         "type": "float"
        }
       ],
       "conversionMethod": "pd.DataFrame",
       "ref": "a8b27ea2-ddee-48e3-9bb5-878f91d9606b",
       "rows": [
        [
         "0",
         "Afghanistan",
         "Asia",
         "1952",
         "28.801",
         "8425333",
         "779.4453145"
        ],
        [
         "1",
         "Afghanistan",
         "Asia",
         "1957",
         "30.332",
         "9240934",
         "820.8530296"
        ],
        [
         "2",
         "Afghanistan",
         "Asia",
         "1962",
         "31.997",
         "10267083",
         "853.10071"
        ],
        [
         "3",
         "Afghanistan",
         "Asia",
         "1967",
         "34.02",
         "11537966",
         "836.1971382"
        ],
        [
         "4",
         "Afghanistan",
         "Asia",
         "1972",
         "36.088",
         "13079460",
         "739.9811058"
        ],
        [
         "5",
         "Afghanistan",
         "Asia",
         "1977",
         "38.438",
         "14880372",
         "786.11336"
        ],
        [
         "6",
         "Afghanistan",
         "Asia",
         "1982",
         "39.854",
         "12881816",
         "978.0114388"
        ],
        [
         "7",
         "Afghanistan",
         "Asia",
         "1987",
         "40.822",
         "13867957",
         "852.3959448"
        ],
        [
         "8",
         "Afghanistan",
         "Asia",
         "1992",
         "41.674",
         "16317921",
         "649.3413952"
        ],
        [
         "9",
         "Afghanistan",
         "Asia",
         "1997",
         "41.763",
         "22227415",
         "635.341351"
        ],
        [
         "10",
         "Afghanistan",
         "Asia",
         "2002",
         "42.129",
         "25268405",
         "726.7340548"
        ],
        [
         "11",
         "Afghanistan",
         "Asia",
         "2007",
         "43.828",
         "31889923",
         "974.5803384"
        ],
        [
         "12",
         "Bangladesh",
         "Asia",
         "1952",
         "37.484",
         "46886859",
         "684.2441716"
        ],
        [
         "13",
         "Bangladesh",
         "Asia",
         "1957",
         "39.348",
         "51365468",
         "661.6374577"
        ],
        [
         "14",
         "Bangladesh",
         "Asia",
         "1962",
         "41.216",
         "56839289",
         "686.3415538"
        ],
        [
         "15",
         "Bangladesh",
         "Asia",
         "1967",
         "43.453",
         "62821884",
         "721.1860862"
        ],
        [
         "16",
         "Bangladesh",
         "Asia",
         "1972",
         "45.252",
         "70759295",
         "630.2336265"
        ],
        [
         "17",
         "Bangladesh",
         "Asia",
         "1977",
         "46.923",
         "80428306",
         "659.8772322"
        ],
        [
         "18",
         "Bangladesh",
         "Asia",
         "1982",
         "50.009",
         "93074406",
         "676.9818656"
        ],
        [
         "19",
         "Bangladesh",
         "Asia",
         "1987",
         "52.819",
         "103764241",
         "751.9794035"
        ],
        [
         "20",
         "Bangladesh",
         "Asia",
         "1992",
         "56.018",
         "113704579",
         "837.8101643"
        ],
        [
         "21",
         "Bangladesh",
         "Asia",
         "1997",
         "59.412",
         "123315288",
         "972.7700352"
        ],
        [
         "22",
         "Bangladesh",
         "Asia",
         "2002",
         "62.013",
         "135656790",
         "1136.39043"
        ],
        [
         "23",
         "Bangladesh",
         "Asia",
         "2007",
         "64.062",
         "150448339",
         "1391.253792"
        ],
        [
         "24",
         "Cambodia",
         "Asia",
         "1957",
         "41.366",
         "5322536",
         "434.0383364"
        ],
        [
         "25",
         "Cambodia",
         "Asia",
         "1962",
         "43.415",
         "6083619",
         "496.9136476"
        ],
        [
         "26",
         "Cambodia",
         "Asia",
         "1967",
         "45.415",
         "6960067",
         "523.4323142"
        ],
        [
         "27",
         "Cambodia",
         "Asia",
         "1972",
         "40.317",
         "7450606",
         "421.6240257"
        ],
        [
         "28",
         "Cambodia",
         "Asia",
         "1977",
         "31.22",
         "6978607",
         "524.9721832"
        ],
        [
         "29",
         "Cambodia",
         "Asia",
         "1982",
         "50.957",
         "7272485",
         "624.4754784"
        ],
        [
         "30",
         "Cambodia",
         "Asia",
         "1987",
         "53.914",
         "8371791",
         "683.8955732"
        ],
        [
         "31",
         "Cambodia",
         "Asia",
         "1992",
         "55.803",
         "10150094",
         "682.3031755"
        ],
        [
         "32",
         "Cambodia",
         "Asia",
         "1997",
         "56.534",
         "11782962",
         "734.28517"
        ],
        [
         "33",
         "Cambodia",
         "Asia",
         "2002",
         "56.752",
         "12926707",
         "896.2260153"
        ],
        [
         "34",
         "Cambodia",
         "Asia",
         "2007",
         "59.723",
         "14131858",
         "1713.778686"
        ],
        [
         "35",
         "China",
         "Asia",
         "1952",
         "44.0",
         "556263527",
         "400.448611"
        ],
        [
         "36",
         "China",
         "Asia",
         "1957",
         "50.54896",
         "637408000",
         "575.9870009"
        ],
        [
         "37",
         "China",
         "Asia",
         "1962",
         "44.50136",
         "665770000",
         "487.6740183"
        ],
        [
         "38",
         "China",
         "Asia",
         "1967",
         "58.38112",
         "754550000",
         "612.7056934"
        ],
        [
         "39",
         "China",
         "Asia",
         "1972",
         "63.11888",
         "862030000",
         "676.9000921"
        ],
        [
         "40",
         "China",
         "Asia",
         "1977",
         "63.96736",
         "943455000",
         "741.2374699"
        ],
        [
         "41",
         "China",
         "Asia",
         "1982",
         "65.525",
         "1000281000",
         "962.4213805"
        ],
        [
         "42",
         "China",
         "Asia",
         "1987",
         "67.274",
         "1084035000",
         "1378.904018"
        ],
        [
         "43",
         "China",
         "Asia",
         "1992",
         "68.69",
         "1164970000",
         "1655.784158"
        ],
        [
         "44",
         "China",
         "Asia",
         "1997",
         "70.426",
         "1230075000",
         "2289.234136"
        ],
        [
         "45",
         "China",
         "Asia",
         "2002",
         "72.028",
         "1280400000",
         "3119.280896"
        ],
        [
         "46",
         "China",
         "Asia",
         "2007",
         "72.961",
         "1318683096",
         "4959.114854"
        ],
        [
         "47",
         "Hong Kong, China",
         "Asia",
         "1982",
         "75.45",
         "5264500",
         "14560.53051"
        ],
        [
         "48",
         "Hong Kong, China",
         "Asia",
         "1987",
         "76.2",
         "5584510",
         "20038.47269"
        ],
        [
         "49",
         "Hong Kong, China",
         "Asia",
         "1992",
         "77.601",
         "5829696",
         "24757.60301"
        ]
       ],
       "shape": {
        "columns": 6,
        "rows": 279
       }
      },
      "text/html": [
       "<div>\n",
       "<style scoped>\n",
       "    .dataframe tbody tr th:only-of-type {\n",
       "        vertical-align: middle;\n",
       "    }\n",
       "\n",
       "    .dataframe tbody tr th {\n",
       "        vertical-align: top;\n",
       "    }\n",
       "\n",
       "    .dataframe thead th {\n",
       "        text-align: right;\n",
       "    }\n",
       "</style>\n",
       "<table border=\"1\" class=\"dataframe\">\n",
       "  <thead>\n",
       "    <tr style=\"text-align: right;\">\n",
       "      <th></th>\n",
       "      <th>country</th>\n",
       "      <th>continent</th>\n",
       "      <th>year</th>\n",
       "      <th>lifeExp</th>\n",
       "      <th>pop</th>\n",
       "      <th>gdpPercap</th>\n",
       "    </tr>\n",
       "  </thead>\n",
       "  <tbody>\n",
       "    <tr>\n",
       "      <th>0</th>\n",
       "      <td>Afghanistan</td>\n",
       "      <td>Asia</td>\n",
       "      <td>1952</td>\n",
       "      <td>28.801</td>\n",
       "      <td>8425333</td>\n",
       "      <td>779.445314</td>\n",
       "    </tr>\n",
       "    <tr>\n",
       "      <th>1</th>\n",
       "      <td>Afghanistan</td>\n",
       "      <td>Asia</td>\n",
       "      <td>1957</td>\n",
       "      <td>30.332</td>\n",
       "      <td>9240934</td>\n",
       "      <td>820.853030</td>\n",
       "    </tr>\n",
       "    <tr>\n",
       "      <th>2</th>\n",
       "      <td>Afghanistan</td>\n",
       "      <td>Asia</td>\n",
       "      <td>1962</td>\n",
       "      <td>31.997</td>\n",
       "      <td>10267083</td>\n",
       "      <td>853.100710</td>\n",
       "    </tr>\n",
       "    <tr>\n",
       "      <th>3</th>\n",
       "      <td>Afghanistan</td>\n",
       "      <td>Asia</td>\n",
       "      <td>1967</td>\n",
       "      <td>34.020</td>\n",
       "      <td>11537966</td>\n",
       "      <td>836.197138</td>\n",
       "    </tr>\n",
       "    <tr>\n",
       "      <th>4</th>\n",
       "      <td>Afghanistan</td>\n",
       "      <td>Asia</td>\n",
       "      <td>1972</td>\n",
       "      <td>36.088</td>\n",
       "      <td>13079460</td>\n",
       "      <td>739.981106</td>\n",
       "    </tr>\n",
       "    <tr>\n",
       "      <th>...</th>\n",
       "      <td>...</td>\n",
       "      <td>...</td>\n",
       "      <td>...</td>\n",
       "      <td>...</td>\n",
       "      <td>...</td>\n",
       "      <td>...</td>\n",
       "    </tr>\n",
       "    <tr>\n",
       "      <th>274</th>\n",
       "      <td>Yemen, Rep.</td>\n",
       "      <td>Asia</td>\n",
       "      <td>1987</td>\n",
       "      <td>52.922</td>\n",
       "      <td>11219340</td>\n",
       "      <td>1971.741538</td>\n",
       "    </tr>\n",
       "    <tr>\n",
       "      <th>275</th>\n",
       "      <td>Yemen, Rep.</td>\n",
       "      <td>Asia</td>\n",
       "      <td>1992</td>\n",
       "      <td>55.599</td>\n",
       "      <td>13367997</td>\n",
       "      <td>1879.496673</td>\n",
       "    </tr>\n",
       "    <tr>\n",
       "      <th>276</th>\n",
       "      <td>Yemen, Rep.</td>\n",
       "      <td>Asia</td>\n",
       "      <td>1997</td>\n",
       "      <td>58.020</td>\n",
       "      <td>15826497</td>\n",
       "      <td>2117.484526</td>\n",
       "    </tr>\n",
       "    <tr>\n",
       "      <th>277</th>\n",
       "      <td>Yemen, Rep.</td>\n",
       "      <td>Asia</td>\n",
       "      <td>2002</td>\n",
       "      <td>60.308</td>\n",
       "      <td>18701257</td>\n",
       "      <td>2234.820827</td>\n",
       "    </tr>\n",
       "    <tr>\n",
       "      <th>278</th>\n",
       "      <td>Yemen, Rep.</td>\n",
       "      <td>Asia</td>\n",
       "      <td>2007</td>\n",
       "      <td>62.698</td>\n",
       "      <td>22211743</td>\n",
       "      <td>2280.769906</td>\n",
       "    </tr>\n",
       "  </tbody>\n",
       "</table>\n",
       "<p>279 rows × 6 columns</p>\n",
       "</div>"
      ],
      "text/plain": [
       "         country continent  year  lifeExp       pop    gdpPercap\n",
       "0    Afghanistan      Asia  1952   28.801   8425333   779.445314\n",
       "1    Afghanistan      Asia  1957   30.332   9240934   820.853030\n",
       "2    Afghanistan      Asia  1962   31.997  10267083   853.100710\n",
       "3    Afghanistan      Asia  1967   34.020  11537966   836.197138\n",
       "4    Afghanistan      Asia  1972   36.088  13079460   739.981106\n",
       "..           ...       ...   ...      ...       ...          ...\n",
       "274  Yemen, Rep.      Asia  1987   52.922  11219340  1971.741538\n",
       "275  Yemen, Rep.      Asia  1992   55.599  13367997  1879.496673\n",
       "276  Yemen, Rep.      Asia  1997   58.020  15826497  2117.484526\n",
       "277  Yemen, Rep.      Asia  2002   60.308  18701257  2234.820827\n",
       "278  Yemen, Rep.      Asia  2007   62.698  22211743  2280.769906\n",
       "\n",
       "[279 rows x 6 columns]"
      ]
     },
     "execution_count": 22,
     "metadata": {},
     "output_type": "execute_result"
    }
   ],
   "source": [
    "base_asia5=base[(base['continent']=='Asia') & (base['pop']>5000000)].reset_index(drop=True)\n",
    "base_asia5"
   ]
  },
  {
   "cell_type": "markdown",
   "id": "7cbcafd0",
   "metadata": {},
   "source": [
    "Finalmente, quisiera mencionar un caso en el que queremos filtrar usando una condición de tipo *is in*. Por ejemplo, si quisieramos filtrar por los países que están contenidos en una lista (Argentina, Colombia y Chile):"
   ]
  },
  {
   "cell_type": "code",
   "execution_count": 23,
   "id": "57ee262c",
   "metadata": {},
   "outputs": [
    {
     "data": {
      "application/vnd.microsoft.datawrangler.viewer.v0+json": {
       "columns": [
        {
         "name": "index",
         "rawType": "int64",
         "type": "integer"
        },
        {
         "name": "country",
         "rawType": "object",
         "type": "string"
        },
        {
         "name": "continent",
         "rawType": "object",
         "type": "string"
        },
        {
         "name": "year",
         "rawType": "int64",
         "type": "integer"
        },
        {
         "name": "lifeExp",
         "rawType": "float64",
         "type": "float"
        },
        {
         "name": "pop",
         "rawType": "int64",
         "type": "integer"
        },
        {
         "name": "gdpPercap",
         "rawType": "float64",
         "type": "float"
        }
       ],
       "conversionMethod": "pd.DataFrame",
       "ref": "d421fbfc-e9cd-4f20-b930-6a900fef7439",
       "rows": [
        [
         "0",
         "Argentina",
         "Americas",
         "1952",
         "62.485",
         "17876956",
         "5911.315053"
        ],
        [
         "1",
         "Argentina",
         "Americas",
         "1957",
         "64.399",
         "19610538",
         "6856.856212"
        ],
        [
         "2",
         "Argentina",
         "Americas",
         "1962",
         "65.142",
         "21283783",
         "7133.166023"
        ],
        [
         "3",
         "Argentina",
         "Americas",
         "1967",
         "65.634",
         "22934225",
         "8052.953021"
        ],
        [
         "4",
         "Argentina",
         "Americas",
         "1972",
         "67.065",
         "24779799",
         "9443.038526"
        ],
        [
         "5",
         "Argentina",
         "Americas",
         "1977",
         "68.481",
         "26983828",
         "10079.02674"
        ],
        [
         "6",
         "Argentina",
         "Americas",
         "1982",
         "69.942",
         "29341374",
         "8997.897412"
        ],
        [
         "7",
         "Argentina",
         "Americas",
         "1987",
         "70.774",
         "31620918",
         "9139.671389"
        ],
        [
         "8",
         "Argentina",
         "Americas",
         "1992",
         "71.868",
         "33958947",
         "9308.41871"
        ],
        [
         "9",
         "Argentina",
         "Americas",
         "1997",
         "73.275",
         "36203463",
         "10967.28195"
        ],
        [
         "10",
         "Argentina",
         "Americas",
         "2002",
         "74.34",
         "38331121",
         "8797.640716"
        ],
        [
         "11",
         "Argentina",
         "Americas",
         "2007",
         "75.32",
         "40301927",
         "12779.37964"
        ],
        [
         "12",
         "Chile",
         "Americas",
         "1952",
         "54.745",
         "6377619",
         "3939.978789"
        ],
        [
         "13",
         "Chile",
         "Americas",
         "1957",
         "56.074",
         "7048426",
         "4315.622723"
        ],
        [
         "14",
         "Chile",
         "Americas",
         "1962",
         "57.924",
         "7961258",
         "4519.094331"
        ],
        [
         "15",
         "Chile",
         "Americas",
         "1967",
         "60.523",
         "8858908",
         "5106.654313"
        ],
        [
         "16",
         "Chile",
         "Americas",
         "1972",
         "63.441",
         "9717524",
         "5494.024437"
        ],
        [
         "17",
         "Chile",
         "Americas",
         "1977",
         "67.052",
         "10599793",
         "4756.763836"
        ],
        [
         "18",
         "Chile",
         "Americas",
         "1982",
         "70.565",
         "11487112",
         "5095.665738"
        ],
        [
         "19",
         "Chile",
         "Americas",
         "1987",
         "72.492",
         "12463354",
         "5547.063754"
        ],
        [
         "20",
         "Chile",
         "Americas",
         "1992",
         "74.126",
         "13572994",
         "7596.125964"
        ],
        [
         "21",
         "Chile",
         "Americas",
         "1997",
         "75.816",
         "14599929",
         "10118.05318"
        ],
        [
         "22",
         "Chile",
         "Americas",
         "2002",
         "77.86",
         "15497046",
         "10778.78385"
        ],
        [
         "23",
         "Chile",
         "Americas",
         "2007",
         "78.553",
         "16284741",
         "13171.63885"
        ],
        [
         "24",
         "Colombia",
         "Americas",
         "1952",
         "50.643",
         "12350771",
         "2144.115096"
        ],
        [
         "25",
         "Colombia",
         "Americas",
         "1957",
         "55.118",
         "14485993",
         "2323.805581"
        ],
        [
         "26",
         "Colombia",
         "Americas",
         "1962",
         "57.863",
         "17009885",
         "2492.351109"
        ],
        [
         "27",
         "Colombia",
         "Americas",
         "1967",
         "59.963",
         "19764027",
         "2678.729839"
        ],
        [
         "28",
         "Colombia",
         "Americas",
         "1972",
         "61.623",
         "22542890",
         "3264.660041"
        ],
        [
         "29",
         "Colombia",
         "Americas",
         "1977",
         "63.837",
         "25094412",
         "3815.80787"
        ],
        [
         "30",
         "Colombia",
         "Americas",
         "1982",
         "66.653",
         "27764644",
         "4397.575659"
        ],
        [
         "31",
         "Colombia",
         "Americas",
         "1987",
         "67.768",
         "30964245",
         "4903.2191"
        ],
        [
         "32",
         "Colombia",
         "Americas",
         "1992",
         "68.421",
         "34202721",
         "5444.648617"
        ],
        [
         "33",
         "Colombia",
         "Americas",
         "1997",
         "70.313",
         "37657830",
         "6117.361746"
        ],
        [
         "34",
         "Colombia",
         "Americas",
         "2002",
         "71.682",
         "41008227",
         "5755.259962"
        ],
        [
         "35",
         "Colombia",
         "Americas",
         "2007",
         "72.889",
         "44227550",
         "7006.580419"
        ]
       ],
       "shape": {
        "columns": 6,
        "rows": 36
       }
      },
      "text/html": [
       "<div>\n",
       "<style scoped>\n",
       "    .dataframe tbody tr th:only-of-type {\n",
       "        vertical-align: middle;\n",
       "    }\n",
       "\n",
       "    .dataframe tbody tr th {\n",
       "        vertical-align: top;\n",
       "    }\n",
       "\n",
       "    .dataframe thead th {\n",
       "        text-align: right;\n",
       "    }\n",
       "</style>\n",
       "<table border=\"1\" class=\"dataframe\">\n",
       "  <thead>\n",
       "    <tr style=\"text-align: right;\">\n",
       "      <th></th>\n",
       "      <th>country</th>\n",
       "      <th>continent</th>\n",
       "      <th>year</th>\n",
       "      <th>lifeExp</th>\n",
       "      <th>pop</th>\n",
       "      <th>gdpPercap</th>\n",
       "    </tr>\n",
       "  </thead>\n",
       "  <tbody>\n",
       "    <tr>\n",
       "      <th>0</th>\n",
       "      <td>Argentina</td>\n",
       "      <td>Americas</td>\n",
       "      <td>1952</td>\n",
       "      <td>62.485</td>\n",
       "      <td>17876956</td>\n",
       "      <td>5911.315053</td>\n",
       "    </tr>\n",
       "    <tr>\n",
       "      <th>1</th>\n",
       "      <td>Argentina</td>\n",
       "      <td>Americas</td>\n",
       "      <td>1957</td>\n",
       "      <td>64.399</td>\n",
       "      <td>19610538</td>\n",
       "      <td>6856.856212</td>\n",
       "    </tr>\n",
       "    <tr>\n",
       "      <th>2</th>\n",
       "      <td>Argentina</td>\n",
       "      <td>Americas</td>\n",
       "      <td>1962</td>\n",
       "      <td>65.142</td>\n",
       "      <td>21283783</td>\n",
       "      <td>7133.166023</td>\n",
       "    </tr>\n",
       "    <tr>\n",
       "      <th>3</th>\n",
       "      <td>Argentina</td>\n",
       "      <td>Americas</td>\n",
       "      <td>1967</td>\n",
       "      <td>65.634</td>\n",
       "      <td>22934225</td>\n",
       "      <td>8052.953021</td>\n",
       "    </tr>\n",
       "    <tr>\n",
       "      <th>4</th>\n",
       "      <td>Argentina</td>\n",
       "      <td>Americas</td>\n",
       "      <td>1972</td>\n",
       "      <td>67.065</td>\n",
       "      <td>24779799</td>\n",
       "      <td>9443.038526</td>\n",
       "    </tr>\n",
       "    <tr>\n",
       "      <th>5</th>\n",
       "      <td>Argentina</td>\n",
       "      <td>Americas</td>\n",
       "      <td>1977</td>\n",
       "      <td>68.481</td>\n",
       "      <td>26983828</td>\n",
       "      <td>10079.026740</td>\n",
       "    </tr>\n",
       "    <tr>\n",
       "      <th>6</th>\n",
       "      <td>Argentina</td>\n",
       "      <td>Americas</td>\n",
       "      <td>1982</td>\n",
       "      <td>69.942</td>\n",
       "      <td>29341374</td>\n",
       "      <td>8997.897412</td>\n",
       "    </tr>\n",
       "    <tr>\n",
       "      <th>7</th>\n",
       "      <td>Argentina</td>\n",
       "      <td>Americas</td>\n",
       "      <td>1987</td>\n",
       "      <td>70.774</td>\n",
       "      <td>31620918</td>\n",
       "      <td>9139.671389</td>\n",
       "    </tr>\n",
       "    <tr>\n",
       "      <th>8</th>\n",
       "      <td>Argentina</td>\n",
       "      <td>Americas</td>\n",
       "      <td>1992</td>\n",
       "      <td>71.868</td>\n",
       "      <td>33958947</td>\n",
       "      <td>9308.418710</td>\n",
       "    </tr>\n",
       "    <tr>\n",
       "      <th>9</th>\n",
       "      <td>Argentina</td>\n",
       "      <td>Americas</td>\n",
       "      <td>1997</td>\n",
       "      <td>73.275</td>\n",
       "      <td>36203463</td>\n",
       "      <td>10967.281950</td>\n",
       "    </tr>\n",
       "    <tr>\n",
       "      <th>10</th>\n",
       "      <td>Argentina</td>\n",
       "      <td>Americas</td>\n",
       "      <td>2002</td>\n",
       "      <td>74.340</td>\n",
       "      <td>38331121</td>\n",
       "      <td>8797.640716</td>\n",
       "    </tr>\n",
       "    <tr>\n",
       "      <th>11</th>\n",
       "      <td>Argentina</td>\n",
       "      <td>Americas</td>\n",
       "      <td>2007</td>\n",
       "      <td>75.320</td>\n",
       "      <td>40301927</td>\n",
       "      <td>12779.379640</td>\n",
       "    </tr>\n",
       "    <tr>\n",
       "      <th>12</th>\n",
       "      <td>Chile</td>\n",
       "      <td>Americas</td>\n",
       "      <td>1952</td>\n",
       "      <td>54.745</td>\n",
       "      <td>6377619</td>\n",
       "      <td>3939.978789</td>\n",
       "    </tr>\n",
       "    <tr>\n",
       "      <th>13</th>\n",
       "      <td>Chile</td>\n",
       "      <td>Americas</td>\n",
       "      <td>1957</td>\n",
       "      <td>56.074</td>\n",
       "      <td>7048426</td>\n",
       "      <td>4315.622723</td>\n",
       "    </tr>\n",
       "    <tr>\n",
       "      <th>14</th>\n",
       "      <td>Chile</td>\n",
       "      <td>Americas</td>\n",
       "      <td>1962</td>\n",
       "      <td>57.924</td>\n",
       "      <td>7961258</td>\n",
       "      <td>4519.094331</td>\n",
       "    </tr>\n",
       "    <tr>\n",
       "      <th>15</th>\n",
       "      <td>Chile</td>\n",
       "      <td>Americas</td>\n",
       "      <td>1967</td>\n",
       "      <td>60.523</td>\n",
       "      <td>8858908</td>\n",
       "      <td>5106.654313</td>\n",
       "    </tr>\n",
       "    <tr>\n",
       "      <th>16</th>\n",
       "      <td>Chile</td>\n",
       "      <td>Americas</td>\n",
       "      <td>1972</td>\n",
       "      <td>63.441</td>\n",
       "      <td>9717524</td>\n",
       "      <td>5494.024437</td>\n",
       "    </tr>\n",
       "    <tr>\n",
       "      <th>17</th>\n",
       "      <td>Chile</td>\n",
       "      <td>Americas</td>\n",
       "      <td>1977</td>\n",
       "      <td>67.052</td>\n",
       "      <td>10599793</td>\n",
       "      <td>4756.763836</td>\n",
       "    </tr>\n",
       "    <tr>\n",
       "      <th>18</th>\n",
       "      <td>Chile</td>\n",
       "      <td>Americas</td>\n",
       "      <td>1982</td>\n",
       "      <td>70.565</td>\n",
       "      <td>11487112</td>\n",
       "      <td>5095.665738</td>\n",
       "    </tr>\n",
       "    <tr>\n",
       "      <th>19</th>\n",
       "      <td>Chile</td>\n",
       "      <td>Americas</td>\n",
       "      <td>1987</td>\n",
       "      <td>72.492</td>\n",
       "      <td>12463354</td>\n",
       "      <td>5547.063754</td>\n",
       "    </tr>\n",
       "    <tr>\n",
       "      <th>20</th>\n",
       "      <td>Chile</td>\n",
       "      <td>Americas</td>\n",
       "      <td>1992</td>\n",
       "      <td>74.126</td>\n",
       "      <td>13572994</td>\n",
       "      <td>7596.125964</td>\n",
       "    </tr>\n",
       "    <tr>\n",
       "      <th>21</th>\n",
       "      <td>Chile</td>\n",
       "      <td>Americas</td>\n",
       "      <td>1997</td>\n",
       "      <td>75.816</td>\n",
       "      <td>14599929</td>\n",
       "      <td>10118.053180</td>\n",
       "    </tr>\n",
       "    <tr>\n",
       "      <th>22</th>\n",
       "      <td>Chile</td>\n",
       "      <td>Americas</td>\n",
       "      <td>2002</td>\n",
       "      <td>77.860</td>\n",
       "      <td>15497046</td>\n",
       "      <td>10778.783850</td>\n",
       "    </tr>\n",
       "    <tr>\n",
       "      <th>23</th>\n",
       "      <td>Chile</td>\n",
       "      <td>Americas</td>\n",
       "      <td>2007</td>\n",
       "      <td>78.553</td>\n",
       "      <td>16284741</td>\n",
       "      <td>13171.638850</td>\n",
       "    </tr>\n",
       "    <tr>\n",
       "      <th>24</th>\n",
       "      <td>Colombia</td>\n",
       "      <td>Americas</td>\n",
       "      <td>1952</td>\n",
       "      <td>50.643</td>\n",
       "      <td>12350771</td>\n",
       "      <td>2144.115096</td>\n",
       "    </tr>\n",
       "    <tr>\n",
       "      <th>25</th>\n",
       "      <td>Colombia</td>\n",
       "      <td>Americas</td>\n",
       "      <td>1957</td>\n",
       "      <td>55.118</td>\n",
       "      <td>14485993</td>\n",
       "      <td>2323.805581</td>\n",
       "    </tr>\n",
       "    <tr>\n",
       "      <th>26</th>\n",
       "      <td>Colombia</td>\n",
       "      <td>Americas</td>\n",
       "      <td>1962</td>\n",
       "      <td>57.863</td>\n",
       "      <td>17009885</td>\n",
       "      <td>2492.351109</td>\n",
       "    </tr>\n",
       "    <tr>\n",
       "      <th>27</th>\n",
       "      <td>Colombia</td>\n",
       "      <td>Americas</td>\n",
       "      <td>1967</td>\n",
       "      <td>59.963</td>\n",
       "      <td>19764027</td>\n",
       "      <td>2678.729839</td>\n",
       "    </tr>\n",
       "    <tr>\n",
       "      <th>28</th>\n",
       "      <td>Colombia</td>\n",
       "      <td>Americas</td>\n",
       "      <td>1972</td>\n",
       "      <td>61.623</td>\n",
       "      <td>22542890</td>\n",
       "      <td>3264.660041</td>\n",
       "    </tr>\n",
       "    <tr>\n",
       "      <th>29</th>\n",
       "      <td>Colombia</td>\n",
       "      <td>Americas</td>\n",
       "      <td>1977</td>\n",
       "      <td>63.837</td>\n",
       "      <td>25094412</td>\n",
       "      <td>3815.807870</td>\n",
       "    </tr>\n",
       "    <tr>\n",
       "      <th>30</th>\n",
       "      <td>Colombia</td>\n",
       "      <td>Americas</td>\n",
       "      <td>1982</td>\n",
       "      <td>66.653</td>\n",
       "      <td>27764644</td>\n",
       "      <td>4397.575659</td>\n",
       "    </tr>\n",
       "    <tr>\n",
       "      <th>31</th>\n",
       "      <td>Colombia</td>\n",
       "      <td>Americas</td>\n",
       "      <td>1987</td>\n",
       "      <td>67.768</td>\n",
       "      <td>30964245</td>\n",
       "      <td>4903.219100</td>\n",
       "    </tr>\n",
       "    <tr>\n",
       "      <th>32</th>\n",
       "      <td>Colombia</td>\n",
       "      <td>Americas</td>\n",
       "      <td>1992</td>\n",
       "      <td>68.421</td>\n",
       "      <td>34202721</td>\n",
       "      <td>5444.648617</td>\n",
       "    </tr>\n",
       "    <tr>\n",
       "      <th>33</th>\n",
       "      <td>Colombia</td>\n",
       "      <td>Americas</td>\n",
       "      <td>1997</td>\n",
       "      <td>70.313</td>\n",
       "      <td>37657830</td>\n",
       "      <td>6117.361746</td>\n",
       "    </tr>\n",
       "    <tr>\n",
       "      <th>34</th>\n",
       "      <td>Colombia</td>\n",
       "      <td>Americas</td>\n",
       "      <td>2002</td>\n",
       "      <td>71.682</td>\n",
       "      <td>41008227</td>\n",
       "      <td>5755.259962</td>\n",
       "    </tr>\n",
       "    <tr>\n",
       "      <th>35</th>\n",
       "      <td>Colombia</td>\n",
       "      <td>Americas</td>\n",
       "      <td>2007</td>\n",
       "      <td>72.889</td>\n",
       "      <td>44227550</td>\n",
       "      <td>7006.580419</td>\n",
       "    </tr>\n",
       "  </tbody>\n",
       "</table>\n",
       "</div>"
      ],
      "text/plain": [
       "      country continent  year  lifeExp       pop     gdpPercap\n",
       "0   Argentina  Americas  1952   62.485  17876956   5911.315053\n",
       "1   Argentina  Americas  1957   64.399  19610538   6856.856212\n",
       "2   Argentina  Americas  1962   65.142  21283783   7133.166023\n",
       "3   Argentina  Americas  1967   65.634  22934225   8052.953021\n",
       "4   Argentina  Americas  1972   67.065  24779799   9443.038526\n",
       "5   Argentina  Americas  1977   68.481  26983828  10079.026740\n",
       "6   Argentina  Americas  1982   69.942  29341374   8997.897412\n",
       "7   Argentina  Americas  1987   70.774  31620918   9139.671389\n",
       "8   Argentina  Americas  1992   71.868  33958947   9308.418710\n",
       "9   Argentina  Americas  1997   73.275  36203463  10967.281950\n",
       "10  Argentina  Americas  2002   74.340  38331121   8797.640716\n",
       "11  Argentina  Americas  2007   75.320  40301927  12779.379640\n",
       "12      Chile  Americas  1952   54.745   6377619   3939.978789\n",
       "13      Chile  Americas  1957   56.074   7048426   4315.622723\n",
       "14      Chile  Americas  1962   57.924   7961258   4519.094331\n",
       "15      Chile  Americas  1967   60.523   8858908   5106.654313\n",
       "16      Chile  Americas  1972   63.441   9717524   5494.024437\n",
       "17      Chile  Americas  1977   67.052  10599793   4756.763836\n",
       "18      Chile  Americas  1982   70.565  11487112   5095.665738\n",
       "19      Chile  Americas  1987   72.492  12463354   5547.063754\n",
       "20      Chile  Americas  1992   74.126  13572994   7596.125964\n",
       "21      Chile  Americas  1997   75.816  14599929  10118.053180\n",
       "22      Chile  Americas  2002   77.860  15497046  10778.783850\n",
       "23      Chile  Americas  2007   78.553  16284741  13171.638850\n",
       "24   Colombia  Americas  1952   50.643  12350771   2144.115096\n",
       "25   Colombia  Americas  1957   55.118  14485993   2323.805581\n",
       "26   Colombia  Americas  1962   57.863  17009885   2492.351109\n",
       "27   Colombia  Americas  1967   59.963  19764027   2678.729839\n",
       "28   Colombia  Americas  1972   61.623  22542890   3264.660041\n",
       "29   Colombia  Americas  1977   63.837  25094412   3815.807870\n",
       "30   Colombia  Americas  1982   66.653  27764644   4397.575659\n",
       "31   Colombia  Americas  1987   67.768  30964245   4903.219100\n",
       "32   Colombia  Americas  1992   68.421  34202721   5444.648617\n",
       "33   Colombia  Americas  1997   70.313  37657830   6117.361746\n",
       "34   Colombia  Americas  2002   71.682  41008227   5755.259962\n",
       "35   Colombia  Americas  2007   72.889  44227550   7006.580419"
      ]
     },
     "execution_count": 23,
     "metadata": {},
     "output_type": "execute_result"
    }
   ],
   "source": [
    "lista_paises=['Argentina','Colombia','Chile']\n",
    "base_paises=base[base['country'].isin(lista_paises)].reset_index(drop=True)\n",
    "base_paises"
   ]
  },
  {
   "cell_type": "markdown",
   "id": "45fbbabc",
   "metadata": {},
   "source": [
    "**Ejercicio:** Obtenga una base de datos que contenga solo los registros del año 2007 y que excluya los países de Oceanía."
   ]
  },
  {
   "cell_type": "code",
   "execution_count": 24,
   "id": "31dd7987",
   "metadata": {},
   "outputs": [],
   "source": [
    "# base_07_sin_oc="
   ]
  },
  {
   "cell_type": "markdown",
   "id": "1de1825e",
   "metadata": {},
   "source": [
    "Veamos ahora como reordenar filas. Supongamos que queremos ordernar por año y población, ambos de menor a mayor:"
   ]
  },
  {
   "cell_type": "code",
   "execution_count": 25,
   "id": "53f3e5e7",
   "metadata": {},
   "outputs": [
    {
     "data": {
      "application/vnd.microsoft.datawrangler.viewer.v0+json": {
       "columns": [
        {
         "name": "index",
         "rawType": "int64",
         "type": "integer"
        },
        {
         "name": "country",
         "rawType": "object",
         "type": "string"
        },
        {
         "name": "continent",
         "rawType": "object",
         "type": "string"
        },
        {
         "name": "year",
         "rawType": "int64",
         "type": "integer"
        },
        {
         "name": "lifeExp",
         "rawType": "float64",
         "type": "float"
        },
        {
         "name": "pop",
         "rawType": "int64",
         "type": "integer"
        },
        {
         "name": "gdpPercap",
         "rawType": "float64",
         "type": "float"
        }
       ],
       "conversionMethod": "pd.DataFrame",
       "ref": "fee8f1a6-906b-4eb7-ae21-12a942be18c3",
       "rows": [
        [
         "1296",
         "Sao Tome and Principe",
         "Africa",
         "1952",
         "46.471",
         "60011",
         "879.5835855"
        ],
        [
         "420",
         "Djibouti",
         "Africa",
         "1952",
         "34.812",
         "63149",
         "2669.529475"
        ],
        [
         "84",
         "Bahrain",
         "Asia",
         "1952",
         "50.939",
         "120447",
         "9867.084765"
        ],
        [
         "684",
         "Iceland",
         "Europe",
         "1952",
         "72.49",
         "147962",
         "7267.688428"
        ],
        [
         "312",
         "Comoros",
         "Africa",
         "1952",
         "40.715",
         "153936",
         "1102.990936"
        ],
        [
         "852",
         "Kuwait",
         "Asia",
         "1952",
         "55.565",
         "160000",
         "108382.3529"
        ],
        [
         "480",
         "Equatorial Guinea",
         "Africa",
         "1952",
         "34.482",
         "216964",
         "375.6431231"
        ],
        [
         "1260",
         "Reunion",
         "Africa",
         "1952",
         "52.724",
         "257700",
         "2718.885295"
        ],
        [
         "552",
         "Gambia",
         "Africa",
         "1952",
         "30.0",
         "284320",
         "485.2306591"
        ],
        [
         "1452",
         "Swaziland",
         "Africa",
         "1952",
         "41.407",
         "290243",
         "1148.376626"
        ],
        [
         "1008",
         "Montenegro",
         "Europe",
         "1952",
         "59.164",
         "413834",
         "2647.585601"
        ],
        [
         "540",
         "Gabon",
         "Africa",
         "1952",
         "37.003",
         "420702",
         "4293.476475"
        ],
        [
         "156",
         "Botswana",
         "Africa",
         "1952",
         "47.622",
         "442308",
         "851.2411407"
        ],
        [
         "1056",
         "Namibia",
         "Africa",
         "1952",
         "41.725",
         "485831",
         "2423.780443"
        ],
        [
         "1152",
         "Oman",
         "Asia",
         "1952",
         "37.578",
         "507833",
         "1828.230307"
        ],
        [
         "972",
         "Mauritius",
         "Africa",
         "1952",
         "50.986",
         "516556",
         "1967.955707"
        ],
        [
         "624",
         "Guinea-Bissau",
         "Africa",
         "1952",
         "32.5",
         "580653",
         "299.850319"
        ],
        [
         "804",
         "Jordan",
         "Asia",
         "1952",
         "43.158",
         "607914",
         "1546.907807"
        ],
        [
         "1548",
         "Trinidad and Tobago",
         "Americas",
         "1952",
         "59.1",
         "662850",
         "3023.271928"
        ],
        [
         "876",
         "Lesotho",
         "Africa",
         "1952",
         "42.138",
         "748747",
         "298.8462121"
        ],
        [
         "996",
         "Mongolia",
         "Asia",
         "1952",
         "42.244",
         "800663",
         "786.5668575"
        ],
        [
         "336",
         "Congo, Rep.",
         "Africa",
         "1952",
         "42.111",
         "854885",
         "2125.621418"
        ],
        [
         "888",
         "Liberia",
         "Africa",
         "1952",
         "38.48",
         "863308",
         "575.5729961"
        ],
        [
         "348",
         "Costa Rica",
         "Americas",
         "1952",
         "57.206",
         "926317",
         "2627.009471"
        ],
        [
         "1176",
         "Panama",
         "Americas",
         "1952",
         "55.191",
         "940080",
         "2480.380334"
        ],
        [
         "900",
         "Libya",
         "Africa",
         "1952",
         "42.723",
         "1019729",
         "2387.54806"
        ],
        [
         "960",
         "Mauritania",
         "Africa",
         "1952",
         "40.543",
         "1022556",
         "743.1159097"
        ],
        [
         "1656",
         "West Bank and Gaza",
         "Asia",
         "1952",
         "43.16",
         "1030585",
         "1515.592329"
        ],
        [
         "1356",
         "Singapore",
         "Asia",
         "1952",
         "60.396",
         "1127000",
         "2315.138227"
        ],
        [
         "1104",
         "Nicaragua",
         "Americas",
         "1952",
         "42.314",
         "1165790",
         "3112.363948"
        ],
        [
         "1536",
         "Togo",
         "Africa",
         "1952",
         "38.596",
         "1219113",
         "859.8086567"
        ],
        [
         "12",
         "Albania",
         "Europe",
         "1952",
         "55.23",
         "1282697",
         "1601.056136"
        ],
        [
         "252",
         "Central African Republic",
         "Africa",
         "1952",
         "35.463",
         "1291695",
         "1071.310713"
        ],
        [
         "780",
         "Jamaica",
         "Americas",
         "1952",
         "58.53",
         "1426095",
         "2898.530881"
        ],
        [
         "492",
         "Eritrea",
         "Africa",
         "1952",
         "35.928",
         "1438760",
         "328.9405571"
        ],
        [
         "864",
         "Lebanon",
         "Asia",
         "1952",
         "55.928",
         "1439529",
         "4834.804067"
        ],
        [
         "1380",
         "Slovenia",
         "Europe",
         "1952",
         "65.57",
         "1489518",
         "4215.041741"
        ],
        [
         "648",
         "Honduras",
         "Americas",
         "1952",
         "41.912",
         "1517453",
         "2194.926204"
        ],
        [
         "1188",
         "Paraguay",
         "Americas",
         "1952",
         "62.649",
         "1555876",
         "1952.308701"
        ],
        [
         "756",
         "Israel",
         "Asia",
         "1952",
         "65.39",
         "1620914",
         "4086.522128"
        ],
        [
         "120",
         "Benin",
         "Africa",
         "1952",
         "38.223",
         "1738315",
         "1062.7522"
        ],
        [
         "1092",
         "New Zealand",
         "Oceania",
         "1952",
         "69.39",
         "1994794",
         "10556.57566"
        ],
        [
         "468",
         "El Salvador",
         "Americas",
         "1952",
         "45.262",
         "2042865",
         "3048.3029"
        ],
        [
         "660",
         "Hong Kong, China",
         "Asia",
         "1952",
         "60.96",
         "2125900",
         "3054.421209"
        ],
        [
         "1344",
         "Sierra Leone",
         "Africa",
         "1952",
         "30.331",
         "2143249",
         "879.7877358"
        ],
        [
         "1248",
         "Puerto Rico",
         "Americas",
         "1952",
         "64.28",
         "2227000",
         "3081.959785"
        ],
        [
         "1620",
         "Uruguay",
         "Americas",
         "1952",
         "66.071",
         "2252965",
         "5716.766744"
        ],
        [
         "204",
         "Burundi",
         "Africa",
         "1952",
         "39.031",
         "2445618",
         "339.2964587"
        ],
        [
         "432",
         "Dominican Republic",
         "Americas",
         "1952",
         "45.928",
         "2491346",
         "1397.717137"
        ],
        [
         "1392",
         "Somalia",
         "Africa",
         "1952",
         "32.978",
         "2526994",
         "1135.749842"
        ]
       ],
       "shape": {
        "columns": 6,
        "rows": 1704
       }
      },
      "text/html": [
       "<div>\n",
       "<style scoped>\n",
       "    .dataframe tbody tr th:only-of-type {\n",
       "        vertical-align: middle;\n",
       "    }\n",
       "\n",
       "    .dataframe tbody tr th {\n",
       "        vertical-align: top;\n",
       "    }\n",
       "\n",
       "    .dataframe thead th {\n",
       "        text-align: right;\n",
       "    }\n",
       "</style>\n",
       "<table border=\"1\" class=\"dataframe\">\n",
       "  <thead>\n",
       "    <tr style=\"text-align: right;\">\n",
       "      <th></th>\n",
       "      <th>country</th>\n",
       "      <th>continent</th>\n",
       "      <th>year</th>\n",
       "      <th>lifeExp</th>\n",
       "      <th>pop</th>\n",
       "      <th>gdpPercap</th>\n",
       "    </tr>\n",
       "  </thead>\n",
       "  <tbody>\n",
       "    <tr>\n",
       "      <th>1296</th>\n",
       "      <td>Sao Tome and Principe</td>\n",
       "      <td>Africa</td>\n",
       "      <td>1952</td>\n",
       "      <td>46.471</td>\n",
       "      <td>60011</td>\n",
       "      <td>879.583586</td>\n",
       "    </tr>\n",
       "    <tr>\n",
       "      <th>420</th>\n",
       "      <td>Djibouti</td>\n",
       "      <td>Africa</td>\n",
       "      <td>1952</td>\n",
       "      <td>34.812</td>\n",
       "      <td>63149</td>\n",
       "      <td>2669.529475</td>\n",
       "    </tr>\n",
       "    <tr>\n",
       "      <th>84</th>\n",
       "      <td>Bahrain</td>\n",
       "      <td>Asia</td>\n",
       "      <td>1952</td>\n",
       "      <td>50.939</td>\n",
       "      <td>120447</td>\n",
       "      <td>9867.084765</td>\n",
       "    </tr>\n",
       "    <tr>\n",
       "      <th>684</th>\n",
       "      <td>Iceland</td>\n",
       "      <td>Europe</td>\n",
       "      <td>1952</td>\n",
       "      <td>72.490</td>\n",
       "      <td>147962</td>\n",
       "      <td>7267.688428</td>\n",
       "    </tr>\n",
       "    <tr>\n",
       "      <th>312</th>\n",
       "      <td>Comoros</td>\n",
       "      <td>Africa</td>\n",
       "      <td>1952</td>\n",
       "      <td>40.715</td>\n",
       "      <td>153936</td>\n",
       "      <td>1102.990936</td>\n",
       "    </tr>\n",
       "    <tr>\n",
       "      <th>...</th>\n",
       "      <td>...</td>\n",
       "      <td>...</td>\n",
       "      <td>...</td>\n",
       "      <td>...</td>\n",
       "      <td>...</td>\n",
       "      <td>...</td>\n",
       "    </tr>\n",
       "    <tr>\n",
       "      <th>179</th>\n",
       "      <td>Brazil</td>\n",
       "      <td>Americas</td>\n",
       "      <td>2007</td>\n",
       "      <td>72.390</td>\n",
       "      <td>190010647</td>\n",
       "      <td>9065.800825</td>\n",
       "    </tr>\n",
       "    <tr>\n",
       "      <th>719</th>\n",
       "      <td>Indonesia</td>\n",
       "      <td>Asia</td>\n",
       "      <td>2007</td>\n",
       "      <td>70.650</td>\n",
       "      <td>223547000</td>\n",
       "      <td>3540.651564</td>\n",
       "    </tr>\n",
       "    <tr>\n",
       "      <th>1619</th>\n",
       "      <td>United States</td>\n",
       "      <td>Americas</td>\n",
       "      <td>2007</td>\n",
       "      <td>78.242</td>\n",
       "      <td>301139947</td>\n",
       "      <td>42951.653090</td>\n",
       "    </tr>\n",
       "    <tr>\n",
       "      <th>707</th>\n",
       "      <td>India</td>\n",
       "      <td>Asia</td>\n",
       "      <td>2007</td>\n",
       "      <td>64.698</td>\n",
       "      <td>1110396331</td>\n",
       "      <td>2452.210407</td>\n",
       "    </tr>\n",
       "    <tr>\n",
       "      <th>299</th>\n",
       "      <td>China</td>\n",
       "      <td>Asia</td>\n",
       "      <td>2007</td>\n",
       "      <td>72.961</td>\n",
       "      <td>1318683096</td>\n",
       "      <td>4959.114854</td>\n",
       "    </tr>\n",
       "  </tbody>\n",
       "</table>\n",
       "<p>1704 rows × 6 columns</p>\n",
       "</div>"
      ],
      "text/plain": [
       "                    country continent  year  lifeExp         pop     gdpPercap\n",
       "1296  Sao Tome and Principe    Africa  1952   46.471       60011    879.583586\n",
       "420                Djibouti    Africa  1952   34.812       63149   2669.529475\n",
       "84                  Bahrain      Asia  1952   50.939      120447   9867.084765\n",
       "684                 Iceland    Europe  1952   72.490      147962   7267.688428\n",
       "312                 Comoros    Africa  1952   40.715      153936   1102.990936\n",
       "...                     ...       ...   ...      ...         ...           ...\n",
       "179                  Brazil  Americas  2007   72.390   190010647   9065.800825\n",
       "719               Indonesia      Asia  2007   70.650   223547000   3540.651564\n",
       "1619          United States  Americas  2007   78.242   301139947  42951.653090\n",
       "707                   India      Asia  2007   64.698  1110396331   2452.210407\n",
       "299                   China      Asia  2007   72.961  1318683096   4959.114854\n",
       "\n",
       "[1704 rows x 6 columns]"
      ]
     },
     "execution_count": 25,
     "metadata": {},
     "output_type": "execute_result"
    }
   ],
   "source": [
    "base_order=base.sort_values(by=['year','pop'])\n",
    "base_order"
   ]
  },
  {
   "cell_type": "markdown",
   "id": "f0c52e55",
   "metadata": {},
   "source": [
    "Y si quisieramos año de menor a mayor, pero población de mayor o menor, sería así:"
   ]
  },
  {
   "cell_type": "code",
   "execution_count": 26,
   "id": "1eb89972",
   "metadata": {},
   "outputs": [
    {
     "data": {
      "application/vnd.microsoft.datawrangler.viewer.v0+json": {
       "columns": [
        {
         "name": "index",
         "rawType": "int64",
         "type": "integer"
        },
        {
         "name": "country",
         "rawType": "object",
         "type": "string"
        },
        {
         "name": "continent",
         "rawType": "object",
         "type": "string"
        },
        {
         "name": "year",
         "rawType": "int64",
         "type": "integer"
        },
        {
         "name": "lifeExp",
         "rawType": "float64",
         "type": "float"
        },
        {
         "name": "pop",
         "rawType": "int64",
         "type": "integer"
        },
        {
         "name": "gdpPercap",
         "rawType": "float64",
         "type": "float"
        }
       ],
       "conversionMethod": "pd.DataFrame",
       "ref": "74763643-bd10-4164-88d3-c8aa25325bd8",
       "rows": [
        [
         "288",
         "China",
         "Asia",
         "1952",
         "44.0",
         "556263527",
         "400.448611"
        ],
        [
         "696",
         "India",
         "Asia",
         "1952",
         "37.373",
         "372000000",
         "546.5657493"
        ],
        [
         "1608",
         "United States",
         "Americas",
         "1952",
         "68.44",
         "157553000",
         "13990.48208"
        ],
        [
         "792",
         "Japan",
         "Asia",
         "1952",
         "63.03",
         "86459025",
         "3216.956347"
        ],
        [
         "708",
         "Indonesia",
         "Asia",
         "1952",
         "37.468",
         "82052000",
         "749.6816546"
        ],
        [
         "564",
         "Germany",
         "Europe",
         "1952",
         "67.5",
         "69145952",
         "7144.114393"
        ],
        [
         "168",
         "Brazil",
         "Americas",
         "1952",
         "50.917",
         "56602560",
         "2108.944355"
        ],
        [
         "1596",
         "United Kingdom",
         "Europe",
         "1952",
         "69.18",
         "50430000",
         "9979.508487"
        ],
        [
         "768",
         "Italy",
         "Europe",
         "1952",
         "65.94",
         "47666000",
         "4931.404155"
        ],
        [
         "96",
         "Bangladesh",
         "Asia",
         "1952",
         "37.484",
         "46886859",
         "684.2441716"
        ],
        [
         "528",
         "France",
         "Europe",
         "1952",
         "67.41",
         "42459667",
         "7029.809327"
        ],
        [
         "1164",
         "Pakistan",
         "Asia",
         "1952",
         "43.436",
         "41346560",
         "684.5971438"
        ],
        [
         "1128",
         "Nigeria",
         "Africa",
         "1952",
         "36.324",
         "33119096",
         "1077.281856"
        ],
        [
         "984",
         "Mexico",
         "Americas",
         "1952",
         "50.789",
         "30144317",
         "3478.125529"
        ],
        [
         "1416",
         "Spain",
         "Europe",
         "1952",
         "64.94",
         "28549870",
         "3834.034742"
        ],
        [
         "1644",
         "Vietnam",
         "Asia",
         "1952",
         "40.412",
         "26246839",
         "605.0664917"
        ],
        [
         "1224",
         "Poland",
         "Europe",
         "1952",
         "61.31",
         "25730551",
         "4029.329699"
        ],
        [
         "1212",
         "Philippines",
         "Asia",
         "1952",
         "47.752",
         "22438691",
         "1272.880995"
        ],
        [
         "1572",
         "Turkey",
         "Europe",
         "1952",
         "43.585",
         "22235677",
         "1969.10098"
        ],
        [
         "456",
         "Egypt",
         "Africa",
         "1952",
         "41.893",
         "22223309",
         "1418.822445"
        ],
        [
         "1524",
         "Thailand",
         "Asia",
         "1952",
         "50.848",
         "21289402",
         "757.7974177"
        ],
        [
         "840",
         "Korea, Rep.",
         "Asia",
         "1952",
         "47.453",
         "20947571",
         "1030.592226"
        ],
        [
         "504",
         "Ethiopia",
         "Africa",
         "1952",
         "34.078",
         "20860941",
         "362.1462796"
        ],
        [
         "1044",
         "Myanmar",
         "Asia",
         "1952",
         "36.319",
         "20092996",
         "331.0"
        ],
        [
         "48",
         "Argentina",
         "Americas",
         "1952",
         "62.485",
         "17876956",
         "5911.315053"
        ],
        [
         "720",
         "Iran",
         "Asia",
         "1952",
         "44.869",
         "17272000",
         "3035.326002"
        ],
        [
         "1272",
         "Romania",
         "Europe",
         "1952",
         "61.05",
         "16630000",
         "3144.613186"
        ],
        [
         "240",
         "Canada",
         "Americas",
         "1952",
         "68.75",
         "14785584",
         "11367.16112"
        ],
        [
         "1404",
         "South Africa",
         "Africa",
         "1952",
         "45.009",
         "14264935",
         "4725.295531"
        ],
        [
         "324",
         "Congo, Dem. Rep.",
         "Africa",
         "1952",
         "39.143",
         "14100005",
         "780.5423257"
        ],
        [
         "300",
         "Colombia",
         "Americas",
         "1952",
         "50.643",
         "12350771",
         "2144.115096"
        ],
        [
         "1080",
         "Netherlands",
         "Europe",
         "1952",
         "72.13",
         "10381988",
         "8941.571858"
        ],
        [
         "1020",
         "Morocco",
         "Africa",
         "1952",
         "42.873",
         "9939217",
         "1688.20357"
        ],
        [
         "672",
         "Hungary",
         "Europe",
         "1952",
         "64.03",
         "9504000",
         "5263.673816"
        ],
        [
         "24",
         "Algeria",
         "Africa",
         "1952",
         "43.077",
         "9279525",
         "2449.008185"
        ],
        [
         "1068",
         "Nepal",
         "Asia",
         "1952",
         "36.157",
         "9182536",
         "545.8657229"
        ],
        [
         "396",
         "Czech Republic",
         "Europe",
         "1952",
         "66.87",
         "9125183",
         "6876.14025"
        ],
        [
         "828",
         "Korea, Dem. Rep.",
         "Asia",
         "1952",
         "50.056",
         "8865488",
         "1088.277758"
        ],
        [
         "108",
         "Belgium",
         "Europe",
         "1952",
         "68.0",
         "8730405",
         "8343.105127"
        ],
        [
         "60",
         "Australia",
         "Oceania",
         "1952",
         "69.12",
         "8691212",
         "10039.59564"
        ],
        [
         "1500",
         "Taiwan",
         "Asia",
         "1952",
         "58.5",
         "8550362",
         "1206.947913"
        ],
        [
         "1236",
         "Portugal",
         "Europe",
         "1952",
         "59.82",
         "8526050",
         "3068.319867"
        ],
        [
         "1440",
         "Sudan",
         "Africa",
         "1952",
         "38.635",
         "8504667",
         "1615.991129"
        ],
        [
         "0",
         "Afghanistan",
         "Asia",
         "1952",
         "28.801",
         "8425333",
         "779.4453145"
        ],
        [
         "1512",
         "Tanzania",
         "Africa",
         "1952",
         "41.215",
         "8322925",
         "716.6500721"
        ],
        [
         "1200",
         "Peru",
         "Americas",
         "1952",
         "43.902",
         "8025700",
         "3758.523437"
        ],
        [
         "1428",
         "Sri Lanka",
         "Asia",
         "1952",
         "57.593",
         "7982342",
         "1083.53203"
        ],
        [
         "588",
         "Greece",
         "Europe",
         "1952",
         "65.86",
         "7733250",
         "3530.690067"
        ],
        [
         "180",
         "Bulgaria",
         "Europe",
         "1952",
         "59.6",
         "7274900",
         "2444.286648"
        ],
        [
         "1464",
         "Sweden",
         "Europe",
         "1952",
         "71.86",
         "7124673",
         "8527.844662"
        ]
       ],
       "shape": {
        "columns": 6,
        "rows": 1704
       }
      },
      "text/html": [
       "<div>\n",
       "<style scoped>\n",
       "    .dataframe tbody tr th:only-of-type {\n",
       "        vertical-align: middle;\n",
       "    }\n",
       "\n",
       "    .dataframe tbody tr th {\n",
       "        vertical-align: top;\n",
       "    }\n",
       "\n",
       "    .dataframe thead th {\n",
       "        text-align: right;\n",
       "    }\n",
       "</style>\n",
       "<table border=\"1\" class=\"dataframe\">\n",
       "  <thead>\n",
       "    <tr style=\"text-align: right;\">\n",
       "      <th></th>\n",
       "      <th>country</th>\n",
       "      <th>continent</th>\n",
       "      <th>year</th>\n",
       "      <th>lifeExp</th>\n",
       "      <th>pop</th>\n",
       "      <th>gdpPercap</th>\n",
       "    </tr>\n",
       "  </thead>\n",
       "  <tbody>\n",
       "    <tr>\n",
       "      <th>288</th>\n",
       "      <td>China</td>\n",
       "      <td>Asia</td>\n",
       "      <td>1952</td>\n",
       "      <td>44.000</td>\n",
       "      <td>556263527</td>\n",
       "      <td>400.448611</td>\n",
       "    </tr>\n",
       "    <tr>\n",
       "      <th>696</th>\n",
       "      <td>India</td>\n",
       "      <td>Asia</td>\n",
       "      <td>1952</td>\n",
       "      <td>37.373</td>\n",
       "      <td>372000000</td>\n",
       "      <td>546.565749</td>\n",
       "    </tr>\n",
       "    <tr>\n",
       "      <th>1608</th>\n",
       "      <td>United States</td>\n",
       "      <td>Americas</td>\n",
       "      <td>1952</td>\n",
       "      <td>68.440</td>\n",
       "      <td>157553000</td>\n",
       "      <td>13990.482080</td>\n",
       "    </tr>\n",
       "    <tr>\n",
       "      <th>792</th>\n",
       "      <td>Japan</td>\n",
       "      <td>Asia</td>\n",
       "      <td>1952</td>\n",
       "      <td>63.030</td>\n",
       "      <td>86459025</td>\n",
       "      <td>3216.956347</td>\n",
       "    </tr>\n",
       "    <tr>\n",
       "      <th>708</th>\n",
       "      <td>Indonesia</td>\n",
       "      <td>Asia</td>\n",
       "      <td>1952</td>\n",
       "      <td>37.468</td>\n",
       "      <td>82052000</td>\n",
       "      <td>749.681655</td>\n",
       "    </tr>\n",
       "    <tr>\n",
       "      <th>...</th>\n",
       "      <td>...</td>\n",
       "      <td>...</td>\n",
       "      <td>...</td>\n",
       "      <td>...</td>\n",
       "      <td>...</td>\n",
       "      <td>...</td>\n",
       "    </tr>\n",
       "    <tr>\n",
       "      <th>1019</th>\n",
       "      <td>Montenegro</td>\n",
       "      <td>Europe</td>\n",
       "      <td>2007</td>\n",
       "      <td>74.543</td>\n",
       "      <td>684736</td>\n",
       "      <td>9253.896111</td>\n",
       "    </tr>\n",
       "    <tr>\n",
       "      <th>491</th>\n",
       "      <td>Equatorial Guinea</td>\n",
       "      <td>Africa</td>\n",
       "      <td>2007</td>\n",
       "      <td>51.579</td>\n",
       "      <td>551201</td>\n",
       "      <td>12154.089750</td>\n",
       "    </tr>\n",
       "    <tr>\n",
       "      <th>431</th>\n",
       "      <td>Djibouti</td>\n",
       "      <td>Africa</td>\n",
       "      <td>2007</td>\n",
       "      <td>54.791</td>\n",
       "      <td>496374</td>\n",
       "      <td>2082.481567</td>\n",
       "    </tr>\n",
       "    <tr>\n",
       "      <th>695</th>\n",
       "      <td>Iceland</td>\n",
       "      <td>Europe</td>\n",
       "      <td>2007</td>\n",
       "      <td>81.757</td>\n",
       "      <td>301931</td>\n",
       "      <td>36180.789190</td>\n",
       "    </tr>\n",
       "    <tr>\n",
       "      <th>1307</th>\n",
       "      <td>Sao Tome and Principe</td>\n",
       "      <td>Africa</td>\n",
       "      <td>2007</td>\n",
       "      <td>65.528</td>\n",
       "      <td>199579</td>\n",
       "      <td>1598.435089</td>\n",
       "    </tr>\n",
       "  </tbody>\n",
       "</table>\n",
       "<p>1704 rows × 6 columns</p>\n",
       "</div>"
      ],
      "text/plain": [
       "                    country continent  year  lifeExp        pop     gdpPercap\n",
       "288                   China      Asia  1952   44.000  556263527    400.448611\n",
       "696                   India      Asia  1952   37.373  372000000    546.565749\n",
       "1608          United States  Americas  1952   68.440  157553000  13990.482080\n",
       "792                   Japan      Asia  1952   63.030   86459025   3216.956347\n",
       "708               Indonesia      Asia  1952   37.468   82052000    749.681655\n",
       "...                     ...       ...   ...      ...        ...           ...\n",
       "1019             Montenegro    Europe  2007   74.543     684736   9253.896111\n",
       "491       Equatorial Guinea    Africa  2007   51.579     551201  12154.089750\n",
       "431                Djibouti    Africa  2007   54.791     496374   2082.481567\n",
       "695                 Iceland    Europe  2007   81.757     301931  36180.789190\n",
       "1307  Sao Tome and Principe    Africa  2007   65.528     199579   1598.435089\n",
       "\n",
       "[1704 rows x 6 columns]"
      ]
     },
     "execution_count": 26,
     "metadata": {},
     "output_type": "execute_result"
    }
   ],
   "source": [
    "base_order=base.sort_values(by=['year','pop'],ascending=[True,False])\n",
    "base_order"
   ]
  },
  {
   "cell_type": "markdown",
   "id": "06f08c74",
   "metadata": {},
   "source": [
    "Veamos ahora como renombar las columnas."
   ]
  },
  {
   "cell_type": "code",
   "execution_count": 27,
   "id": "6fe2febf",
   "metadata": {},
   "outputs": [
    {
     "data": {
      "application/vnd.microsoft.datawrangler.viewer.v0+json": {
       "columns": [
        {
         "name": "index",
         "rawType": "int64",
         "type": "integer"
        },
        {
         "name": "País",
         "rawType": "object",
         "type": "string"
        },
        {
         "name": "Continente",
         "rawType": "object",
         "type": "string"
        },
        {
         "name": "Año",
         "rawType": "int64",
         "type": "integer"
        },
        {
         "name": "Expectativa de vida",
         "rawType": "float64",
         "type": "float"
        },
        {
         "name": "Población",
         "rawType": "int64",
         "type": "integer"
        },
        {
         "name": "PIB per capita",
         "rawType": "float64",
         "type": "float"
        }
       ],
       "conversionMethod": "pd.DataFrame",
       "ref": "6ee6ec98-ea67-4382-85e7-c53ff73af583",
       "rows": [
        [
         "0",
         "Afghanistan",
         "Asia",
         "1952",
         "28.801",
         "8425333",
         "779.4453145"
        ],
        [
         "1",
         "Afghanistan",
         "Asia",
         "1957",
         "30.332",
         "9240934",
         "820.8530296"
        ],
        [
         "2",
         "Afghanistan",
         "Asia",
         "1962",
         "31.997",
         "10267083",
         "853.10071"
        ],
        [
         "3",
         "Afghanistan",
         "Asia",
         "1967",
         "34.02",
         "11537966",
         "836.1971382"
        ],
        [
         "4",
         "Afghanistan",
         "Asia",
         "1972",
         "36.088",
         "13079460",
         "739.9811058"
        ],
        [
         "5",
         "Afghanistan",
         "Asia",
         "1977",
         "38.438",
         "14880372",
         "786.11336"
        ],
        [
         "6",
         "Afghanistan",
         "Asia",
         "1982",
         "39.854",
         "12881816",
         "978.0114388"
        ],
        [
         "7",
         "Afghanistan",
         "Asia",
         "1987",
         "40.822",
         "13867957",
         "852.3959448"
        ],
        [
         "8",
         "Afghanistan",
         "Asia",
         "1992",
         "41.674",
         "16317921",
         "649.3413952"
        ],
        [
         "9",
         "Afghanistan",
         "Asia",
         "1997",
         "41.763",
         "22227415",
         "635.341351"
        ],
        [
         "10",
         "Afghanistan",
         "Asia",
         "2002",
         "42.129",
         "25268405",
         "726.7340548"
        ],
        [
         "11",
         "Afghanistan",
         "Asia",
         "2007",
         "43.828",
         "31889923",
         "974.5803384"
        ],
        [
         "12",
         "Albania",
         "Europe",
         "1952",
         "55.23",
         "1282697",
         "1601.056136"
        ],
        [
         "13",
         "Albania",
         "Europe",
         "1957",
         "59.28",
         "1476505",
         "1942.284244"
        ],
        [
         "14",
         "Albania",
         "Europe",
         "1962",
         "64.82",
         "1728137",
         "2312.888958"
        ],
        [
         "15",
         "Albania",
         "Europe",
         "1967",
         "66.22",
         "1984060",
         "2760.196931"
        ],
        [
         "16",
         "Albania",
         "Europe",
         "1972",
         "67.69",
         "2263554",
         "3313.422188"
        ],
        [
         "17",
         "Albania",
         "Europe",
         "1977",
         "68.93",
         "2509048",
         "3533.00391"
        ],
        [
         "18",
         "Albania",
         "Europe",
         "1982",
         "70.42",
         "2780097",
         "3630.880722"
        ],
        [
         "19",
         "Albania",
         "Europe",
         "1987",
         "72.0",
         "3075321",
         "3738.932735"
        ],
        [
         "20",
         "Albania",
         "Europe",
         "1992",
         "71.581",
         "3326498",
         "2497.437901"
        ],
        [
         "21",
         "Albania",
         "Europe",
         "1997",
         "72.95",
         "3428038",
         "3193.054604"
        ],
        [
         "22",
         "Albania",
         "Europe",
         "2002",
         "75.651",
         "3508512",
         "4604.211737"
        ],
        [
         "23",
         "Albania",
         "Europe",
         "2007",
         "76.423",
         "3600523",
         "5937.029526"
        ],
        [
         "24",
         "Algeria",
         "Africa",
         "1952",
         "43.077",
         "9279525",
         "2449.008185"
        ],
        [
         "25",
         "Algeria",
         "Africa",
         "1957",
         "45.685",
         "10270856",
         "3013.976023"
        ],
        [
         "26",
         "Algeria",
         "Africa",
         "1962",
         "48.303",
         "11000948",
         "2550.81688"
        ],
        [
         "27",
         "Algeria",
         "Africa",
         "1967",
         "51.407",
         "12760499",
         "3246.991771"
        ],
        [
         "28",
         "Algeria",
         "Africa",
         "1972",
         "54.518",
         "14760787",
         "4182.663766"
        ],
        [
         "29",
         "Algeria",
         "Africa",
         "1977",
         "58.014",
         "17152804",
         "4910.416756"
        ],
        [
         "30",
         "Algeria",
         "Africa",
         "1982",
         "61.368",
         "20033753",
         "5745.160213"
        ],
        [
         "31",
         "Algeria",
         "Africa",
         "1987",
         "65.799",
         "23254956",
         "5681.358539"
        ],
        [
         "32",
         "Algeria",
         "Africa",
         "1992",
         "67.744",
         "26298373",
         "5023.216647"
        ],
        [
         "33",
         "Algeria",
         "Africa",
         "1997",
         "69.152",
         "29072015",
         "4797.295051"
        ],
        [
         "34",
         "Algeria",
         "Africa",
         "2002",
         "70.994",
         "31287142",
         "5288.040382"
        ],
        [
         "35",
         "Algeria",
         "Africa",
         "2007",
         "72.301",
         "33333216",
         "6223.367465"
        ],
        [
         "36",
         "Angola",
         "Africa",
         "1952",
         "30.015",
         "4232095",
         "3520.610273"
        ],
        [
         "37",
         "Angola",
         "Africa",
         "1957",
         "31.999",
         "4561361",
         "3827.940465"
        ],
        [
         "38",
         "Angola",
         "Africa",
         "1962",
         "34.0",
         "4826015",
         "4269.276742"
        ],
        [
         "39",
         "Angola",
         "Africa",
         "1967",
         "35.985",
         "5247469",
         "5522.776375"
        ],
        [
         "40",
         "Angola",
         "Africa",
         "1972",
         "37.928",
         "5894858",
         "5473.288005"
        ],
        [
         "41",
         "Angola",
         "Africa",
         "1977",
         "39.483",
         "6162675",
         "3008.647355"
        ],
        [
         "42",
         "Angola",
         "Africa",
         "1982",
         "39.942",
         "7016384",
         "2756.953672"
        ],
        [
         "43",
         "Angola",
         "Africa",
         "1987",
         "39.906",
         "7874230",
         "2430.208311"
        ],
        [
         "44",
         "Angola",
         "Africa",
         "1992",
         "40.647",
         "8735988",
         "2627.845685"
        ],
        [
         "45",
         "Angola",
         "Africa",
         "1997",
         "40.963",
         "9875024",
         "2277.140884"
        ],
        [
         "46",
         "Angola",
         "Africa",
         "2002",
         "41.003",
         "10866106",
         "2773.287312"
        ],
        [
         "47",
         "Angola",
         "Africa",
         "2007",
         "42.731",
         "12420476",
         "4797.231267"
        ],
        [
         "48",
         "Argentina",
         "Americas",
         "1952",
         "62.485",
         "17876956",
         "5911.315053"
        ],
        [
         "49",
         "Argentina",
         "Americas",
         "1957",
         "64.399",
         "19610538",
         "6856.856212"
        ]
       ],
       "shape": {
        "columns": 6,
        "rows": 1704
       }
      },
      "text/html": [
       "<div>\n",
       "<style scoped>\n",
       "    .dataframe tbody tr th:only-of-type {\n",
       "        vertical-align: middle;\n",
       "    }\n",
       "\n",
       "    .dataframe tbody tr th {\n",
       "        vertical-align: top;\n",
       "    }\n",
       "\n",
       "    .dataframe thead th {\n",
       "        text-align: right;\n",
       "    }\n",
       "</style>\n",
       "<table border=\"1\" class=\"dataframe\">\n",
       "  <thead>\n",
       "    <tr style=\"text-align: right;\">\n",
       "      <th></th>\n",
       "      <th>País</th>\n",
       "      <th>Continente</th>\n",
       "      <th>Año</th>\n",
       "      <th>Expectativa de vida</th>\n",
       "      <th>Población</th>\n",
       "      <th>PIB per capita</th>\n",
       "    </tr>\n",
       "  </thead>\n",
       "  <tbody>\n",
       "    <tr>\n",
       "      <th>0</th>\n",
       "      <td>Afghanistan</td>\n",
       "      <td>Asia</td>\n",
       "      <td>1952</td>\n",
       "      <td>28.801</td>\n",
       "      <td>8425333</td>\n",
       "      <td>779.445314</td>\n",
       "    </tr>\n",
       "    <tr>\n",
       "      <th>1</th>\n",
       "      <td>Afghanistan</td>\n",
       "      <td>Asia</td>\n",
       "      <td>1957</td>\n",
       "      <td>30.332</td>\n",
       "      <td>9240934</td>\n",
       "      <td>820.853030</td>\n",
       "    </tr>\n",
       "    <tr>\n",
       "      <th>2</th>\n",
       "      <td>Afghanistan</td>\n",
       "      <td>Asia</td>\n",
       "      <td>1962</td>\n",
       "      <td>31.997</td>\n",
       "      <td>10267083</td>\n",
       "      <td>853.100710</td>\n",
       "    </tr>\n",
       "    <tr>\n",
       "      <th>3</th>\n",
       "      <td>Afghanistan</td>\n",
       "      <td>Asia</td>\n",
       "      <td>1967</td>\n",
       "      <td>34.020</td>\n",
       "      <td>11537966</td>\n",
       "      <td>836.197138</td>\n",
       "    </tr>\n",
       "    <tr>\n",
       "      <th>4</th>\n",
       "      <td>Afghanistan</td>\n",
       "      <td>Asia</td>\n",
       "      <td>1972</td>\n",
       "      <td>36.088</td>\n",
       "      <td>13079460</td>\n",
       "      <td>739.981106</td>\n",
       "    </tr>\n",
       "    <tr>\n",
       "      <th>...</th>\n",
       "      <td>...</td>\n",
       "      <td>...</td>\n",
       "      <td>...</td>\n",
       "      <td>...</td>\n",
       "      <td>...</td>\n",
       "      <td>...</td>\n",
       "    </tr>\n",
       "    <tr>\n",
       "      <th>1699</th>\n",
       "      <td>Zimbabwe</td>\n",
       "      <td>Africa</td>\n",
       "      <td>1987</td>\n",
       "      <td>62.351</td>\n",
       "      <td>9216418</td>\n",
       "      <td>706.157306</td>\n",
       "    </tr>\n",
       "    <tr>\n",
       "      <th>1700</th>\n",
       "      <td>Zimbabwe</td>\n",
       "      <td>Africa</td>\n",
       "      <td>1992</td>\n",
       "      <td>60.377</td>\n",
       "      <td>10704340</td>\n",
       "      <td>693.420786</td>\n",
       "    </tr>\n",
       "    <tr>\n",
       "      <th>1701</th>\n",
       "      <td>Zimbabwe</td>\n",
       "      <td>Africa</td>\n",
       "      <td>1997</td>\n",
       "      <td>46.809</td>\n",
       "      <td>11404948</td>\n",
       "      <td>792.449960</td>\n",
       "    </tr>\n",
       "    <tr>\n",
       "      <th>1702</th>\n",
       "      <td>Zimbabwe</td>\n",
       "      <td>Africa</td>\n",
       "      <td>2002</td>\n",
       "      <td>39.989</td>\n",
       "      <td>11926563</td>\n",
       "      <td>672.038623</td>\n",
       "    </tr>\n",
       "    <tr>\n",
       "      <th>1703</th>\n",
       "      <td>Zimbabwe</td>\n",
       "      <td>Africa</td>\n",
       "      <td>2007</td>\n",
       "      <td>43.487</td>\n",
       "      <td>12311143</td>\n",
       "      <td>469.709298</td>\n",
       "    </tr>\n",
       "  </tbody>\n",
       "</table>\n",
       "<p>1704 rows × 6 columns</p>\n",
       "</div>"
      ],
      "text/plain": [
       "             País Continente   Año  Expectativa de vida  Población  \\\n",
       "0     Afghanistan       Asia  1952               28.801    8425333   \n",
       "1     Afghanistan       Asia  1957               30.332    9240934   \n",
       "2     Afghanistan       Asia  1962               31.997   10267083   \n",
       "3     Afghanistan       Asia  1967               34.020   11537966   \n",
       "4     Afghanistan       Asia  1972               36.088   13079460   \n",
       "...           ...        ...   ...                  ...        ...   \n",
       "1699     Zimbabwe     Africa  1987               62.351    9216418   \n",
       "1700     Zimbabwe     Africa  1992               60.377   10704340   \n",
       "1701     Zimbabwe     Africa  1997               46.809   11404948   \n",
       "1702     Zimbabwe     Africa  2002               39.989   11926563   \n",
       "1703     Zimbabwe     Africa  2007               43.487   12311143   \n",
       "\n",
       "      PIB per capita  \n",
       "0         779.445314  \n",
       "1         820.853030  \n",
       "2         853.100710  \n",
       "3         836.197138  \n",
       "4         739.981106  \n",
       "...              ...  \n",
       "1699      706.157306  \n",
       "1700      693.420786  \n",
       "1701      792.449960  \n",
       "1702      672.038623  \n",
       "1703      469.709298  \n",
       "\n",
       "[1704 rows x 6 columns]"
      ]
     },
     "execution_count": 27,
     "metadata": {},
     "output_type": "execute_result"
    }
   ],
   "source": [
    "base.rename(columns={\n",
    "    'country':'País',\n",
    "    'continent':'Continente',\n",
    "    'year':'Año',\n",
    "    'lifeExp':'Expectativa de vida',\n",
    "    'pop':'Población',\n",
    "    'gdpPercap':'PIB per capita'\n",
    "}, inplace=True)\n",
    "base"
   ]
  },
  {
   "cell_type": "markdown",
   "id": "db1b8e05",
   "metadata": {},
   "source": [
    "Por último, veamos cómo crear columnas nuevas a partir de existentes. Por ejemplo, si quisieramos una nueva columna que tuviera el PIB total de cada país:"
   ]
  },
  {
   "cell_type": "code",
   "execution_count": 28,
   "id": "2fcebdc3",
   "metadata": {},
   "outputs": [
    {
     "data": {
      "application/vnd.microsoft.datawrangler.viewer.v0+json": {
       "columns": [
        {
         "name": "index",
         "rawType": "int64",
         "type": "integer"
        },
        {
         "name": "País",
         "rawType": "object",
         "type": "string"
        },
        {
         "name": "Continente",
         "rawType": "object",
         "type": "string"
        },
        {
         "name": "Año",
         "rawType": "int64",
         "type": "integer"
        },
        {
         "name": "Expectativa de vida",
         "rawType": "float64",
         "type": "float"
        },
        {
         "name": "Población",
         "rawType": "int64",
         "type": "integer"
        },
        {
         "name": "PIB per capita",
         "rawType": "float64",
         "type": "float"
        },
        {
         "name": "PIB",
         "rawType": "float64",
         "type": "float"
        }
       ],
       "conversionMethod": "pd.DataFrame",
       "ref": "85f31342-6bdb-487d-aede-1ee2f8067180",
       "rows": [
        [
         "0",
         "Afghanistan",
         "Asia",
         "1952",
         "28.801",
         "8425333",
         "779.4453145",
         "6567086329.952229"
        ],
        [
         "1",
         "Afghanistan",
         "Asia",
         "1957",
         "30.332",
         "9240934",
         "820.8530296",
         "7585448670.233646"
        ],
        [
         "2",
         "Afghanistan",
         "Asia",
         "1962",
         "31.997",
         "10267083",
         "853.10071",
         "8758855796.92893"
        ],
        [
         "3",
         "Afghanistan",
         "Asia",
         "1967",
         "34.02",
         "11537966",
         "836.1971382",
         "9648014149.848902"
        ],
        [
         "4",
         "Afghanistan",
         "Asia",
         "1972",
         "36.088",
         "13079460",
         "739.9811058",
         "9678553274.066868"
        ],
        [
         "5",
         "Afghanistan",
         "Asia",
         "1977",
         "38.438",
         "14880372",
         "786.11336",
         "11697659230.96992"
        ],
        [
         "6",
         "Afghanistan",
         "Asia",
         "1982",
         "39.854",
         "12881816",
         "978.0114388",
         "12598563400.516861"
        ],
        [
         "7",
         "Afghanistan",
         "Asia",
         "1987",
         "40.822",
         "13867957",
         "852.3959448",
         "11820990309.460773"
        ],
        [
         "8",
         "Afghanistan",
         "Asia",
         "1992",
         "41.674",
         "16317921",
         "649.3413952",
         "10595901588.90338"
        ],
        [
         "9",
         "Afghanistan",
         "Asia",
         "1997",
         "41.763",
         "22227415",
         "635.341351",
         "14121995875.337666"
        ],
        [
         "10",
         "Afghanistan",
         "Asia",
         "2002",
         "42.129",
         "25268405",
         "726.7340548",
         "18363410423.978592"
        ],
        [
         "11",
         "Afghanistan",
         "Asia",
         "2007",
         "43.828",
         "31889923",
         "974.5803384",
         "31079291948.889942"
        ],
        [
         "12",
         "Albania",
         "Europe",
         "1952",
         "55.23",
         "1282697",
         "1601.056136",
         "2053669902.478792"
        ],
        [
         "13",
         "Albania",
         "Europe",
         "1957",
         "59.28",
         "1476505",
         "1942.284244",
         "2867792397.68722"
        ],
        [
         "14",
         "Albania",
         "Europe",
         "1962",
         "64.82",
         "1728137",
         "2312.888958",
         "3996988985.211246"
        ],
        [
         "15",
         "Albania",
         "Europe",
         "1967",
         "66.22",
         "1984060",
         "2760.196931",
         "5476396322.91986"
        ],
        [
         "16",
         "Albania",
         "Europe",
         "1972",
         "67.69",
         "2263554",
         "3313.422188",
         "7500110047.336152"
        ],
        [
         "17",
         "Albania",
         "Europe",
         "1977",
         "68.93",
         "2509048",
         "3533.00391",
         "8864476394.37768"
        ],
        [
         "18",
         "Albania",
         "Europe",
         "1982",
         "70.42",
         "2780097",
         "3630.880722",
         "10094200602.590034"
        ],
        [
         "19",
         "Albania",
         "Europe",
         "1987",
         "72.0",
         "3075321",
         "3738.932735",
         "11498418357.532934"
        ],
        [
         "20",
         "Albania",
         "Europe",
         "1992",
         "71.581",
         "3326498",
         "2497.437901",
         "8307722182.800697"
        ],
        [
         "21",
         "Albania",
         "Europe",
         "1997",
         "72.95",
         "3428038",
         "3193.054604",
         "10945912518.586952"
        ],
        [
         "22",
         "Albania",
         "Europe",
         "2002",
         "75.651",
         "3508512",
         "4604.211737",
         "16153932129.805344"
        ],
        [
         "23",
         "Albania",
         "Europe",
         "2007",
         "76.423",
         "3600523",
         "5937.029526",
         "21376411360.0421"
        ],
        [
         "24",
         "Algeria",
         "Africa",
         "1952",
         "43.077",
         "9279525",
         "2449.008185",
         "22725632677.912125"
        ],
        [
         "25",
         "Algeria",
         "Africa",
         "1957",
         "45.685",
         "10270856",
         "3013.976023",
         "30956113719.685688"
        ],
        [
         "26",
         "Algeria",
         "Africa",
         "1962",
         "48.303",
         "11000948",
         "2550.81688",
         "28061403854.402237"
        ],
        [
         "27",
         "Algeria",
         "Africa",
         "1967",
         "51.407",
         "12760499",
         "3246.991771",
         "41433235246.85373"
        ],
        [
         "28",
         "Algeria",
         "Africa",
         "1972",
         "54.518",
         "14760787",
         "4182.663766",
         "61739408942.54384"
        ],
        [
         "29",
         "Algeria",
         "Africa",
         "1977",
         "58.014",
         "17152804",
         "4910.416756",
         "84227416173.98381"
        ],
        [
         "30",
         "Algeria",
         "Africa",
         "1982",
         "61.368",
         "20033753",
         "5745.160213",
         "115097120652.66939"
        ],
        [
         "31",
         "Algeria",
         "Africa",
         "1987",
         "65.799",
         "23254956",
         "5681.358539",
         "132119742844.66928"
        ],
        [
         "32",
         "Algeria",
         "Africa",
         "1992",
         "67.744",
         "26298373",
         "5023.216647",
         "132102425042.61534"
        ],
        [
         "33",
         "Algeria",
         "Africa",
         "1997",
         "69.152",
         "29072015",
         "4797.295051",
         "139467033682.09778"
        ],
        [
         "34",
         "Algeria",
         "Africa",
         "2002",
         "70.994",
         "31287142",
         "5288.040382",
         "165447670333.36826"
        ],
        [
         "35",
         "Algeria",
         "Africa",
         "2007",
         "72.301",
         "33333216",
         "6223.367465",
         "207444851958.21744"
        ],
        [
         "36",
         "Angola",
         "Africa",
         "1952",
         "30.015",
         "4232095",
         "3520.610273",
         "14899557133.311934"
        ],
        [
         "37",
         "Angola",
         "Africa",
         "1957",
         "31.999",
         "4561361",
         "3827.940465",
         "17460618347.372864"
        ],
        [
         "38",
         "Angola",
         "Africa",
         "1962",
         "34.0",
         "4826015",
         "4269.276742",
         "20603593596.04313"
        ],
        [
         "39",
         "Angola",
         "Africa",
         "1967",
         "35.985",
         "5247469",
         "5522.776375",
         "28980597821.744877"
        ],
        [
         "40",
         "Angola",
         "Africa",
         "1972",
         "37.928",
         "5894858",
         "5473.288005",
         "32264255582.578293"
        ],
        [
         "41",
         "Angola",
         "Africa",
         "1977",
         "39.483",
         "6162675",
         "3008.647355",
         "18541315838.474625"
        ],
        [
         "42",
         "Angola",
         "Africa",
         "1982",
         "39.942",
         "7016384",
         "2756.953672",
         "19343845632.962048"
        ],
        [
         "43",
         "Angola",
         "Africa",
         "1987",
         "39.906",
         "7874230",
         "2430.208311",
         "19136019188.72553"
        ],
        [
         "44",
         "Angola",
         "Africa",
         "1992",
         "40.647",
         "8735988",
         "2627.845685",
         "22956828370.01178"
        ],
        [
         "45",
         "Angola",
         "Africa",
         "1997",
         "40.963",
         "9875024",
         "2277.140884",
         "22486820880.881214"
        ],
        [
         "46",
         "Angola",
         "Africa",
         "2002",
         "41.003",
         "10866106",
         "2773.287312",
         "30134833900.64707"
        ],
        [
         "47",
         "Angola",
         "Africa",
         "2007",
         "42.731",
         "12420476",
         "4797.231267",
         "59583895818.22309"
        ],
        [
         "48",
         "Argentina",
         "Americas",
         "1952",
         "62.485",
         "17876956",
         "5911.315053",
         "105676319104.61867"
        ],
        [
         "49",
         "Argentina",
         "Americas",
         "1957",
         "64.399",
         "19610538",
         "6856.856212",
         "134466639305.96205"
        ]
       ],
       "shape": {
        "columns": 7,
        "rows": 1704
       }
      },
      "text/html": [
       "<div>\n",
       "<style scoped>\n",
       "    .dataframe tbody tr th:only-of-type {\n",
       "        vertical-align: middle;\n",
       "    }\n",
       "\n",
       "    .dataframe tbody tr th {\n",
       "        vertical-align: top;\n",
       "    }\n",
       "\n",
       "    .dataframe thead th {\n",
       "        text-align: right;\n",
       "    }\n",
       "</style>\n",
       "<table border=\"1\" class=\"dataframe\">\n",
       "  <thead>\n",
       "    <tr style=\"text-align: right;\">\n",
       "      <th></th>\n",
       "      <th>País</th>\n",
       "      <th>Continente</th>\n",
       "      <th>Año</th>\n",
       "      <th>Expectativa de vida</th>\n",
       "      <th>Población</th>\n",
       "      <th>PIB per capita</th>\n",
       "      <th>PIB</th>\n",
       "    </tr>\n",
       "  </thead>\n",
       "  <tbody>\n",
       "    <tr>\n",
       "      <th>0</th>\n",
       "      <td>Afghanistan</td>\n",
       "      <td>Asia</td>\n",
       "      <td>1952</td>\n",
       "      <td>28.801</td>\n",
       "      <td>8425333</td>\n",
       "      <td>779.445314</td>\n",
       "      <td>6.567086e+09</td>\n",
       "    </tr>\n",
       "    <tr>\n",
       "      <th>1</th>\n",
       "      <td>Afghanistan</td>\n",
       "      <td>Asia</td>\n",
       "      <td>1957</td>\n",
       "      <td>30.332</td>\n",
       "      <td>9240934</td>\n",
       "      <td>820.853030</td>\n",
       "      <td>7.585449e+09</td>\n",
       "    </tr>\n",
       "    <tr>\n",
       "      <th>2</th>\n",
       "      <td>Afghanistan</td>\n",
       "      <td>Asia</td>\n",
       "      <td>1962</td>\n",
       "      <td>31.997</td>\n",
       "      <td>10267083</td>\n",
       "      <td>853.100710</td>\n",
       "      <td>8.758856e+09</td>\n",
       "    </tr>\n",
       "    <tr>\n",
       "      <th>3</th>\n",
       "      <td>Afghanistan</td>\n",
       "      <td>Asia</td>\n",
       "      <td>1967</td>\n",
       "      <td>34.020</td>\n",
       "      <td>11537966</td>\n",
       "      <td>836.197138</td>\n",
       "      <td>9.648014e+09</td>\n",
       "    </tr>\n",
       "    <tr>\n",
       "      <th>4</th>\n",
       "      <td>Afghanistan</td>\n",
       "      <td>Asia</td>\n",
       "      <td>1972</td>\n",
       "      <td>36.088</td>\n",
       "      <td>13079460</td>\n",
       "      <td>739.981106</td>\n",
       "      <td>9.678553e+09</td>\n",
       "    </tr>\n",
       "    <tr>\n",
       "      <th>...</th>\n",
       "      <td>...</td>\n",
       "      <td>...</td>\n",
       "      <td>...</td>\n",
       "      <td>...</td>\n",
       "      <td>...</td>\n",
       "      <td>...</td>\n",
       "      <td>...</td>\n",
       "    </tr>\n",
       "    <tr>\n",
       "      <th>1699</th>\n",
       "      <td>Zimbabwe</td>\n",
       "      <td>Africa</td>\n",
       "      <td>1987</td>\n",
       "      <td>62.351</td>\n",
       "      <td>9216418</td>\n",
       "      <td>706.157306</td>\n",
       "      <td>6.508241e+09</td>\n",
       "    </tr>\n",
       "    <tr>\n",
       "      <th>1700</th>\n",
       "      <td>Zimbabwe</td>\n",
       "      <td>Africa</td>\n",
       "      <td>1992</td>\n",
       "      <td>60.377</td>\n",
       "      <td>10704340</td>\n",
       "      <td>693.420786</td>\n",
       "      <td>7.422612e+09</td>\n",
       "    </tr>\n",
       "    <tr>\n",
       "      <th>1701</th>\n",
       "      <td>Zimbabwe</td>\n",
       "      <td>Africa</td>\n",
       "      <td>1997</td>\n",
       "      <td>46.809</td>\n",
       "      <td>11404948</td>\n",
       "      <td>792.449960</td>\n",
       "      <td>9.037851e+09</td>\n",
       "    </tr>\n",
       "    <tr>\n",
       "      <th>1702</th>\n",
       "      <td>Zimbabwe</td>\n",
       "      <td>Africa</td>\n",
       "      <td>2002</td>\n",
       "      <td>39.989</td>\n",
       "      <td>11926563</td>\n",
       "      <td>672.038623</td>\n",
       "      <td>8.015111e+09</td>\n",
       "    </tr>\n",
       "    <tr>\n",
       "      <th>1703</th>\n",
       "      <td>Zimbabwe</td>\n",
       "      <td>Africa</td>\n",
       "      <td>2007</td>\n",
       "      <td>43.487</td>\n",
       "      <td>12311143</td>\n",
       "      <td>469.709298</td>\n",
       "      <td>5.782658e+09</td>\n",
       "    </tr>\n",
       "  </tbody>\n",
       "</table>\n",
       "<p>1704 rows × 7 columns</p>\n",
       "</div>"
      ],
      "text/plain": [
       "             País Continente   Año  Expectativa de vida  Población  \\\n",
       "0     Afghanistan       Asia  1952               28.801    8425333   \n",
       "1     Afghanistan       Asia  1957               30.332    9240934   \n",
       "2     Afghanistan       Asia  1962               31.997   10267083   \n",
       "3     Afghanistan       Asia  1967               34.020   11537966   \n",
       "4     Afghanistan       Asia  1972               36.088   13079460   \n",
       "...           ...        ...   ...                  ...        ...   \n",
       "1699     Zimbabwe     Africa  1987               62.351    9216418   \n",
       "1700     Zimbabwe     Africa  1992               60.377   10704340   \n",
       "1701     Zimbabwe     Africa  1997               46.809   11404948   \n",
       "1702     Zimbabwe     Africa  2002               39.989   11926563   \n",
       "1703     Zimbabwe     Africa  2007               43.487   12311143   \n",
       "\n",
       "      PIB per capita           PIB  \n",
       "0         779.445314  6.567086e+09  \n",
       "1         820.853030  7.585449e+09  \n",
       "2         853.100710  8.758856e+09  \n",
       "3         836.197138  9.648014e+09  \n",
       "4         739.981106  9.678553e+09  \n",
       "...              ...           ...  \n",
       "1699      706.157306  6.508241e+09  \n",
       "1700      693.420786  7.422612e+09  \n",
       "1701      792.449960  9.037851e+09  \n",
       "1702      672.038623  8.015111e+09  \n",
       "1703      469.709298  5.782658e+09  \n",
       "\n",
       "[1704 rows x 7 columns]"
      ]
     },
     "execution_count": 28,
     "metadata": {},
     "output_type": "execute_result"
    }
   ],
   "source": [
    "base['PIB']=base['PIB per capita'] * base['Población']\n",
    "base"
   ]
  },
  {
   "cell_type": "markdown",
   "id": "515fb336",
   "metadata": {},
   "source": [
    "Podríamos usar una condición si es el caso, para crear una columna nueva. Por ejemplo, si quisieramos una columna que identifique los países con expectativa de vida menor a 50 años:"
   ]
  },
  {
   "cell_type": "code",
   "execution_count": 29,
   "id": "048a3c89",
   "metadata": {},
   "outputs": [
    {
     "data": {
      "application/vnd.microsoft.datawrangler.viewer.v0+json": {
       "columns": [
        {
         "name": "index",
         "rawType": "int64",
         "type": "integer"
        },
        {
         "name": "País",
         "rawType": "object",
         "type": "string"
        },
        {
         "name": "Continente",
         "rawType": "object",
         "type": "string"
        },
        {
         "name": "Año",
         "rawType": "int64",
         "type": "integer"
        },
        {
         "name": "Expectativa de vida",
         "rawType": "float64",
         "type": "float"
        },
        {
         "name": "Población",
         "rawType": "int64",
         "type": "integer"
        },
        {
         "name": "PIB per capita",
         "rawType": "float64",
         "type": "float"
        },
        {
         "name": "PIB",
         "rawType": "float64",
         "type": "float"
        },
        {
         "name": "Nivel bajo expectativa de vida",
         "rawType": "object",
         "type": "string"
        }
       ],
       "conversionMethod": "pd.DataFrame",
       "ref": "3c570348-0744-4641-b3c4-42f18b88eb39",
       "rows": [
        [
         "0",
         "Afghanistan",
         "Asia",
         "1952",
         "28.801",
         "8425333",
         "779.4453145",
         "6567086329.952229",
         "Bajo"
        ],
        [
         "1",
         "Afghanistan",
         "Asia",
         "1957",
         "30.332",
         "9240934",
         "820.8530296",
         "7585448670.233646",
         "Bajo"
        ],
        [
         "2",
         "Afghanistan",
         "Asia",
         "1962",
         "31.997",
         "10267083",
         "853.10071",
         "8758855796.92893",
         "Bajo"
        ],
        [
         "3",
         "Afghanistan",
         "Asia",
         "1967",
         "34.02",
         "11537966",
         "836.1971382",
         "9648014149.848902",
         "Bajo"
        ],
        [
         "4",
         "Afghanistan",
         "Asia",
         "1972",
         "36.088",
         "13079460",
         "739.9811058",
         "9678553274.066868",
         "Bajo"
        ],
        [
         "5",
         "Afghanistan",
         "Asia",
         "1977",
         "38.438",
         "14880372",
         "786.11336",
         "11697659230.96992",
         "Bajo"
        ],
        [
         "6",
         "Afghanistan",
         "Asia",
         "1982",
         "39.854",
         "12881816",
         "978.0114388",
         "12598563400.516861",
         "Bajo"
        ],
        [
         "7",
         "Afghanistan",
         "Asia",
         "1987",
         "40.822",
         "13867957",
         "852.3959448",
         "11820990309.460773",
         "Bajo"
        ],
        [
         "8",
         "Afghanistan",
         "Asia",
         "1992",
         "41.674",
         "16317921",
         "649.3413952",
         "10595901588.90338",
         "Bajo"
        ],
        [
         "9",
         "Afghanistan",
         "Asia",
         "1997",
         "41.763",
         "22227415",
         "635.341351",
         "14121995875.337666",
         "Bajo"
        ],
        [
         "10",
         "Afghanistan",
         "Asia",
         "2002",
         "42.129",
         "25268405",
         "726.7340548",
         "18363410423.978592",
         "Bajo"
        ],
        [
         "11",
         "Afghanistan",
         "Asia",
         "2007",
         "43.828",
         "31889923",
         "974.5803384",
         "31079291948.889942",
         "Bajo"
        ],
        [
         "12",
         "Albania",
         "Europe",
         "1952",
         "55.23",
         "1282697",
         "1601.056136",
         "2053669902.478792",
         "Bajo"
        ],
        [
         "13",
         "Albania",
         "Europe",
         "1957",
         "59.28",
         "1476505",
         "1942.284244",
         "2867792397.68722",
         "Bajo"
        ],
        [
         "14",
         "Albania",
         "Europe",
         "1962",
         "64.82",
         "1728137",
         "2312.888958",
         "3996988985.211246",
         "Normal"
        ],
        [
         "15",
         "Albania",
         "Europe",
         "1967",
         "66.22",
         "1984060",
         "2760.196931",
         "5476396322.91986",
         "Normal"
        ],
        [
         "16",
         "Albania",
         "Europe",
         "1972",
         "67.69",
         "2263554",
         "3313.422188",
         "7500110047.336152",
         "Normal"
        ],
        [
         "17",
         "Albania",
         "Europe",
         "1977",
         "68.93",
         "2509048",
         "3533.00391",
         "8864476394.37768",
         "Normal"
        ],
        [
         "18",
         "Albania",
         "Europe",
         "1982",
         "70.42",
         "2780097",
         "3630.880722",
         "10094200602.590034",
         "Normal"
        ],
        [
         "19",
         "Albania",
         "Europe",
         "1987",
         "72.0",
         "3075321",
         "3738.932735",
         "11498418357.532934",
         "Normal"
        ],
        [
         "20",
         "Albania",
         "Europe",
         "1992",
         "71.581",
         "3326498",
         "2497.437901",
         "8307722182.800697",
         "Normal"
        ],
        [
         "21",
         "Albania",
         "Europe",
         "1997",
         "72.95",
         "3428038",
         "3193.054604",
         "10945912518.586952",
         "Normal"
        ],
        [
         "22",
         "Albania",
         "Europe",
         "2002",
         "75.651",
         "3508512",
         "4604.211737",
         "16153932129.805344",
         "Normal"
        ],
        [
         "23",
         "Albania",
         "Europe",
         "2007",
         "76.423",
         "3600523",
         "5937.029526",
         "21376411360.0421",
         "Normal"
        ],
        [
         "24",
         "Algeria",
         "Africa",
         "1952",
         "43.077",
         "9279525",
         "2449.008185",
         "22725632677.912125",
         "Bajo"
        ],
        [
         "25",
         "Algeria",
         "Africa",
         "1957",
         "45.685",
         "10270856",
         "3013.976023",
         "30956113719.685688",
         "Bajo"
        ],
        [
         "26",
         "Algeria",
         "Africa",
         "1962",
         "48.303",
         "11000948",
         "2550.81688",
         "28061403854.402237",
         "Bajo"
        ],
        [
         "27",
         "Algeria",
         "Africa",
         "1967",
         "51.407",
         "12760499",
         "3246.991771",
         "41433235246.85373",
         "Bajo"
        ],
        [
         "28",
         "Algeria",
         "Africa",
         "1972",
         "54.518",
         "14760787",
         "4182.663766",
         "61739408942.54384",
         "Bajo"
        ],
        [
         "29",
         "Algeria",
         "Africa",
         "1977",
         "58.014",
         "17152804",
         "4910.416756",
         "84227416173.98381",
         "Bajo"
        ],
        [
         "30",
         "Algeria",
         "Africa",
         "1982",
         "61.368",
         "20033753",
         "5745.160213",
         "115097120652.66939",
         "Normal"
        ],
        [
         "31",
         "Algeria",
         "Africa",
         "1987",
         "65.799",
         "23254956",
         "5681.358539",
         "132119742844.66928",
         "Normal"
        ],
        [
         "32",
         "Algeria",
         "Africa",
         "1992",
         "67.744",
         "26298373",
         "5023.216647",
         "132102425042.61534",
         "Normal"
        ],
        [
         "33",
         "Algeria",
         "Africa",
         "1997",
         "69.152",
         "29072015",
         "4797.295051",
         "139467033682.09778",
         "Normal"
        ],
        [
         "34",
         "Algeria",
         "Africa",
         "2002",
         "70.994",
         "31287142",
         "5288.040382",
         "165447670333.36826",
         "Normal"
        ],
        [
         "35",
         "Algeria",
         "Africa",
         "2007",
         "72.301",
         "33333216",
         "6223.367465",
         "207444851958.21744",
         "Normal"
        ],
        [
         "36",
         "Angola",
         "Africa",
         "1952",
         "30.015",
         "4232095",
         "3520.610273",
         "14899557133.311934",
         "Bajo"
        ],
        [
         "37",
         "Angola",
         "Africa",
         "1957",
         "31.999",
         "4561361",
         "3827.940465",
         "17460618347.372864",
         "Bajo"
        ],
        [
         "38",
         "Angola",
         "Africa",
         "1962",
         "34.0",
         "4826015",
         "4269.276742",
         "20603593596.04313",
         "Bajo"
        ],
        [
         "39",
         "Angola",
         "Africa",
         "1967",
         "35.985",
         "5247469",
         "5522.776375",
         "28980597821.744877",
         "Bajo"
        ],
        [
         "40",
         "Angola",
         "Africa",
         "1972",
         "37.928",
         "5894858",
         "5473.288005",
         "32264255582.578293",
         "Bajo"
        ],
        [
         "41",
         "Angola",
         "Africa",
         "1977",
         "39.483",
         "6162675",
         "3008.647355",
         "18541315838.474625",
         "Bajo"
        ],
        [
         "42",
         "Angola",
         "Africa",
         "1982",
         "39.942",
         "7016384",
         "2756.953672",
         "19343845632.962048",
         "Bajo"
        ],
        [
         "43",
         "Angola",
         "Africa",
         "1987",
         "39.906",
         "7874230",
         "2430.208311",
         "19136019188.72553",
         "Bajo"
        ],
        [
         "44",
         "Angola",
         "Africa",
         "1992",
         "40.647",
         "8735988",
         "2627.845685",
         "22956828370.01178",
         "Bajo"
        ],
        [
         "45",
         "Angola",
         "Africa",
         "1997",
         "40.963",
         "9875024",
         "2277.140884",
         "22486820880.881214",
         "Bajo"
        ],
        [
         "46",
         "Angola",
         "Africa",
         "2002",
         "41.003",
         "10866106",
         "2773.287312",
         "30134833900.64707",
         "Bajo"
        ],
        [
         "47",
         "Angola",
         "Africa",
         "2007",
         "42.731",
         "12420476",
         "4797.231267",
         "59583895818.22309",
         "Bajo"
        ],
        [
         "48",
         "Argentina",
         "Americas",
         "1952",
         "62.485",
         "17876956",
         "5911.315053",
         "105676319104.61867",
         "Normal"
        ],
        [
         "49",
         "Argentina",
         "Americas",
         "1957",
         "64.399",
         "19610538",
         "6856.856212",
         "134466639305.96205",
         "Normal"
        ]
       ],
       "shape": {
        "columns": 8,
        "rows": 1704
       }
      },
      "text/html": [
       "<div>\n",
       "<style scoped>\n",
       "    .dataframe tbody tr th:only-of-type {\n",
       "        vertical-align: middle;\n",
       "    }\n",
       "\n",
       "    .dataframe tbody tr th {\n",
       "        vertical-align: top;\n",
       "    }\n",
       "\n",
       "    .dataframe thead th {\n",
       "        text-align: right;\n",
       "    }\n",
       "</style>\n",
       "<table border=\"1\" class=\"dataframe\">\n",
       "  <thead>\n",
       "    <tr style=\"text-align: right;\">\n",
       "      <th></th>\n",
       "      <th>País</th>\n",
       "      <th>Continente</th>\n",
       "      <th>Año</th>\n",
       "      <th>Expectativa de vida</th>\n",
       "      <th>Población</th>\n",
       "      <th>PIB per capita</th>\n",
       "      <th>PIB</th>\n",
       "      <th>Nivel bajo expectativa de vida</th>\n",
       "    </tr>\n",
       "  </thead>\n",
       "  <tbody>\n",
       "    <tr>\n",
       "      <th>0</th>\n",
       "      <td>Afghanistan</td>\n",
       "      <td>Asia</td>\n",
       "      <td>1952</td>\n",
       "      <td>28.801</td>\n",
       "      <td>8425333</td>\n",
       "      <td>779.445314</td>\n",
       "      <td>6.567086e+09</td>\n",
       "      <td>Bajo</td>\n",
       "    </tr>\n",
       "    <tr>\n",
       "      <th>1</th>\n",
       "      <td>Afghanistan</td>\n",
       "      <td>Asia</td>\n",
       "      <td>1957</td>\n",
       "      <td>30.332</td>\n",
       "      <td>9240934</td>\n",
       "      <td>820.853030</td>\n",
       "      <td>7.585449e+09</td>\n",
       "      <td>Bajo</td>\n",
       "    </tr>\n",
       "    <tr>\n",
       "      <th>2</th>\n",
       "      <td>Afghanistan</td>\n",
       "      <td>Asia</td>\n",
       "      <td>1962</td>\n",
       "      <td>31.997</td>\n",
       "      <td>10267083</td>\n",
       "      <td>853.100710</td>\n",
       "      <td>8.758856e+09</td>\n",
       "      <td>Bajo</td>\n",
       "    </tr>\n",
       "    <tr>\n",
       "      <th>3</th>\n",
       "      <td>Afghanistan</td>\n",
       "      <td>Asia</td>\n",
       "      <td>1967</td>\n",
       "      <td>34.020</td>\n",
       "      <td>11537966</td>\n",
       "      <td>836.197138</td>\n",
       "      <td>9.648014e+09</td>\n",
       "      <td>Bajo</td>\n",
       "    </tr>\n",
       "    <tr>\n",
       "      <th>4</th>\n",
       "      <td>Afghanistan</td>\n",
       "      <td>Asia</td>\n",
       "      <td>1972</td>\n",
       "      <td>36.088</td>\n",
       "      <td>13079460</td>\n",
       "      <td>739.981106</td>\n",
       "      <td>9.678553e+09</td>\n",
       "      <td>Bajo</td>\n",
       "    </tr>\n",
       "    <tr>\n",
       "      <th>...</th>\n",
       "      <td>...</td>\n",
       "      <td>...</td>\n",
       "      <td>...</td>\n",
       "      <td>...</td>\n",
       "      <td>...</td>\n",
       "      <td>...</td>\n",
       "      <td>...</td>\n",
       "      <td>...</td>\n",
       "    </tr>\n",
       "    <tr>\n",
       "      <th>1699</th>\n",
       "      <td>Zimbabwe</td>\n",
       "      <td>Africa</td>\n",
       "      <td>1987</td>\n",
       "      <td>62.351</td>\n",
       "      <td>9216418</td>\n",
       "      <td>706.157306</td>\n",
       "      <td>6.508241e+09</td>\n",
       "      <td>Normal</td>\n",
       "    </tr>\n",
       "    <tr>\n",
       "      <th>1700</th>\n",
       "      <td>Zimbabwe</td>\n",
       "      <td>Africa</td>\n",
       "      <td>1992</td>\n",
       "      <td>60.377</td>\n",
       "      <td>10704340</td>\n",
       "      <td>693.420786</td>\n",
       "      <td>7.422612e+09</td>\n",
       "      <td>Normal</td>\n",
       "    </tr>\n",
       "    <tr>\n",
       "      <th>1701</th>\n",
       "      <td>Zimbabwe</td>\n",
       "      <td>Africa</td>\n",
       "      <td>1997</td>\n",
       "      <td>46.809</td>\n",
       "      <td>11404948</td>\n",
       "      <td>792.449960</td>\n",
       "      <td>9.037851e+09</td>\n",
       "      <td>Bajo</td>\n",
       "    </tr>\n",
       "    <tr>\n",
       "      <th>1702</th>\n",
       "      <td>Zimbabwe</td>\n",
       "      <td>Africa</td>\n",
       "      <td>2002</td>\n",
       "      <td>39.989</td>\n",
       "      <td>11926563</td>\n",
       "      <td>672.038623</td>\n",
       "      <td>8.015111e+09</td>\n",
       "      <td>Bajo</td>\n",
       "    </tr>\n",
       "    <tr>\n",
       "      <th>1703</th>\n",
       "      <td>Zimbabwe</td>\n",
       "      <td>Africa</td>\n",
       "      <td>2007</td>\n",
       "      <td>43.487</td>\n",
       "      <td>12311143</td>\n",
       "      <td>469.709298</td>\n",
       "      <td>5.782658e+09</td>\n",
       "      <td>Bajo</td>\n",
       "    </tr>\n",
       "  </tbody>\n",
       "</table>\n",
       "<p>1704 rows × 8 columns</p>\n",
       "</div>"
      ],
      "text/plain": [
       "             País Continente   Año  Expectativa de vida  Población  \\\n",
       "0     Afghanistan       Asia  1952               28.801    8425333   \n",
       "1     Afghanistan       Asia  1957               30.332    9240934   \n",
       "2     Afghanistan       Asia  1962               31.997   10267083   \n",
       "3     Afghanistan       Asia  1967               34.020   11537966   \n",
       "4     Afghanistan       Asia  1972               36.088   13079460   \n",
       "...           ...        ...   ...                  ...        ...   \n",
       "1699     Zimbabwe     Africa  1987               62.351    9216418   \n",
       "1700     Zimbabwe     Africa  1992               60.377   10704340   \n",
       "1701     Zimbabwe     Africa  1997               46.809   11404948   \n",
       "1702     Zimbabwe     Africa  2002               39.989   11926563   \n",
       "1703     Zimbabwe     Africa  2007               43.487   12311143   \n",
       "\n",
       "      PIB per capita           PIB Nivel bajo expectativa de vida  \n",
       "0         779.445314  6.567086e+09                           Bajo  \n",
       "1         820.853030  7.585449e+09                           Bajo  \n",
       "2         853.100710  8.758856e+09                           Bajo  \n",
       "3         836.197138  9.648014e+09                           Bajo  \n",
       "4         739.981106  9.678553e+09                           Bajo  \n",
       "...              ...           ...                            ...  \n",
       "1699      706.157306  6.508241e+09                         Normal  \n",
       "1700      693.420786  7.422612e+09                         Normal  \n",
       "1701      792.449960  9.037851e+09                           Bajo  \n",
       "1702      672.038623  8.015111e+09                           Bajo  \n",
       "1703      469.709298  5.782658e+09                           Bajo  \n",
       "\n",
       "[1704 rows x 8 columns]"
      ]
     },
     "execution_count": 29,
     "metadata": {},
     "output_type": "execute_result"
    }
   ],
   "source": [
    "base['Nivel bajo expectativa de vida']=np.where(base['Expectativa de vida']<60,'Bajo','Normal')\n",
    "base"
   ]
  },
  {
   "cell_type": "markdown",
   "id": "d06871ac",
   "metadata": {},
   "source": [
    "**Ejercicio:** Cree una nueva columna que identifique a los países finalistas del Mundial Qatar 2022 (Argentina y Francia)"
   ]
  },
  {
   "cell_type": "code",
   "execution_count": 30,
   "id": "caf57cdf",
   "metadata": {},
   "outputs": [],
   "source": [
    "# base['Finalista22']="
   ]
  },
  {
   "cell_type": "markdown",
   "id": "966de7b8",
   "metadata": {},
   "source": [
    "## Descripción de los datos\n",
    "\n",
    "Una manera de proceder para cumplir el objetivo del proyecto de analítica sería analizar los datos de 1952 y los de 2007, y comparar el cambio. Para simplificar el ejemplo y enfocarlo al ejercicio de esta sesión vamos a analizar únicamente los datos del año 2007. Por favor obtenga una base de datos que solo contenga estos registros y llámela \"base_final\"."
   ]
  },
  {
   "cell_type": "code",
   "execution_count": 31,
   "id": "29681d42",
   "metadata": {},
   "outputs": [],
   "source": [
    "# base_final = "
   ]
  },
  {
   "cell_type": "markdown",
   "id": "bc598eab",
   "metadata": {},
   "source": [
    "Ahora sí, vamos a proceder a analizar descriptivamente dos variables: una cualitativa y otra cuantitativa.\n",
    "\n",
    "### Variable cualitativa\n",
    "Tomemos como ejemplo la variable continente. Vimos en las diapositivas que existen dos formas de describir una variable cualitativa: de manera numérica y de manera gráfica.\n",
    "\n",
    "De manera numérica sería construir la tabla de frecuencias. La función estandar es la siguiente:"
   ]
  },
  {
   "cell_type": "code",
   "execution_count": 32,
   "id": "56d26b07",
   "metadata": {},
   "outputs": [
    {
     "ename": "NameError",
     "evalue": "name 'base_final' is not defined",
     "output_type": "error",
     "traceback": [
      "\u001b[1;31m---------------------------------------------------------------------------\u001b[0m",
      "\u001b[1;31mNameError\u001b[0m                                 Traceback (most recent call last)",
      "Cell \u001b[1;32mIn[32], line 1\u001b[0m\n\u001b[1;32m----> 1\u001b[0m \u001b[43mbase_final\u001b[49m[\u001b[38;5;124m'\u001b[39m\u001b[38;5;124mContinente\u001b[39m\u001b[38;5;124m'\u001b[39m]\u001b[38;5;241m.\u001b[39mvalue_counts()\n",
      "\u001b[1;31mNameError\u001b[0m: name 'base_final' is not defined"
     ]
    }
   ],
   "source": [
    "base_final['Continente'].value_counts()"
   ]
  },
  {
   "cell_type": "markdown",
   "id": "af370090",
   "metadata": {},
   "source": [
    "Otra función muy útil para realizar esta tareas es *crosstab*:"
   ]
  },
  {
   "cell_type": "code",
   "execution_count": null,
   "id": "90d1a625",
   "metadata": {},
   "outputs": [],
   "source": [
    "pd.crosstab(index=base_final[\"Continente\"],columns=\"count\")"
   ]
  },
  {
   "cell_type": "markdown",
   "id": "4f89b8d8",
   "metadata": {},
   "source": [
    "Recordemos que la tabla de frecuencias incluye también la frecuencia relativa:"
   ]
  },
  {
   "cell_type": "code",
   "execution_count": null,
   "id": "acb909fb",
   "metadata": {},
   "outputs": [],
   "source": [
    "tabla_freq=(pd.crosstab(index=base_final[\"Continente\"],columns=\"count\")).reset_index()\n",
    "tabla_freq['Freq. Rel.']=tabla_freq['count']/sum(tabla_freq['count'])\n",
    "tabla_freq.rename(columns={'count':'Freq. Abs.'},inplace=True)\n",
    "tabla_freq=tabla_freq.sort_values(by='Freq. Abs.',ascending=False).reset_index(drop=True)\n",
    "tabla_freq"
   ]
  },
  {
   "cell_type": "markdown",
   "id": "aa5add8c",
   "metadata": {},
   "source": [
    "Lo que podemos decir entonces es que Africa es el continente que más países tiene, mientras que Oceanía es el que menos.\n",
    "\n",
    "Ahora pasemos a describir de manera gráfica. Primero vamos a revisar la librería *matlibplot*:"
   ]
  },
  {
   "cell_type": "code",
   "execution_count": null,
   "id": "642d5d30",
   "metadata": {},
   "outputs": [],
   "source": [
    "fig_cont_fa = plt.figure()    ## Crea una figura bajo el nombre \"fig_cont_fa\"\n",
    "ax = fig_cont_fa.add_axes([0,0,1,1])     ## Crea los ejes de la gráfica donde (0,0) es la esquina inferor izquierda y \n",
    "                                          ## (1,1) la esquina superior derecha\n",
    "ax.bar(tabla_freq['Continente'],tabla_freq['Freq. Abs.'],color='lightskyblue')  ## Crea el gráfico de barras con los datos entregados\n",
    "ax.bar_label(ax.containers[0], label_type='edge',fmt='%.0f', padding=5)  ## Crea los labels sobre las barras\n",
    "ax.set(ylim=(0, 60))  ## Cambia los límites del eje Y (limite inferior a limite superior)\n",
    "plt.title(\"Número de países por continente\")  ## Título de la gráfica\n",
    "plt.ylabel('Frecuencia Absoluta')   ## Título del eje Y \n",
    "plt.xlabel('Continente')           ## Título del eje X\n",
    "plt.show()                       ## Muestra la figura"
   ]
  },
  {
   "cell_type": "markdown",
   "id": "e96a60f8",
   "metadata": {},
   "source": [
    "Para buscar colores para sus gráficas:\n",
    " - Paleta de colores de Pyhton la pueden encontrar aquí: https://www.webucator.com/article/python-color-constants-module/\n",
    " - https://www.w3schools.com/colors/colors_hexadecimal.asp (Códigos de color Hex)\n",
    " \n",
    "También podríamos hacer una gráfica de frecuencia relativa, que en la mayoría de los casos es lo más recomendable:"
   ]
  },
  {
   "cell_type": "code",
   "execution_count": null,
   "id": "68686ed3",
   "metadata": {},
   "outputs": [],
   "source": [
    "fig_cont_fr = plt.figure()    ## Crea una figura bajo el nombre \"fig_cont_fr\"\n",
    "ax = fig_cont_fr.add_axes([0,0,1,1])     ## Crea los ejes de la gráfica donde (0,0) es la esquina inferor izquierda y \n",
    "                                          ## (1,1) la esquina superior derecha\n",
    "ax.bar(tabla_freq['Continente'],tabla_freq['Freq. Rel.']*100,color='lightskyblue')  ## Crea el gráfico de barras con los datos entregados\n",
    "ax.bar_label(ax.containers[0], label_type='edge',fmt='%.2f%%')  ## Crea los labels sobre las barras\n",
    "ax.yaxis.set_major_formatter(mtick.PercentFormatter(xmax=100))  ## Cambia la unidad de medida del eje Y a porcentaje\n",
    "ax.set(ylim=(0, 50))  ## Cambia los límites del eje Y\n",
    "plt.title(\"Países por continente\")  ## Título de la gráfica\n",
    "plt.ylabel('Frecuencia Absoluta')   ## Título del eje Y \n",
    "plt.xlabel('Continente')           ## Título del eje X\n",
    "plt.show()  ## Muestra la figura"
   ]
  },
  {
   "cell_type": "markdown",
   "id": "7f5f485d",
   "metadata": {},
   "source": [
    "Ahora usemos la librería *seaborn* (¿Cuál es la diferencia?: https://datauntold.com/matplotlib-vs-seaborn/): "
   ]
  },
  {
   "cell_type": "code",
   "execution_count": null,
   "id": "76367aef",
   "metadata": {},
   "outputs": [],
   "source": [
    "fig_sns = plt.figure() \n",
    "ax = fig_sns.add_axes([0,0,1,1])\n",
    "ax=sns.barplot(x=tabla_freq[\"Continente\"],y=tabla_freq[\"Freq. Rel.\"]*100, color=\"steelblue\") ## aquí es el cambio\n",
    "ax.bar_label(ax.containers[0], label_type='edge',fmt='%.2f%%')  \n",
    "ax.yaxis.set_major_formatter(mtick.PercentFormatter(xmax=100)) \n",
    "ax.set(ylim=(0, 50))\n",
    "plt.show()  "
   ]
  },
  {
   "cell_type": "markdown",
   "id": "161458c0",
   "metadata": {},
   "source": [
    "Solo por revisarlo, construyamos un gráfico de torta:"
   ]
  },
  {
   "cell_type": "code",
   "execution_count": null,
   "id": "f92f05d8",
   "metadata": {},
   "outputs": [],
   "source": [
    "fig_torta = plt.figure() \n",
    "ax = fig_torta.add_axes([0,0,1,1])\n",
    "plt.pie(tabla_freq[\"Freq. Rel.\"], labels=tabla_freq[\"Continente\"],autopct='%1.1f%%',startangle=90)\n",
    "plt.show()"
   ]
  },
  {
   "cell_type": "markdown",
   "id": "77331e1f",
   "metadata": {},
   "source": [
    "### Variable cuantitativa\n",
    "Para nuestro ejemplo de describir una variable cuantitativa usemos la expectativa de vida. De manera numérica sería calcular las medidas de tendencial central, de dispersión y de posición:"
   ]
  },
  {
   "cell_type": "code",
   "execution_count": null,
   "id": "db8f5074",
   "metadata": {},
   "outputs": [],
   "source": [
    "base_final['Expectativa de vida'].describe()"
   ]
  },
  {
   "cell_type": "markdown",
   "id": "46fbe793",
   "metadata": {},
   "source": [
    "En modo dataframe:"
   ]
  },
  {
   "cell_type": "code",
   "execution_count": null,
   "id": "98a42fa6",
   "metadata": {},
   "outputs": [],
   "source": [
    "tabla_descriptivas=pd.DataFrame(base_final[['Expectativa de vida','Población']].describe())\n",
    "tabla_descriptivas"
   ]
  },
  {
   "cell_type": "markdown",
   "id": "8f102c5b",
   "metadata": {},
   "source": [
    "Lo único que está faltando de las medidas que vimos es el coeficiente de variación, el de asimetría y el de curtosis. Podemos crear una función que lo agregue."
   ]
  },
  {
   "cell_type": "code",
   "execution_count": null,
   "id": "092a41ef",
   "metadata": {},
   "outputs": [],
   "source": [
    "def fun_tabla_descriptivas(columnas):\n",
    "    tabla_descriptivas=pd.DataFrame(columnas.describe())\n",
    "    tabla_descriptivas.loc['coef. variation']=columnas.std()/columnas.mean()\n",
    "    tabla_descriptivas.loc['skew']=skew(columnas)\n",
    "    tabla_descriptivas.loc['kurtosis']=kurtosis(columnas)\n",
    "    return tabla_descriptivas"
   ]
  },
  {
   "cell_type": "code",
   "execution_count": null,
   "id": "9a81348c",
   "metadata": {},
   "outputs": [],
   "source": [
    "fun_tabla_descriptivas(base_final['Expectativa de vida'])"
   ]
  },
  {
   "cell_type": "markdown",
   "id": "58c74879",
   "metadata": {},
   "source": [
    "De esta manera, podríamos concluir que la distribución parece que es asimétrica negativa (es decir, con una cola larga hacia la izquierda) y es achatada. El centro de la distribución es aprox. 72 años y el 50% de los datos está agrupado entre 57 y 76 años.\n",
    "\n",
    "De manera gráfica usamos un boxplot o un histograma. Revisemos primero el boxplot:"
   ]
  },
  {
   "cell_type": "code",
   "execution_count": null,
   "id": "f133b77c",
   "metadata": {},
   "outputs": [],
   "source": [
    "fig_boxplot = plt.figure() \n",
    "ax = fig_sns.add_axes([0,0,1,1])\n",
    "ax=sns.boxplot(x=base_final['Expectativa de vida'],color=\"lightblue\")\n",
    "plt.show()  "
   ]
  },
  {
   "cell_type": "markdown",
   "id": "286eb6b0",
   "metadata": {},
   "source": [
    "El boxplot tiene una variante muy interesante que es mostrar la distribución de datos sobre el boxplot:"
   ]
  },
  {
   "cell_type": "code",
   "execution_count": null,
   "id": "f1b73bee",
   "metadata": {},
   "outputs": [],
   "source": [
    "fig_box2 = plt.figure() \n",
    "ax = fig_box2.add_axes([0,0,1,1])\n",
    "ax=sns.boxplot(x=base_final['Expectativa de vida'],color=\"lightblue\")\n",
    "ax = sns.swarmplot(x=base_final['Expectativa de vida'],color='black')\n",
    "plt.show()  "
   ]
  },
  {
   "cell_type": "markdown",
   "id": "09ba6f53",
   "metadata": {},
   "source": [
    "O también, podríamos mostrar el violin plot:"
   ]
  },
  {
   "cell_type": "code",
   "execution_count": null,
   "id": "355c68d5",
   "metadata": {},
   "outputs": [],
   "source": [
    "fig_violin = plt.figure() \n",
    "ax = fig_violin.add_axes([0,0,1,1])\n",
    "ax=sns.violinplot(x=base_final['Expectativa de vida'],color=\"lightblue\")\n",
    "plt.show() "
   ]
  },
  {
   "cell_type": "code",
   "execution_count": null,
   "id": "6db27de0",
   "metadata": {},
   "outputs": [],
   "source": [
    "fig_violin = plt.figure() \n",
    "ax = fig_violin.add_axes([0,0,1,1])\n",
    "ax=sns.violinplot(x=base_final['Expectativa de vida'],color=\"lightblue\")\n",
    "ax = sns.swarmplot(x=base_final['Expectativa de vida'],color='black')\n",
    "plt.show() "
   ]
  },
  {
   "cell_type": "markdown",
   "id": "51f45200",
   "metadata": {},
   "source": [
    "Finalmente, observemos el histograma:"
   ]
  },
  {
   "cell_type": "code",
   "execution_count": null,
   "id": "cab1d68b",
   "metadata": {},
   "outputs": [],
   "source": [
    "fig_hist = plt.figure() \n",
    "ax = fig_hist.add_axes([0,0,1,1])\n",
    "ax=sns.histplot(x=base_final['Expectativa de vida'],kde=True,color=\"steelblue\")\n",
    "plt.show() "
   ]
  },
  {
   "cell_type": "markdown",
   "id": "fe4be7e4",
   "metadata": {},
   "source": [
    "La clave de un histograma es cómo calcular el número de bins o el ancho de éstos. Observemos por ejemplo 15 bins:"
   ]
  },
  {
   "cell_type": "code",
   "execution_count": null,
   "id": "6969a4a4",
   "metadata": {},
   "outputs": [],
   "source": [
    "fig_hist = plt.figure() \n",
    "ax = fig_hist.add_axes([0,0,1,1])\n",
    "ax=sns.histplot(x=base_final['Expectativa de vida'],kde=True,color=\"steelblue\", bins=15)\n",
    "plt.show() "
   ]
  },
  {
   "cell_type": "code",
   "execution_count": null,
   "id": "1c5e336f",
   "metadata": {},
   "outputs": [],
   "source": [
    "fig_hist = plt.figure() \n",
    "ax = fig_hist.add_axes([0,0,1,1])\n",
    "ax=sns.histplot(x=base_final['Expectativa de vida'],kde=True,color=\"steelblue\", bins=25) # o 25\n",
    "plt.show() "
   ]
  },
  {
   "cell_type": "markdown",
   "id": "b3036fcd",
   "metadata": {},
   "source": [
    "También se puede modificar el número de bins al escoger el ancho de éstos:"
   ]
  },
  {
   "cell_type": "code",
   "execution_count": null,
   "id": "5382cd7e",
   "metadata": {},
   "outputs": [],
   "source": [
    "fig_hist = plt.figure() \n",
    "ax = fig_hist.add_axes([0,0,1,1])\n",
    "ax=sns.histplot(x=base_final['Expectativa de vida'],kde=True,color=\"steelblue\", binwidth=5)\n",
    "plt.show() "
   ]
  },
  {
   "cell_type": "markdown",
   "id": "c0ea07e5",
   "metadata": {},
   "source": [
    "¿Cómo escoger el número de bins? No existe una respuesta correcta. Una regla bien conocida en los cursos de estadística es la de Sturge: (1+3.322*LN(n)):"
   ]
  },
  {
   "cell_type": "code",
   "execution_count": null,
   "id": "816f0bb6",
   "metadata": {},
   "outputs": [],
   "source": [
    "fig_hist = plt.figure() \n",
    "ax = fig_hist.add_axes([0,0,1,1])\n",
    "ax=sns.histplot(x=base_final['Expectativa de vida'],kde=True,color=\"steelblue\", \n",
    "                bins=round(1+3.322*np.log(len(base_final['Expectativa de vida']))))\n",
    "plt.show() "
   ]
  },
  {
   "cell_type": "markdown",
   "id": "38b92036",
   "metadata": {},
   "source": [
    "Otra es la regla de Rice: (2*(n)^(1/3)):"
   ]
  },
  {
   "cell_type": "code",
   "execution_count": null,
   "id": "817dcf26",
   "metadata": {},
   "outputs": [],
   "source": [
    "fig_hist = plt.figure() \n",
    "ax = fig_hist.add_axes([0,0,1,1])\n",
    "ax=sns.histplot(x=base_final['Expectativa de vida'],kde=True,color=\"steelblue\", \n",
    "                bins=round(2*(len(base_final['Expectativa de vida']))**(1/3)))\n",
    "plt.show() "
   ]
  },
  {
   "cell_type": "markdown",
   "id": "313dc11f",
   "metadata": {},
   "source": [
    "Pregunta del millón: ¿por qué creen que existe esta distribución asimétrica donde parece que hay más de un centro?"
   ]
  },
  {
   "cell_type": "code",
   "execution_count": null,
   "id": "084602dd",
   "metadata": {},
   "outputs": [],
   "source": [
    "## Respuesta"
   ]
  },
  {
   "cell_type": "markdown",
   "id": "277d3ab8",
   "metadata": {},
   "source": [
    "---\n",
    "\n",
    "## Actividad para la casa\n",
    "\n",
    "Ahora filtre los datos para el año 1952 y responda lo siguiente:\n",
    "\n",
    " - ¿Cómo se distribuye la expectativa de vida de los países para el año 1952?\n",
    " - ¿Cambió la expectativa de vida de los países entre 1952 y 2007? Para esta pregunta abordarlo desde un punto de vista gráfico o comparando las medidas de tendencia central, dispersión y posición. Lo ideal es que muestra UNA SOLA tabla o gráfica donde se pueda comparar 1952 vs 2007 (sé que no hicimos algo similar en este tutorial, pero es importante que como cientificos de datos desarrollen la capacidad de autoaprendizaje buscando en Google, Blogs, Youtube, ChatGPTNO, etc.) NO se requiere ninguna prueba estadística, pues aún no hemos llegado a ellas."
   ]
  }
 ],
 "metadata": {
  "kernelspec": {
   "display_name": "Python 3",
   "language": "python",
   "name": "python3"
  },
  "language_info": {
   "codemirror_mode": {
    "name": "ipython",
    "version": 3
   },
   "file_extension": ".py",
   "mimetype": "text/x-python",
   "name": "python",
   "nbconvert_exporter": "python",
   "pygments_lexer": "ipython3",
   "version": "3.11.9"
  }
 },
 "nbformat": 4,
 "nbformat_minor": 5
}
